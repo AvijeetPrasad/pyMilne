{
 "cells": [
  {
   "cell_type": "code",
   "execution_count": null,
   "metadata": {},
   "outputs": [],
   "source": [
    "# Add the root directory to the path to allow importing the module\n",
    "import sys\n",
    "sys.path.append('..')"
   ]
  },
  {
   "cell_type": "code",
   "execution_count": null,
   "metadata": {},
   "outputs": [],
   "source": [
    "import numpy as np\n",
    "import matplotlib.pyplot as plt\n",
    "import MilneEddington as ME\n",
    "import crisp\n",
    "import imtools as im\n",
    "import time\n",
    "from astropy.io import fits\n",
    "print(\"All modules loaded\")"
   ]
  },
  {
   "cell_type": "code",
   "execution_count": null,
   "metadata": {},
   "outputs": [],
   "source": [
    "\n",
    "def loadFits(name):\n",
    "    return np.ascontiguousarray(fits.open(name, 'readonly')[0].data, dtype='float64')\n"
   ]
  },
  {
   "cell_type": "code",
   "execution_count": null,
   "metadata": {},
   "outputs": [],
   "source": [
    "def findgrid(w, dw, extra=5):\n",
    "    \"\"\"\n",
    "    Findgrid creates a regular wavelength grid \n",
    "    with a step of dw that includes all points in \n",
    "    input array w. It adds extra points at the edges\n",
    "    for convolution purposes\n",
    "\n",
    "    Returns the new array and the positions of the\n",
    "    wavelengths points from w in the new array\n",
    "    \"\"\"\n",
    "    nw = np.int32(np.rint(w/dw))\n",
    "    nnw = nw[-1] - nw[0] + 1 + 2*extra\n",
    "\n",
    "    iw = np.arange(nnw, dtype='float64')*dw - extra*dw + w[0]\n",
    "\n",
    "    idx = np.arange(w.size, dtype='int32')\n",
    "    for ii in range(w.size):\n",
    "        idx[ii] = np.argmin(np.abs(iw-w[ii]))\n",
    "\n",
    "    return iw, idx\n"
   ]
  },
  {
   "cell_type": "code",
   "execution_count": null,
   "metadata": {},
   "outputs": [],
   "source": [
    "\n",
    "class container:\n",
    "    def __init__(self):\n",
    "        pass"
   ]
  },
  {
   "cell_type": "code",
   "execution_count": null,
   "metadata": {},
   "outputs": [],
   "source": [
    "#\n",
    "# Decide to work in float32 or float64\n",
    "#\n",
    "dtype = 'float64'\n",
    "nthreads = 80"
   ]
  },
  {
   "cell_type": "code",
   "execution_count": null,
   "metadata": {},
   "outputs": [],
   "source": [
    "\n",
    "#\n",
    "# Load data, wavelength array and cmap\n",
    "#\n",
    "l = container()\n",
    "container.iwav = loadFits('crisp.6301_6302.2019-05-10_wave.fits')\n",
    "container.d = loadFits('crisp.6301_6302.2019-05-10_data.fits')\n",
    "container.cmap = loadFits('crisp.6301_6302.2019-05-10_cmap.fits')"
   ]
  },
  {
   "cell_type": "code",
   "execution_count": null,
   "metadata": {},
   "outputs": [],
   "source": [
    "\n",
    "# The inversions need to account for the instrumental\n",
    "# profile, which involve convolutions. The convolutions\n",
    "# must be done in a wavelength grid that is at least\n",
    "# 1/2 of the FWHM of the instrumental profile. In the\n",
    "# case of CRISP that would be ~55 mA / 2 = ~27.5 mA\n",
    "#\n",
    "# Get finer grid for convolutions purposes\n",
    "# Since we only observed at the lines, let's create\n",
    "# two regions, one for each line\n",
    "#\n",
    "# The observed line positions are not equidistant, the\n",
    "# Fe I 6301 points only fit into a regular grid of 5 mA\n",
    "# whereas the Fe I 6302 can fit into a 15 mA grid\n",
    "#\n",
    "iw1, idx1 = findgrid(l.iwav[0:17], 0.005)  # Fe I 6301\n",
    "iw2, idx2 = findgrid(l.iwav[17::], 0.015)  # Fe I 6302"
   ]
  },
  {
   "cell_type": "code",
   "execution_count": null,
   "metadata": {},
   "outputs": [],
   "source": [
    "\n",
    "#\n",
    "# Now we can concatenate both regions for plotting and\n",
    "# manipulating the data\n",
    "#\n",
    "iw = np.append(iw1, iw2)\n",
    "idx = np.append(idx1, idx2 + iw1.size)"
   ]
  },
  {
   "cell_type": "code",
   "execution_count": null,
   "metadata": {},
   "outputs": [],
   "source": [
    "\n",
    "#\n",
    "# Now we need to create a data cube with the fine grid\n",
    "# dimensions. All observed points will contribute to the\n",
    "# inversion. The non-observed ones will have zero weight\n",
    "# but will be used internally to properly perform the\n",
    "# convolution of the synthetic spectra\n",
    "#\n",
    "ny, nx = l.d.shape[0:2]\n",
    "obs = np.zeros((ny, nx, 4, iw.size), dtype=dtype, order='c')\n",
    "\n",
    "for ss in range(4):\n",
    "    for ii in range(idx.size):\n",
    "        obs[:, :, ss, idx[ii]] = l.d[:, :, ss, ii]\n"
   ]
  },
  {
   "cell_type": "code",
   "execution_count": null,
   "metadata": {},
   "outputs": [],
   "source": [
    "\n",
    "#\n",
    "# Create sigma array with the estimate of the noise for\n",
    "# each Stokes parameter at all wavelengths. The extra\n",
    "# non-observed points will have a very large noise (1.e34)\n",
    "# (zero weight) compared to the observed ones (3.e-3)\n",
    "#\n",
    "sig = np.zeros((4, iw.size), dtype=dtype) + 1.e32\n",
    "sig[:, idx] = 3.e-3\n"
   ]
  },
  {
   "cell_type": "code",
   "execution_count": null,
   "metadata": {},
   "outputs": [],
   "source": [
    "\n",
    "#\n",
    "# Since the amplitudes of Stokes Q,U and V are very small\n",
    "# they have a low imprint in Chi2. We can artificially\n",
    "# give them more weight by lowering the noise estimate.\n",
    "#\n",
    "sig[1:3, idx] /= 10\n",
    "sig[3, idx] /= 3.5\n"
   ]
  },
  {
   "cell_type": "code",
   "execution_count": null,
   "metadata": {},
   "outputs": [],
   "source": [
    "\n",
    "#\n",
    "# Init Me class. We need to create two regions with the\n",
    "# wavelength arrays defined above and a instrumental profile\n",
    "# for each region in with the same wavelength step\n",
    "#\n",
    "tw1 = (np.arange(75, dtype=dtype)-75//2)*0.005\n",
    "tw2 = (np.arange(25, dtype=dtype)-25//2)*0.015\n"
   ]
  },
  {
   "cell_type": "code",
   "execution_count": null,
   "metadata": {},
   "outputs": [],
   "source": [
    "\n",
    "tr1 = crisp.crisp(6302.0).dual_fpi(tw1, erh=-0.001)\n",
    "tr2 = crisp.crisp(6302.0).dual_fpi(tw2, erh=-0.001)\n",
    "\n",
    "regions = [[iw1 + 6302.4931, tr1/tr1.sum()], [iw2 + 6302.4931,\n",
    "                                                tr2/tr2.sum()]]\n",
    "lines = [6301, 6302]\n",
    "me = ME.MilneEddington(regions, lines, nthreads=nthreads, precision=dtype)\n"
   ]
  },
  {
   "cell_type": "code",
   "execution_count": null,
   "metadata": {},
   "outputs": [],
   "source": [
    "\n",
    "#\n",
    "# Init model parameters\n",
    "#\n",
    "iPar = np.float64([1500, 2.2, 1.0, -0.5, 0.035, 50., 0.1, 0.24, 0.7])\n",
    "Imodel = me.repeat_model(iPar, ny, nx)\n"
   ]
  },
  {
   "cell_type": "code",
   "execution_count": null,
   "metadata": {},
   "outputs": [],
   "source": [
    "\n",
    "#\n",
    "# Run a first cycle with 4 inversions of each pixel (1 + 3 randomizations)\n",
    "#\n",
    "t0 = time.time()\n",
    "mo, syn, chi2 = me.invert_spatially_regularized(Imodel, obs, sig,  nIter=25, chi2_thres=1.0, mu=0.93, alpha=30., alphas=np.float32([\n",
    "                                                2, 0.5, 2, 0.01, 0.1, 0.01, 0.1, 0.01, 0.01]), method=1, delay_bracket=3)\n",
    "t1 = time.time()\n",
    "print(\"dT = {0}s -> <Chi2> (including regularization) = {1}\".format(t1-t0, chi2))\n"
   ]
  },
  {
   "cell_type": "code",
   "execution_count": null,
   "metadata": {},
   "outputs": [],
   "source": [
    "\n",
    "#\n",
    "# Correct velocities for cavity error map from CRISP\n",
    "#\n",
    "mos = np.squeeze(mo) # Remove the singleton dimension in the model and make the shape (ny, nx, 9) from (1, ny, nx, 9)\n",
    "mos[:,:,3] += l.cmap+0.45 # The 0.45 is a global offset that seems to make the umbra at rest\n"
   ]
  },
  {
   "cell_type": "code",
   "execution_count": null,
   "metadata": {},
   "outputs": [],
   "source": [
    "\n",
    "#\n",
    "# make plots\n",
    "#\n",
    "# plt.ion()\n",
    "f, ax = plt.subplots(nrows=3, ncols=3, figsize=(11, 4))\n",
    "ax1 = ax.flatten()\n",
    "\n",
    "cmaps = ['gist_gray', 'RdGy', 'RdGy', 'bwr', 'gist_gray', 'gist_gray',\n",
    "            'gist_gray', 'gist_gray', 'gist_gray']\n",
    "labels = ['B [G]', 'inc [rad]', 'azi [rad]', 'Vlos [km/s]', \n",
    "            'vDop [Angstroms]', 'lineop', 'damp', 'S0', 'S1']\n",
    "\n",
    "extent = np.float32((0, nx, 0, ny))*0.059\n",
    "for ii in range(9):\n",
    "    if (ii != 3):\n",
    "        a = ax1[ii].imshow(im.histo_opt(mos[:, :, ii]), cmap=cmaps[ii],\n",
    "                            interpolation='nearest', extent=extent, aspect='equal')\n",
    "    else:\n",
    "        a = ax1[ii].imshow(mos[:, :, ii], cmap=cmaps[ii], interpolation='nearest',\n",
    "                            extent=extent, vmax=4, vmin=-4, aspect='equal')\n",
    "    f.colorbar(a, ax=ax1[ii], orientation='vertical', label=labels[ii])\n",
    "\n",
    "for jj in range(3):\n",
    "    for ii in range(3):\n",
    "        if (jj != 2):\n",
    "            ax[jj, ii].set_xticklabels([])\n",
    "        if (ii != 0):\n",
    "            ax[jj, ii].set_yticklabels([])\n",
    "\n",
    "f.set_tight_layout(True)\n",
    "print(\"saving figure with results -> fig_results.pdf\")\n",
    "f.savefig('fig_results.pdf', dpi=250, format='pdf')\n",
    "f.show()\n"
   ]
  }
 ],
 "metadata": {
  "kernelspec": {
   "display_name": "pymilne",
   "language": "python",
   "name": "python3"
  },
  "language_info": {
   "codemirror_mode": {
    "name": "ipython",
    "version": 3
   },
   "file_extension": ".py",
   "mimetype": "text/x-python",
   "name": "python",
   "nbconvert_exporter": "python",
   "pygments_lexer": "ipython3",
   "version": "3.12.0"
  }
 },
 "nbformat": 4,
 "nbformat_minor": 2
}
