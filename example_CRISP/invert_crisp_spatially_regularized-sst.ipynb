{
 "cells": [
  {
   "cell_type": "code",
   "execution_count": null,
   "metadata": {},
   "outputs": [],
   "source": [
    "# Add the root directory to the path to allow importing the module\n",
    "import sys\n",
    "sys.path.append('/mn/stornext/u3/avijeetp/codes/ISPy')\n",
    "sys.path.append('/mn/stornext/u3/avijeetp/codes/pyMilne')"
   ]
  },
  {
   "cell_type": "code",
   "execution_count": null,
   "metadata": {},
   "outputs": [],
   "source": [
    "import numpy as np\n",
    "import matplotlib.pyplot as plt\n",
    "import MilneEddington as ME\n",
    "import crisp\n",
    "import imtools as im\n",
    "import time\n",
    "from astropy.io import fits\n",
    "from ISPy.io import solarnet\n",
    "from einops import rearrange\n",
    "print(\"All modules loaded\")"
   ]
  },
  {
   "cell_type": "code",
   "execution_count": null,
   "metadata": {},
   "outputs": [],
   "source": [
    "\n",
    "def loadFits(name, tt=0):\n",
    "    datafits = fits.open(name, 'readonly')[0].data[tt,...]\n",
    "    # Fill nans with 0s:\n",
    "    datafits = np.nan_to_num(datafits)\n",
    "    # Normalize the data to average:\n",
    "    qs_nom = np.nanmean(datafits[0,0,:,:])\n",
    "    datafits = rearrange(datafits, 'ns nw ny nx -> ny nx ns nw')/qs_nom\n",
    "    return np.ascontiguousarray(datafits, dtype='float64')\n"
   ]
  },
  {
   "cell_type": "code",
   "execution_count": null,
   "metadata": {},
   "outputs": [],
   "source": [
    "def loadCmap(name, tt=0):\n",
    "    \"\"\"\n",
    "    Load the 'WCSDVARR' key from a FITS file for a specific time index and fill NaNs with 0s.\n",
    "\n",
    "    Parameters:\n",
    "    name (str): The name of the FITS file.\n",
    "    tt (int): The time index.\n",
    "\n",
    "    Returns:\n",
    "    np.ndarray: The dlambda array for the specified time index.\n",
    "    \"\"\"\n",
    "    with fits.open(name, 'readonly') as hdulist:\n",
    "        # Extract the data for the specific time index tt\n",
    "        dlambda = hdulist['WCSDVARR'].data[tt,0,0,:,:]\n",
    "\n",
    "    # Fill NaNs with 0s\n",
    "    dlambda = np.nan_to_num(dlambda)\n",
    "\n",
    "    return np.ascontiguousarray(dlambda, dtype='float64')"
   ]
  },
  {
   "cell_type": "code",
   "execution_count": null,
   "metadata": {},
   "outputs": [],
   "source": [
    "def getWavelengths(name):\n",
    "    wav_array = solarnet.get_wav(name) * 10 # convert from nm to Angstrom\n",
    "    return np.ascontiguousarray(wav_array, dtype='float64')"
   ]
  },
  {
   "cell_type": "code",
   "execution_count": null,
   "metadata": {},
   "outputs": [],
   "source": [
    "def findgrid(w, dw, extra=5):\n",
    "    \"\"\"\n",
    "    Findgrid creates a regular wavelength grid \n",
    "    with a step of dw that includes all points in \n",
    "    input array w. It adds extra points at the edges\n",
    "    for convolution purposes\n",
    "\n",
    "    Returns the new array and the positions of the\n",
    "    wavelengths points from w in the new array\n",
    "    \"\"\"\n",
    "    nw = np.int32(np.rint(w/dw))\n",
    "    nnw = nw[-1] - nw[0] + 1 + 2*extra\n",
    "\n",
    "    iw = np.arange(nnw, dtype='float64')*dw - extra*dw + w[0]\n",
    "\n",
    "    idx = np.arange(w.size, dtype='int32')\n",
    "    for ii in range(w.size):\n",
    "        idx[ii] = np.argmin(np.abs(iw-w[ii]))\n",
    "\n",
    "    return iw, idx\n"
   ]
  },
  {
   "cell_type": "code",
   "execution_count": null,
   "metadata": {},
   "outputs": [],
   "source": [
    "\n",
    "class container:\n",
    "    def __init__(self):\n",
    "        pass"
   ]
  },
  {
   "cell_type": "code",
   "execution_count": null,
   "metadata": {},
   "outputs": [],
   "source": [
    "#\n",
    "# Decide to work in float32 or float64\n",
    "#\n",
    "dtype = 'float32'\n",
    "nthreads = 80"
   ]
  },
  {
   "cell_type": "code",
   "execution_count": null,
   "metadata": {},
   "outputs": [],
   "source": [
    "# datadir = '/mn/stornext/d18/lapalma/reduc/2020/2020-08-07/CRISP/cubes_nb/'\n",
    "# crisp_im_file = 'nb_6173_2020-08-07T08:22:14_scans=0-56_stokes_corrected_im.fits'\n",
    "datadir = '/mn/stornext/d18/lapalma/reduc/2024/2024-05-21/CRISP/cubes_nb/'\n",
    "crisp_im_file = 'nb_6173_2024-05-21T10:19:04_10:19:04=0-52_stokes_corrected_im.fits'\n",
    "crisp_im = datadir + crisp_im_file"
   ]
  },
  {
   "cell_type": "code",
   "execution_count": null,
   "metadata": {},
   "outputs": [],
   "source": [
    "\n",
    "#\n",
    "# Load data, wavelength array and cmap\n",
    "#\n",
    "l = container()\n",
    "container.iwav = getWavelengths(crisp_im)\n",
    "container.d = loadFits(crisp_im, tt=0) \n",
    "container.cmap = loadCmap(crisp_im, tt=0)"
   ]
  },
  {
   "cell_type": "code",
   "execution_count": null,
   "metadata": {},
   "outputs": [],
   "source": [
    "l.iwav\n",
    "\n",
    "# Minimum step:\n",
    "dw = np.min(np.diff(l.iwav))\n",
    "# dw = round((lambda*10. - lc) * 1000.) ; offset in mA\n",
    "dw = round(dw*1000.)/1000. # avoid floating point errors\n",
    "\n",
    "dw\n"
   ]
  },
  {
   "cell_type": "code",
   "execution_count": null,
   "metadata": {},
   "outputs": [],
   "source": [
    "\n",
    "# The inversions need to account for the instrumental\n",
    "# profile, which involve convolutions. The convolutions\n",
    "# must be done in a wavelength grid that is at least\n",
    "# 1/2 of the FWHM of the instrumental profile. In the\n",
    "# case of CRISP that would be ~55 mA / 2 = ~27.5 mA\n",
    "#\n",
    "# Get finer grid for convolutions purposes\n",
    "# Since we only observed at the lines, let's create\n",
    "# two regions, one for each line\n",
    "#\n",
    "# The observed line positions are not equidistant, the\n",
    "# Fe I 6301 points only fit into a regular grid of 5 mA\n",
    "# whereas the Fe I 6302 can fit into a 15 mA grid\n",
    "#\n",
    "iw, idx = findgrid(l.iwav, dw)  # Fe I 6173\n",
    "\n",
    "print(iw,  idx)"
   ]
  },
  {
   "cell_type": "code",
   "execution_count": null,
   "metadata": {},
   "outputs": [],
   "source": [
    "l.d.shape"
   ]
  },
  {
   "cell_type": "code",
   "execution_count": null,
   "metadata": {},
   "outputs": [],
   "source": [
    "\n",
    "#\n",
    "# Now we need to create a data cube with the fine grid\n",
    "# dimensions. All observed points will contribute to the\n",
    "# inversion. The non-observed ones will have zero weight\n",
    "# but will be used internally to properly perform the\n",
    "# convolution of the synthetic spectra\n",
    "#\n",
    "\n",
    "\n",
    "ny, nx = l.d.shape[0:2]\n",
    "obs = np.zeros((ny, nx, 4, iw.size), dtype=dtype, order='c')\n",
    "\n",
    "for ss in range(4):\n",
    "    for ii in range(idx.size):\n",
    "        obs[:, :, ss, idx[ii]] = l.d[:, :, ss, ii]\n"
   ]
  },
  {
   "cell_type": "code",
   "execution_count": null,
   "metadata": {},
   "outputs": [],
   "source": [
    "\n",
    "#\n",
    "# Create sigma array with the estimate of the noise for\n",
    "# each Stokes parameter at all wavelengths. The extra\n",
    "# non-observed points will have a very large noise (1.e34)\n",
    "# (zero weight) compared to the observed ones (3.e-3)\n",
    "# Since the amplitudes of Stokes Q,U and V are very small\n",
    "# they have a low imprint in Chi2. We can artificially\n",
    "# give them more weight by lowering the noise estimate.\n",
    "#\n",
    "sig = np.zeros((4, iw.size), dtype=dtype) + 1.e32\n",
    "sig[:, idx] = 5.e-3\n",
    "sig[1:2, idx] /= 9.0\n",
    "sig[3, idx] /= 4.0\n",
    "\n"
   ]
  },
  {
   "cell_type": "code",
   "execution_count": null,
   "metadata": {},
   "outputs": [],
   "source": [
    "\n",
    "#\n",
    "# Init Me class. We need to create two regions with the\n",
    "# wavelength arrays defined above and a instrumental profile\n",
    "# for each region in with the same wavelength step\n",
    "#\n",
    "tw = (np.arange(iw.size, dtype=dtype)-iw.size//2)*dw\n"
   ]
  },
  {
   "cell_type": "code",
   "execution_count": null,
   "metadata": {},
   "outputs": [],
   "source": [
    "# Central wavelength of the line:\n",
    "l0 = iw[iw.size//2]\n",
    "tr = crisp.crisp(l0).dual_fpi(tw, erh=-0.001)\n",
    "\n",
    "regions = [[iw, tr/tr.sum()]]\n",
    "lines = [int(l0)]\n",
    "me = ME.MilneEddington(regions, lines, nthreads=nthreads, precision=dtype)\n"
   ]
  },
  {
   "cell_type": "code",
   "execution_count": null,
   "metadata": {},
   "outputs": [],
   "source": [
    "\n",
    "#\n",
    "# Init model parameters\n",
    "#\n",
    "iPar = np.float64([1500, 2.2, 1.0, -0.5, 0.035, 50., 0.1, 0.24, 0.7]) # [B_tot, theta_B, chi_B, gamma_B, v_los, eta_0, Doppler width, damping, s0, s1]\n",
    "Imodel = me.repeat_model(iPar, ny, nx)\n"
   ]
  },
  {
   "cell_type": "code",
   "execution_count": null,
   "metadata": {},
   "outputs": [],
   "source": [
    "#\n",
    "# Run a first cycle with 4 inversions of each pixel (1 + 3 randomizations) of simple pixel-wise inversion\n",
    "#\n",
    "t0 = time.time()\n",
    "Imodel, syn, chi2 = me.invert(\n",
    "    Imodel, obs, sig, nRandom=4, nIter=25, chi2_thres=1.0, mu=0.54184232)\n",
    "t1 = time.time()\n",
    "print(\"dT = {0}s -> <Chi2> = {1}\".format(t1-t0, chi2.mean()))"
   ]
  },
  {
   "cell_type": "code",
   "execution_count": null,
   "metadata": {},
   "outputs": [],
   "source": [
    "def plot_output(mos):\n",
    "    f, ax = plt.subplots(nrows=3, ncols=3, figsize=(30, 30))\n",
    "    ax1 = ax.flatten()\n",
    "\n",
    "    cmaps = ['gist_gray', 'RdGy', 'RdGy', 'bwr', 'gist_gray', 'gist_gray',\n",
    "                'gist_gray', 'gist_gray', 'gist_gray']\n",
    "    labels = ['B [G]', 'inc [rad]', 'azi [rad]', 'Vlos [km/s]', \n",
    "                'vDop [Angstroms]', 'lineop', 'damp', 'S0', 'S1']\n",
    "\n",
    "    extent = np.float32((0, nx, 0, ny))*0.059\n",
    "    for ii in range(9):\n",
    "        if (ii != 3):\n",
    "            a = ax1[ii].imshow(im.histo_opt(mos[:, :, ii]), cmap=cmaps[ii],\n",
    "                                interpolation='nearest', extent=extent, aspect='equal')\n",
    "        else:\n",
    "            a = ax1[ii].imshow(mos[:, :, ii], cmap=cmaps[ii], interpolation='nearest',\n",
    "                                extent=extent, vmax=4, vmin=-4, aspect='equal')\n",
    "        f.colorbar(a, ax=ax1[ii], orientation='vertical', label=labels[ii])\n",
    "\n",
    "    for jj in range(3):\n",
    "        for ii in range(3):\n",
    "            if (jj != 2):\n",
    "                ax[jj, ii].set_xticklabels([])\n",
    "            if (ii != 0):\n",
    "                ax[jj, ii].set_yticklabels([])\n",
    "\n",
    "    f.set_tight_layout(True)\n",
    "    print(\"saving figure with results -> fig_results.pdf\")\n",
    "    f.savefig('fig_results.pdf', dpi=250, format='pdf')\n",
    "    f.show()\n",
    "\n",
    "\n",
    "    # Create a new figure with two subplots\n",
    "    f2, ax2 = plt.subplots(nrows=1, ncols=2, figsize=(20, 10))\n",
    "\n",
    "    # Blos map:\n",
    "    Blos = mos[:, :, 0] * np.cos(mos[:, :, 1])\n",
    "    im1 = ax2[0].imshow(np.rot90(Blos.T), cmap='Greys_r', interpolation='nearest', aspect='equal', vmin=-1500, vmax=1500)\n",
    "    plt.colorbar(im1, ax=ax2[0])\n",
    "\n",
    "    # Bhor map:\n",
    "    Bhor = mos[:, :, 0] * np.sin(mos[:, :, 1])\n",
    "    im2 = ax2[1].imshow(np.rot90(Bhor.T), cmap='Greys_r', interpolation='nearest', aspect='equal', vmin=-1500, vmax=1500)\n",
    "    plt.colorbar(im2, ax=ax2[1])\n",
    "\n",
    "    # Display the figure\n",
    "    f2.show()\n",
    "    "
   ]
  },
  {
   "cell_type": "code",
   "execution_count": null,
   "metadata": {},
   "outputs": [],
   "source": [
    "plot_output(np.squeeze(Imodel))\n",
    "\n",
    "# nRandom = 4:\n",
    "# 1) inversion from Imodel during nIter iterations\n",
    "# 2 and later=> inversion from Imodel + np.random(0.,x) using nIter iterations\n",
    "\n"
   ]
  },
  {
   "cell_type": "code",
   "execution_count": null,
   "metadata": {},
   "outputs": [],
   "source": [
    "#\n",
    "# Run second cycle, starting from the smoothed guessed model\n",
    "#\n",
    "t0 = time.time()\n",
    "Imodel, syn, chi2 = me.invert(\n",
    "    Imodel, obs, sig, nRandom=1, nIter=25, chi2_thres=1.0, mu=0.54184232)\n",
    "t1 = time.time()\n",
    "print(\"dT = {0}s -> <Chi2> = {1}\".format(t1-t0, chi2.mean()))"
   ]
  },
  {
   "cell_type": "code",
   "execution_count": null,
   "metadata": {},
   "outputs": [],
   "source": [
    "plot_output(np.squeeze(Imodel))"
   ]
  },
  {
   "cell_type": "code",
   "execution_count": null,
   "metadata": {},
   "outputs": [],
   "source": [
    "\n",
    "#\n",
    "# Run a first cycle with 4 inversions of each pixel (1 + 3 randomizations)\n",
    "#\n",
    "t0 = time.time()\n",
    "mo, syn, chi2 = me.invert_spatially_regularized(Imodel, obs, sig,  nIter=25, chi2_thres=1.0, mu=0.54184232, alpha=30., alphas=np.float32([\n",
    "                                                2, 0.5, 2, 0.01, 0.1, 0.01, 0.1, 0.01, 0.01]), method=1, delay_bracket=3)\n",
    "t1 = time.time()\n",
    "print(\"dT = {0}s -> <Chi2> (including regularization) = {1}\".format(t1-t0, chi2))\n"
   ]
  },
  {
   "cell_type": "code",
   "execution_count": null,
   "metadata": {},
   "outputs": [],
   "source": [
    "\n",
    "mos = np.squeeze(mo)\n",
    "plot_output(mos)"
   ]
  },
  {
   "cell_type": "code",
   "execution_count": null,
   "metadata": {},
   "outputs": [],
   "source": [
    "l.cmap.shape"
   ]
  },
  {
   "cell_type": "code",
   "execution_count": null,
   "metadata": {},
   "outputs": [],
   "source": []
  },
  {
   "cell_type": "code",
   "execution_count": null,
   "metadata": {},
   "outputs": [],
   "source": [
    "\n",
    "#\n",
    "# Correct velocities for cavity error map from CRISP\n",
    "#\n",
    "mos = np.squeeze(mo) # Remove the singleton dimension in the model and make the shape (ny, nx, 9) from (1, ny, nx, 9)\n",
    "v_cmap_corrected = mos[:,:,3] + (l.cmap * 10) / l0 * 2.9e5\n",
    "# mos[:,:,3] += l.cmap+0.45 # The 0.45 is a global offset that seems to make the umbra at rest\n"
   ]
  },
  {
   "cell_type": "code",
   "execution_count": null,
   "metadata": {},
   "outputs": [],
   "source": [
    "# imshow mos[:,:,3] and v_cmap_corrected to see the difference\n",
    "fig = plt.figure(figsize=(20, 10))\n",
    "ax1 = fig.add_subplot(121)\n",
    "ax2 = fig.add_subplot(122)\n",
    "im = ax1.imshow(mos[:,:,3], cmap='seismic', interpolation='nearest', aspect='equal')\n",
    "im2 = ax2.imshow(v_cmap_corrected, cmap='seismic', interpolation='nearest', aspect='equal')\n",
    "# add colorbars\n",
    "plt.colorbar(im, ax=ax1)\n",
    "plt.colorbar(im2, ax=ax2)\n",
    "\n",
    "plt.show()\n"
   ]
  },
  {
   "cell_type": "code",
   "execution_count": null,
   "metadata": {},
   "outputs": [],
   "source": [
    "mos[:,:,3].shape"
   ]
  },
  {
   "cell_type": "code",
   "execution_count": null,
   "metadata": {},
   "outputs": [],
   "source": [
    "l.cmap.shape"
   ]
  },
  {
   "cell_type": "code",
   "execution_count": null,
   "metadata": {},
   "outputs": [],
   "source": [
    "mos[:,:,3][500,500]"
   ]
  },
  {
   "cell_type": "code",
   "execution_count": null,
   "metadata": {},
   "outputs": [],
   "source": [
    "l.cmap[500,500]"
   ]
  },
  {
   "cell_type": "code",
   "execution_count": null,
   "metadata": {},
   "outputs": [],
   "source": []
  },
  {
   "cell_type": "code",
   "execution_count": null,
   "metadata": {},
   "outputs": [],
   "source": [
    "\n",
    "#\n",
    "# make plots\n",
    "#\n",
    "# plt.ion()\n",
    "f, ax = plt.subplots(nrows=3, ncols=3, figsize=(30, 30))\n",
    "ax1 = ax.flatten()\n",
    "\n",
    "cmaps = ['gist_gray', 'RdGy', 'RdGy', 'bwr', 'gist_gray', 'gist_gray',\n",
    "            'gist_gray', 'gist_gray', 'gist_gray']\n",
    "labels = ['B [G]', 'inc [rad]', 'azi [rad]', 'Vlos [km/s]', \n",
    "            'vDop [Angstroms]', 'lineop', 'damp', 'S0', 'S1']\n",
    "\n",
    "extent = np.float32((0, nx, 0, ny))*0.059\n",
    "for ii in range(9):\n",
    "    if (ii != 3):\n",
    "        a = ax1[ii].imshow(im.histo_opt(mos[:, :, ii]), cmap=cmaps[ii],\n",
    "                            interpolation='nearest', extent=extent, aspect='equal')\n",
    "    else:\n",
    "        a = ax1[ii].imshow(mos[:, :, ii], cmap=cmaps[ii], interpolation='nearest',\n",
    "                            extent=extent, vmax=4, vmin=-4, aspect='equal')\n",
    "    f.colorbar(a, ax=ax1[ii], orientation='vertical', label=labels[ii])\n",
    "\n",
    "for jj in range(3):\n",
    "    for ii in range(3):\n",
    "        if (jj != 2):\n",
    "            ax[jj, ii].set_xticklabels([])\n",
    "        if (ii != 0):\n",
    "            ax[jj, ii].set_yticklabels([])\n",
    "\n",
    "f.set_tight_layout(True)\n",
    "print(\"saving figure with results -> fig_results.pdf\")\n",
    "f.savefig('fig_results.pdf', dpi=250, format='pdf')\n",
    "f.show()\n"
   ]
  },
  {
   "cell_type": "code",
   "execution_count": null,
   "metadata": {},
   "outputs": [],
   "source": []
  },
  {
   "cell_type": "code",
   "execution_count": null,
   "metadata": {},
   "outputs": [],
   "source": []
  }
 ],
 "metadata": {
  "kernelspec": {
   "display_name": "pymilne",
   "language": "python",
   "name": "python3"
  },
  "language_info": {
   "codemirror_mode": {
    "name": "ipython",
    "version": 3
   },
   "file_extension": ".py",
   "mimetype": "text/x-python",
   "name": "python",
   "nbconvert_exporter": "python",
   "pygments_lexer": "ipython3",
   "version": "3.1.-1"
  }
 },
 "nbformat": 4,
 "nbformat_minor": 2
}
