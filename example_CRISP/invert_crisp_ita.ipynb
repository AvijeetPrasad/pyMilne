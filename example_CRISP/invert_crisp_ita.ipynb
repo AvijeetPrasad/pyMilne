{
 "cells": [
  {
   "cell_type": "code",
   "execution_count": null,
   "metadata": {},
   "outputs": [],
   "source": [
    "import os\n",
    "import numpy as np\n",
    "import MilneEddington as ME\n",
    "import crisp\n",
    "import time\n",
    "import warnings\n",
    "# Suppress the specific warning\n",
    "warnings.filterwarnings(\"ignore\", message=\"The value of the smallest subnormal for <class 'numpy.float32'> type is zero\")\n",
    "warnings.filterwarnings(\"ignore\", message=\"The value of the smallest subnormal for <class 'numpy.float64'> type is zero\")\n",
    "import inv_utils as iu\n",
    "from helita.io import lp\n",
    "from lp_scripts.get_fov_angle import fov_angle\n",
    "from hmi_plot import plot_hmi_ic_mag, plot_sst_pointings"
   ]
  },
  {
   "cell_type": "code",
   "execution_count": null,
   "metadata": {},
   "outputs": [],
   "source": [
    "import importlib\n",
    "importlib.reload(iu)\n",
    "print('reloaded') "
   ]
  },
  {
   "cell_type": "code",
   "execution_count": null,
   "metadata": {},
   "outputs": [],
   "source": [
    "### Small scale anemone jet \n",
    "\n",
    "# datadir = '/mn/stornext/d18/lapalma/reduc/2024/2024-05-21/CRISP/cubes_nb/'\n",
    "# crisp_im = datadir + 'nb_6173_2024-05-21T10:19:04_10:19:04=0-52_stokes_corrected_im.fits'\n",
    "# blos_cube = datadir + 'Blos.6173_2024-05-21T10:19:04.icube'\n",
    "# bhor_cube = datadir + 'Bhor.6173_2024-05-21T10:19:04.icube'\n",
    "# xorg = 1110\n",
    "# xsize = 800\n",
    "# yorg = 570\n",
    "# ysize = 800\n",
    "# tt = 8\n",
    "# is_north_up = True\n",
    "# shape = 'circle'\n",
    "# scale = 0.044 # arcsec/pixel\n",
    "# crop = False"
   ]
  },
  {
   "cell_type": "code",
   "execution_count": null,
   "metadata": {},
   "outputs": [],
   "source": [
    "### Sunspot data set close to center also observed with Hinode\n",
    "\n",
    "# datadir = '/mn/stornext/d18/lapalma/reduc/2020/2020-08-07/CRISP/cubes_nb/'\n",
    "# crisp_im = datadir + 'nb_6173_2020-08-07T08:22:14_scans=0-56_stokes_corrected_im.fits'\n",
    "# blos_cube = datadir + 'Blos.6173_2020-08-07T08:22:14.icube'\n",
    "# bhor_cube = datadir + 'Bhor.6173_2020-08-07T08:22:14.icube'\n",
    "# xorg = 200\n",
    "# xsize = 480\n",
    "# yorg = 360\n",
    "# ysize = 400\n",
    "# tt = 0\n",
    "# scale = 0.058 # arcsec/pixel\n",
    "# is_north_up = False\n",
    "# crop = False\n",
    "# shape = 'square'"
   ]
  },
  {
   "cell_type": "code",
   "execution_count": null,
   "metadata": {},
   "outputs": [],
   "source": [
    "### QS dataset used by Aditi\n",
    "\n",
    "# datadir = '/mn/stornext/d18/lapalma/reduc/2021/2021-06-22/CRISP/cubes_nb/'\n",
    "# crisp_im = datadir + 'nb_6173_2021-06-22T08:17:48_scans=0-162_stokes_corrected_im.fits'\n",
    "# blos_cube = datadir + 'Blos.6173_2021-06-22T08:17:48.icube'\n",
    "# bhor_cube = datadir + 'Bhor.6173_2021-06-22T08:17:48.icube'\n",
    "# xsize = 256\n",
    "# ysize = 256\n",
    "# xorg = 273\n",
    "# yorg = 420\n",
    "# tt = 41\n",
    "# scale = 0.058 # arcsec/pixel\n",
    "# shape = 'square'\n",
    "# crop = False\n",
    "# is_north_up = False"
   ]
  },
  {
   "cell_type": "code",
   "execution_count": null,
   "metadata": {},
   "outputs": [],
   "source": [
    "# Load the configuration from the JSON file\n",
    "config = iu.load_config('input_config.json')\n",
    "# Check the input configuration\n",
    "config = iu.check_input_config(config, pprint=True, confirm=True)"
   ]
  },
  {
   "cell_type": "code",
   "execution_count": null,
   "metadata": {},
   "outputs": [],
   "source": [
    "\n",
    "# Extract the parameters\n",
    "data_dir = config['data_dir']\n",
    "save_dir = config['save_dir']\n",
    "crisp_im = config['crisp_im']\n",
    "xorg = config['xorg']\n",
    "xsize = config['xsize']\n",
    "yorg = config['yorg']\n",
    "ysize = config['ysize']\n",
    "tt = config['time_index']\n",
    "scale = config['scale']\n",
    "is_north_up = config['is_north_up']\n",
    "crop = config['crop']\n",
    "shape = config['shape']\n",
    "best_frame = config['best_frame']\n",
    "contrasts = config['contrasts']\n",
    "hmi_con_series = config['hmi_con_series']\n",
    "hmi_mag_series = config['hmi_mag_series']\n",
    "email = config['email']"
   ]
  },
  {
   "cell_type": "code",
   "execution_count": null,
   "metadata": {},
   "outputs": [],
   "source": [
    "\n",
    "xrange = [xorg, xorg + xsize]\n",
    "yrange = [yorg, yorg + ysize]"
   ]
  },
  {
   "cell_type": "code",
   "execution_count": null,
   "metadata": {},
   "outputs": [],
   "source": [
    "fits_info = iu.get_fits_info(crisp_im)\n",
    "fits_header = iu.load_fits_header(crisp_im)\n",
    "t_obs = fits_info['avg_time_obs']\n",
    "fov = fov_angle(t_obs)\n",
    "print(f'FOV angle: {fov:.2f} deg')"
   ]
  },
  {
   "cell_type": "code",
   "execution_count": null,
   "metadata": {},
   "outputs": [],
   "source": [
    "\n",
    "iu.plot_contrast(contrasts, figsize=(8, 4))\n",
    "iu.plot_image(best_frame, title=f'Frame: {tt}', cmap='gray', scale=scale)\n"
   ]
  },
  {
   "cell_type": "code",
   "execution_count": null,
   "metadata": {},
   "outputs": [],
   "source": [
    "nx = fits_info['nx']\n",
    "ny = fits_info['ny']\n",
    "mu = fits_info['mu']\n",
    "x1 = fits_info['hplnt'][tt][0]\n",
    "x2 = fits_info['hplnt'][tt][1]\n",
    "y1 = fits_info['hpltt'][tt][0]\n",
    "y2 = fits_info['hpltt'][tt][1]\n",
    "tobs = fits_info['all_start_times'][tt]\n",
    "tstart = fits_info['start_time_obs']\n",
    "hplnt = fits_info['hplnt']\n",
    "hpltt = fits_info['hpltt']\n",
    "print(f'x1 = {x1}\\nx2 = {x2}\\ny1 = {y1}\\ny2 = {y2}\\ntobs = {tobs}')"
   ]
  },
  {
   "cell_type": "code",
   "execution_count": null,
   "metadata": {},
   "outputs": [],
   "source": [
    "x_list = np.linspace(x1, x2, num=nx)\n",
    "y_list = np.linspace(y1, y2, num=ny)\n",
    "if crop:\n",
    "    x_list = x_list[xrange[0]:xrange[1]]\n",
    "    y_list = y_list[yrange[0]:yrange[1]]\n",
    "    x1 = x_list[0]\n",
    "    x2 = x_list[-1]\n",
    "    y1 = y_list[0]\n",
    "    y2 = y_list[-1]\n",
    "    nx = xsize\n",
    "    ny = ysize\n",
    "print(f'x1: {x1:.2f}, x2: {x2:.2f}, y1: {y1:.2f}, y2: {y2:.2f}')\n",
    "print(f'nx: {nx}, ny: {ny}')"
   ]
  },
  {
   "cell_type": "code",
   "execution_count": null,
   "metadata": {},
   "outputs": [],
   "source": [
    "if crop:\n",
    "    draw_rectangle = False\n",
    "    draw_circle = False\n",
    "    buffer = 5\n",
    "else:\n",
    "    if shape == 'circle':\n",
    "        draw_rectangle = False\n",
    "        draw_circle = True\n",
    "        buffer = 0\n",
    "    else:\n",
    "        draw_rectangle = True\n",
    "        draw_circle = False\n",
    "        buffer = 5\n",
    "if is_north_up:\n",
    "    rot_fov = 0\n",
    "else:\n",
    "    rot_fov = fov\n",
    "    buffer = 15\n"
   ]
  },
  {
   "cell_type": "code",
   "execution_count": null,
   "metadata": {},
   "outputs": [],
   "source": [
    "plot_sst_pointings(tstart, hmi_con_series, hplnt, hpltt,figsize=(8, 8), email=email, save_dir=save_dir)"
   ]
  },
  {
   "cell_type": "code",
   "execution_count": null,
   "metadata": {},
   "outputs": [],
   "source": [
    "plot_hmi_ic_mag(tobs, hmi_con_series, hmi_mag_series, email, x1, x2, y1, y2, draw_rectangle=draw_rectangle, height=56, width=56, rot_fov=rot_fov, save_dir=save_dir, draw_circle=draw_circle, radius=87, figsize=(10, 5), overwrite=False, buffer=buffer, enhance_ic=False, enhance_m=False)"
   ]
  },
  {
   "cell_type": "code",
   "execution_count": null,
   "metadata": {},
   "outputs": [],
   "source": [
    "iu.plot_crisp_image(crisp_im, ss=0, ww=0, figsize=(8,8), fontsize=8, rot_fov=fov, north_up=not(is_north_up), crop=crop, xrange=xrange, yrange=yrange, xtick_range=[x1,x2], ytick_range=[y1,y2])"
   ]
  },
  {
   "cell_type": "code",
   "execution_count": null,
   "metadata": {},
   "outputs": [],
   "source": [
    "#\n",
    "# Decide to work in float32 or float64\n",
    "#\n",
    "dtype = 'float32'\n",
    "nthreads = 96\n",
    "#\n",
    "# Load data, wavelength array and cmap\n",
    "#\n",
    "class container:\n",
    "    def __init__(self):\n",
    "        pass\n",
    "l = container()\n",
    "container.iwav = iu.get_wavelengths(crisp_im)\n",
    "container.d = iu.load_crisp_fits(crisp_im, tt=tt, crop=crop, xrange=xrange, yrange=yrange) \n",
    "container.cmap = iu.load_crisp_cmap(crisp_im, tt=tt, crop=crop, xrange=xrange, yrange=yrange) \n",
    "mask = iu.get_nan_mask(crisp_im, tt=tt,crop=crop, xrange=xrange, yrange=yrange) \n",
    "print(mask.shape)\n",
    "iu.plot_crisp_image(crisp_im, tt=tt, crop=crop, xrange=xrange, yrange=yrange) "
   ]
  },
  {
   "cell_type": "code",
   "execution_count": null,
   "metadata": {},
   "outputs": [],
   "source": [
    "\n",
    "# Minimum step:\n",
    "dw = np.min(np.diff(l.iwav))\n",
    "# dw = round((lambda*10. - lc) * 1000.) ; offset in mA\n",
    "dw = round(dw*1000.)/1000. # avoid floating point errors\n",
    "\n",
    "# ==============================================================================\n",
    "\n",
    "# The inversions need to account for the instrumental\n",
    "# profile, which involve convolutions. The convolutions\n",
    "# must be done in a wavelength grid that is at least\n",
    "# 1/2 of the FWHM of the instrumental profile. In the\n",
    "# case of CRISP that would be ~55 mA / 2 = ~27.5 mA\n",
    "#\n",
    "# Get finer grid for convolutions purposes\n",
    "# Since we only observed at the lines, let's create\n",
    "# two regions, one for each line\n",
    "#\n",
    "# The observed line positions are not equidistant, the\n",
    "# Fe I 6301 points only fit into a regular grid of 5 mA\n",
    "# whereas the Fe I 6302 can fit into a 15 mA grid\n",
    "#\n",
    "iw, idx = iu.find_grid(l.iwav, dw)  # Fe I 6173\n",
    "\n",
    "# ==============================================================================\n",
    "\n",
    "\n",
    "#\n",
    "# Now we need to create a data cube with the fine grid\n",
    "# dimensions. All observed points will contribute to the\n",
    "# inversion. The non-observed ones will have zero weight\n",
    "# but will be used internally to properly perform the\n",
    "# convolution of the synthetic spectra\n",
    "#\n",
    "\n",
    "\n",
    "ny, nx = l.d.shape[0:2]\n",
    "obs = np.zeros((ny, nx, 4, iw.size), dtype=dtype, order='c')\n",
    "\n",
    "for ss in range(4):\n",
    "    for ii in range(idx.size):\n",
    "        obs[:, :, ss, idx[ii]] = l.d[:, :, ss, ii]\n",
    "\n",
    "# ==============================================================================\n",
    "#\n",
    "# Create sigma array with the estimate of the noise for\n",
    "# each Stokes parameter at all wavelengths. The extra\n",
    "# non-observed points will have a very large noise (1.e34)\n",
    "# (zero weight) compared to the observed ones (3.e-3)\n",
    "# Since the amplitudes of Stokes Q,U and V are very small\n",
    "# they have a low imprint in Chi2. We can artificially\n",
    "# give them more weight by lowering the noise estimate.\n",
    "#\n",
    "sig = np.zeros((4, iw.size), dtype=dtype) + 1.e32\n",
    "sig[:, idx] = 5.e-3\n",
    "sig[1:3, idx] /= 9.0\n",
    "sig[3, idx] /= 4.0\n",
    "\n",
    "# ==============================================================================\n",
    "#\n",
    "# Init Me class. We need to create two regions with the\n",
    "# wavelength arrays defined above and a instrumental profile\n",
    "# for each region in with the same wavelength step\n",
    "#\n",
    "tw = (np.arange(iw.size, dtype=dtype)-iw.size//2)*dw\n",
    "\n",
    "# ==============================================================================\n",
    "# Central wavelength of the line:\n",
    "l0 = iw[iw.size//2]\n",
    "tr = crisp.crisp(l0).dual_fpi(tw, erh=-0.001)\n",
    "\n",
    "regions = [[iw, tr/tr.sum()]]\n",
    "lines = [int(l0)]\n",
    "me = ME.MilneEddington(regions, lines, nthreads=nthreads, precision=dtype)"
   ]
  },
  {
   "cell_type": "code",
   "execution_count": null,
   "metadata": {},
   "outputs": [],
   "source": [
    "\n",
    "#\n",
    "# Init model parameters\n",
    "#\n",
    "iPar = np.float64([1500, 2.2, 1.0, -0.5, 0.035, 50., 0.1, 0.24, 0.7]) # [B_tot, theta_B, chi_B, gamma_B, v_los, eta_0, Doppler width, damping, s0, s1]\n",
    "Imodel = me.repeat_model(iPar, ny, nx)\n"
   ]
  },
  {
   "cell_type": "code",
   "execution_count": null,
   "metadata": {},
   "outputs": [],
   "source": [
    "#\n",
    "# Run a first cycle with 4 inversions of each pixel (1 + 3 randomizations) of simple pixel-wise inversion\n",
    "#\n",
    "t0 = time.time()\n",
    "Imodel, syn, chi2 = me.invert(Imodel, obs, sig, nRandom=6, nIter=100, chi2_thres=1, mu=mu)\n",
    "t1 = time.time()\n",
    "print(\"dT = {0}s -> <Chi2> = {1}\".format(t1-t0, chi2.mean()))\n",
    "iu.plot_inversion_output(Imodel,mask,scale=scale, save_fig=False)\n",
    "iu.plot_mag(Imodel,mask,scale=scale, save_fig=False)\n"
   ]
  },
  {
   "cell_type": "code",
   "execution_count": null,
   "metadata": {},
   "outputs": [],
   "source": [
    "masked_chi2_mean = iu.masked_mean(chi2, mask)\n",
    "print(f'Masked chi2 mean: {masked_chi2_mean}')\n",
    "if  masked_chi2_mean < 20:\n",
    "    size_filter = 11\n",
    "elif masked_chi2_mean < 50:\n",
    "    size_filter = 21\n",
    "else:\n",
    "    size_filter = 31\n",
    "Imodel = iu.parallel_median_filter(Imodel, size_filter=21)\n",
    "iu.plot_inversion_output(Imodel,mask,scale=scale, save_fig=False)\n",
    "iu.plot_mag(Imodel,mask,scale=scale, save_fig=False)"
   ]
  },
  {
   "cell_type": "code",
   "execution_count": null,
   "metadata": {},
   "outputs": [],
   "source": [
    "#\n",
    "# Run second cycle\n",
    "#\n",
    "t0 = time.time()\n",
    "Imodel, syn, chi2 = me.invert(Imodel, obs, sig, nRandom=2, nIter=200, chi2_thres=1, mu=mu)\n",
    "t1 = time.time()\n",
    "print(\"dT = {0}s -> <Chi2> = {1}\".format(t1-t0, chi2.mean()))\n",
    "iu.plot_inversion_output(Imodel,mask,scale=scale, save_fig=False)\n",
    "iu.plot_mag(Imodel,mask,scale=scale, save_fig=False)"
   ]
  },
  {
   "cell_type": "code",
   "execution_count": null,
   "metadata": {},
   "outputs": [],
   "source": [
    "\n",
    "#\n",
    "# Run a first cycle with 4 inversions of each pixel (1 + 3 randomizations)\n",
    "#\n",
    "t0 = time.time()\n",
    "alphas=np.float32([2, 0.5, 2, 0.01, 0.1, 0.01, 0.1, 0.01, 0.01])\n",
    "mo, syn, chi2 = me.invert_spatially_regularized(Imodel, obs, sig,  nIter=200, chi2_thres=1, mu=mu, alpha=30., alphas=alphas, method=1, delay_bracket=3)\n",
    "t1 = time.time()\n",
    "print(\"dT = {0}s -> <Chi2> (including regularization) = {1}\".format(t1-t0, chi2))\n",
    "\n",
    "#\n",
    "# Correct velocities for cavity error map from CRISP\n",
    "#\n",
    "mos = np.squeeze(mo) # Remove the singleton dimension in the model and make the shape (ny, nx, 9) from (1, ny, nx, 9)\n",
    "mos[:,:,3] += (l.cmap * 10) / l0 * 2.9e5\n",
    "# mos[:,:,3] += l.cmap+0.45 # The 0.45 is a global offset that seems to make the umbra at rest"
   ]
  },
  {
   "cell_type": "code",
   "execution_count": null,
   "metadata": {},
   "outputs": [],
   "source": [
    "iu.plot_inversion_output(mos,mask,scale=scale, save_fig=False)\n",
    "iu.plot_mag(mos,mask,scale=scale, save_fig=False)"
   ]
  },
  {
   "cell_type": "code",
   "execution_count": null,
   "metadata": {},
   "outputs": [],
   "source": [
    "iu.plot_sst_blos_bhor(blos_cube, bhor_cube, tt=tt,xrange=xrange, yrange=yrange, figsize=(20,10), fontsize=12, crop=crop)"
   ]
  },
  {
   "cell_type": "code",
   "execution_count": null,
   "metadata": {},
   "outputs": [],
   "source": [
    "errors = me.estimate_uncertainties(mos, obs, sig, mu=mu)"
   ]
  },
  {
   "cell_type": "code",
   "execution_count": null,
   "metadata": {},
   "outputs": [],
   "source": [
    "importlib.reload(iu)"
   ]
  },
  {
   "cell_type": "code",
   "execution_count": null,
   "metadata": {},
   "outputs": [],
   "source": [
    "from einops import rearrange\n",
    "mos_im = rearrange(mos, 'ny nx nparams -> nparams ny nx')\n",
    "errors_im = rearrange(errors, 'ny nx nparams -> nparams ny nx')"
   ]
  },
  {
   "cell_type": "code",
   "execution_count": null,
   "metadata": {},
   "outputs": [],
   "source": [
    "for i in range(9):\n",
    "    iu.masked_stats(mos[:,:,i], mask)"
   ]
  },
  {
   "cell_type": "code",
   "execution_count": null,
   "metadata": {},
   "outputs": [],
   "source": [
    "inversion_mask_replacements = [0, 0, 0, 0, 0, 0, 0, 0, 0] # Blos, inc, azi, v_los, v_dop, line op, damping, s0, s1"
   ]
  },
  {
   "cell_type": "code",
   "execution_count": null,
   "metadata": {},
   "outputs": [],
   "source": [
    "masked_mos = np.zeros_like(mos)\n",
    "for i in range(9):\n",
    "    masked_mos[:,:,i] = iu.masked_data(mos[:,:,i], mask, replace_val=inversion_mask_replacements[i])\n"
   ]
  },
  {
   "cell_type": "code",
   "execution_count": null,
   "metadata": {},
   "outputs": [],
   "source": [
    "iu.plot_inversion_output(masked_mos,scale=scale, save_fig=False)"
   ]
  },
  {
   "cell_type": "code",
   "execution_count": null,
   "metadata": {},
   "outputs": [],
   "source": [
    "masked_errors = np.zeros_like(errors)\n",
    "for i in range(9):\n",
    "    masked_errors[:,:,i] = iu.masked_data(errors[:,:,i], mask, replace_val=inversion_mask_replacements[i], fix_inf=True)\n",
    "iu.plot_inversion_output(masked_errors,scale=scale, save_fig=False)"
   ]
  },
  {
   "cell_type": "code",
   "execution_count": null,
   "metadata": {},
   "outputs": [],
   "source": [
    "for i in range(9):\n",
    "    iu.masked_stats(errors[:,:,i], mask)"
   ]
  },
  {
   "cell_type": "code",
   "execution_count": null,
   "metadata": {},
   "outputs": [],
   "source": [
    "b_err = iu.masked_data(errors[:,:,0], mask)\n",
    "print(np.nanmean(b_err))\n",
    "print(np.nanmin(b_err))\n",
    "print(np.nanmax(b_err))"
   ]
  },
  {
   "cell_type": "code",
   "execution_count": null,
   "metadata": {},
   "outputs": [],
   "source": [
    "importlib.reload(iu)"
   ]
  },
  {
   "cell_type": "code",
   "execution_count": null,
   "metadata": {},
   "outputs": [],
   "source": [
    "importlib.reload(iu)\n",
    "iu.plot_image(masked_errors[:,:,1], scale=scale, title='B_tot (G)', save_fig=False, clip=True, vmax=1, vmin=0)"
   ]
  },
  {
   "cell_type": "code",
   "execution_count": null,
   "metadata": {},
   "outputs": [],
   "source": [
    "# apply masked_data to all components or errors and save as masked_errors\n",
    "masked_errors = np.zeros((ny, nx, 9), dtype=dtype)\n",
    "for i in range(9):\n",
    "    masked_errors[:,:,i] = iu.masked_data(errors[:,:,i], mask)"
   ]
  },
  {
   "cell_type": "code",
   "execution_count": null,
   "metadata": {},
   "outputs": [],
   "source": [
    "importlib.reload(iu)\n",
    "minc = iu.masked_data(errors[:,:,1], mask, replace_val=0)\n",
    "print(np.min(minc))\n",
    "print(np.max(minc))\n",
    "print(np.median(minc))"
   ]
  },
  {
   "cell_type": "code",
   "execution_count": null,
   "metadata": {},
   "outputs": [],
   "source": [
    "iu.plot_inversion_output(masked_errors, mask, scale=scale, save_fig=False)"
   ]
  },
  {
   "cell_type": "code",
   "execution_count": null,
   "metadata": {},
   "outputs": [],
   "source": [
    "iu.plot_output(mos,mask,scale=scale)\n",
    "iu.plot_mag(Imodel,mask,scale=scale, save_fig=False)"
   ]
  },
  {
   "cell_type": "code",
   "execution_count": null,
   "metadata": {},
   "outputs": [],
   "source": []
  },
  {
   "cell_type": "code",
   "execution_count": null,
   "metadata": {},
   "outputs": [],
   "source": [
    "importlib.reload(iu)"
   ]
  },
  {
   "cell_type": "code",
   "execution_count": null,
   "metadata": {},
   "outputs": [],
   "source": [
    "## save the results as fits files with the same header as the input data\n",
    "iu.save_fits(mos, fits_header, 'temp/inv_mos.fits', overwrite=True)"
   ]
  },
  {
   "cell_type": "code",
   "execution_count": null,
   "metadata": {},
   "outputs": [],
   "source": [
    "ff = iu.load_fits_data('temp/inv_mos.fits')"
   ]
  },
  {
   "cell_type": "code",
   "execution_count": null,
   "metadata": {},
   "outputs": [],
   "source": [
    "hh = iu.load_fits_header('temp/inv_mos.fits')"
   ]
  },
  {
   "cell_type": "markdown",
   "metadata": {},
   "source": [
    "#### Things to complete\n",
    "- [ ] Move all the inputs to a dictionary and later save them in the header of the output file. Also add the best seeing frame number.\n",
    "- [ ] Move the preprocessing steps like plotting and FOV details as an optional but default true step\n",
    "- [ ] Save fits with [blos, theta, phi, vlos + errors + mask] for each frame (temporarily) and later combine for final fits\n",
    "- [ ] Check for option to convert to fcube and icube formats using ispy or helita tools\n",
    "- [ ] Add option to do only one frame separately if user wants.\n",
    "- [ ] Add fov angle and other inputs needed for ambiguity resolution and remap in header"
   ]
  },
  {
   "cell_type": "markdown",
   "metadata": {},
   "source": [
    "#### To do for final cube\n",
    "- [ ] Pick the best seeing frame from the dataset\n",
    "- [ ] Run the full inversion for the best seeing frame\n",
    "- [ ] Use this output as an initial guess for the other frames\n"
   ]
  }
 ],
 "metadata": {
  "kernelspec": {
   "display_name": "pymilne",
   "language": "python",
   "name": "python3"
  },
  "language_info": {
   "codemirror_mode": {
    "name": "ipython",
    "version": 3
   },
   "file_extension": ".py",
   "mimetype": "text/x-python",
   "name": "python",
   "nbconvert_exporter": "python",
   "pygments_lexer": "ipython3",
   "version": "3.12.2"
  }
 },
 "nbformat": 4,
 "nbformat_minor": 2
}
