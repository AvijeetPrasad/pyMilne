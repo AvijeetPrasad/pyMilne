{
 "cells": [
  {
   "cell_type": "code",
   "execution_count": null,
   "metadata": {},
   "outputs": [],
   "source": [
    "# # Add the root directory to the path to allow importing the module\n",
    "# import sys\n",
    "# sys.path.append('/mn/stornext/u3/avijeetp/codes/ISPy')\n",
    "# sys.path.append('/mn/stornext/u3/avijeetp/codes/pyMilne')\n",
    "# sys.path.append('/mn/stornext/u3/avijeetp/codes/helita')\n",
    "# sys.path.append('/mn/stornext/d9/data/avijeetp/1_Projects/33_SST/LaPalma')"
   ]
  },
  {
   "cell_type": "code",
   "execution_count": null,
   "metadata": {},
   "outputs": [],
   "source": [
    "import numpy as np\n",
    "import MilneEddington as ME\n",
    "import crisp\n",
    "import time\n",
    "import warnings\n",
    "# Suppress the specific warning\n",
    "warnings.filterwarnings(\"ignore\", message=\"The value of the smallest subnormal for <class 'numpy.float32'> type is zero\")\n",
    "warnings.filterwarnings(\"ignore\", message=\"The value of the smallest subnormal for <class 'numpy.float64'> type is zero\")\n",
    "import inv_utils as iu\n",
    "from scipy.ndimage import median_filter\n",
    "from helita.io import lp\n",
    "from lp_scripts.get_fov_angle import fov_angle\n",
    "from hmi_plot import plot_hmi_ic_mag"
   ]
  },
  {
   "cell_type": "code",
   "execution_count": null,
   "metadata": {},
   "outputs": [],
   "source": [
    "import importlib\n",
    "importlib.reload(iu)\n",
    "print('inv_utils reloaded') "
   ]
  },
  {
   "cell_type": "code",
   "execution_count": null,
   "metadata": {},
   "outputs": [],
   "source": [
    "### Small scale anemone jet \n",
    "\n",
    "datadir = '/mn/stornext/d18/lapalma/reduc/2024/2024-05-21/CRISP/cubes_nb/'\n",
    "crisp_im = datadir + 'nb_6173_2024-05-21T10:19:04_10:19:04=0-52_stokes_corrected_im.fits'\n",
    "sst_blos_file = datadir + 'Blos.6173_2024-05-21T10:19:04.icube'\n",
    "sst_bhor_file = datadir + 'Bhor.6173_2024-05-21T10:19:04.icube'\n",
    "xorg = 1110\n",
    "xsize = 800\n",
    "yorg = 570\n",
    "ysize = 800\n",
    "tt = 8\n",
    "is_north_up = True\n",
    "scale = 0.044 # arcsec/pixel\n",
    "crop = True"
   ]
  },
  {
   "cell_type": "code",
   "execution_count": null,
   "metadata": {},
   "outputs": [],
   "source": [
    "### Sunspot data set close to center also observed with Hinode\n",
    "\n",
    "# datadir = '/mn/stornext/d18/lapalma/reduc/2020/2020-08-07/CRISP/cubes_nb/'\n",
    "# crisp_im = datadir + 'nb_6173_2020-08-07T08:22:14_scans=0-56_stokes_corrected_im.fits'\n",
    "# xorg = 200\n",
    "# xsize = 480\n",
    "# yorg = 360\n",
    "# ysize = 400\n",
    "# tt = 0\n",
    "# scale = 0.058 # arcsec/pixel\n",
    "# is_north_up = False\n",
    "# crop = False"
   ]
  },
  {
   "cell_type": "code",
   "execution_count": null,
   "metadata": {},
   "outputs": [],
   "source": [
    "### QS dataset used by Aditi\n",
    "\n",
    "# datadir = '/mn/stornext/d18/lapalma/reduc/2021/2021-06-22/CRISP/cubes_nb/'\n",
    "# crisp_im = datadir + 'nb_6173_2021-06-22T08:17:48_scans=0-162_stokes_corrected_im.fits'\n",
    "# blos_cube = datadir + 'Blos.6173_2021-06-22T08:17:48.icube'\n",
    "# bhor_cube = datadir + 'Bhor.6173_2021-06-22T08:17:48.icube'\n",
    "# xsize = 256\n",
    "# ysize = 256\n",
    "# xorg = 273\n",
    "# yorg = 420\n",
    "# tt = 41\n",
    "# scale = 0.058 # arcsec/pixel\n",
    "# crop = False\n",
    "# is_north_up = False"
   ]
  },
  {
   "cell_type": "code",
   "execution_count": null,
   "metadata": {},
   "outputs": [],
   "source": [
    "\n",
    "xrange = [xorg, xorg + xsize]\n",
    "yrange = [yorg, yorg + ysize]"
   ]
  },
  {
   "cell_type": "code",
   "execution_count": null,
   "metadata": {},
   "outputs": [],
   "source": [
    "fits_info = iu.get_fits_info(crisp_im)\n",
    "t_obs = fits_info['avg_time_obs']\n",
    "fov = fov_angle(t_obs)\n",
    "print(f'FOV angle: {fov:.2f} deg')"
   ]
  },
  {
   "cell_type": "code",
   "execution_count": null,
   "metadata": {},
   "outputs": [],
   "source": [
    "ic_series = 'hmi.Ic_45s'\n",
    "mag_series = 'hmi.M_45s'\n",
    "email = 'avijeet.prasad@astro.uio.no'\n",
    "save_dir = 'temp/'"
   ]
  },
  {
   "cell_type": "code",
   "execution_count": null,
   "metadata": {},
   "outputs": [],
   "source": [
    "nx = fits_info['nx']\n",
    "ny = fits_info['ny']\n",
    "x1 = fits_info['hplnt'][tt][0]\n",
    "x2 = fits_info['hplnt'][tt][1]\n",
    "y1 = fits_info['hpltt'][tt][0]\n",
    "y2 = fits_info['hpltt'][tt][1]\n"
   ]
  },
  {
   "cell_type": "code",
   "execution_count": null,
   "metadata": {},
   "outputs": [],
   "source": [
    "fits_info.keys()"
   ]
  },
  {
   "cell_type": "code",
   "execution_count": null,
   "metadata": {},
   "outputs": [],
   "source": [
    "# x1 = fits_info['ln_min']\n",
    "# x2 = fits_info['ln_max']\n",
    "# y1 = fits_info['lt_min']\n",
    "# y2 = fits_info['lt_max']"
   ]
  },
  {
   "cell_type": "code",
   "execution_count": null,
   "metadata": {},
   "outputs": [],
   "source": [
    "x_list = np.linspace(x1, x2, num=nx)\n",
    "y_list = np.linspace(y1, y2, num=ny)\n",
    "if crop:\n",
    "    x_list = x_list[xrange[0]:xrange[1]]\n",
    "    y_list = y_list[yrange[0]:yrange[1]]\n",
    "    x1 = x_list[0]\n",
    "    x2 = x_list[-1]\n",
    "    y1 = y_list[0]\n",
    "    y2 = y_list[-1]\n",
    "    nx = xsize\n",
    "    ny = ysize\n",
    "print(f'x1: {x1:.2f}, x2: {x2:.2f}, y1: {y1:.2f}, y2: {y2:.2f}')\n",
    "print(f'nx: {nx}, ny: {ny}')"
   ]
  },
  {
   "cell_type": "code",
   "execution_count": null,
   "metadata": {},
   "outputs": [],
   "source": [
    "tobs = fits_info['all_start_times'][tt]"
   ]
  },
  {
   "cell_type": "code",
   "execution_count": null,
   "metadata": {},
   "outputs": [],
   "source": [
    "plot_hmi_ic_mag(tobs, ic_series, mag_series, email, x1, x2, y1, y2, draw_rectangle=False, height=56, width=56, rot_fov=fov, save_dir=save_dir, draw_circle=False, radius=87, enhance_ic=False, figsize=(10, 5), overwrite=False, buffer=5)"
   ]
  },
  {
   "cell_type": "code",
   "execution_count": null,
   "metadata": {},
   "outputs": [],
   "source": [
    "iu.plot_image(crisp_im, ss=0, figsize=(6,6), fontsize=8, rot_fov=fov, north_up=not(is_north_up), crop=crop, xrange=xrange, yrange=yrange, xtick_range=[x1,x2], ytick_range=[y1,y2])"
   ]
  },
  {
   "cell_type": "code",
   "execution_count": null,
   "metadata": {},
   "outputs": [],
   "source": [
    "\n",
    "tt = 0\n",
    "mu = fits_info['mu']\n",
    "ww = fits_info['nw'] // 2\n",
    "ss = 0\n",
    "\n",
    "iu.plot_image(crisp_im, xrange=xrange, yrange=yrange, ww=ww, tt=tt, ss=ss, crop=crop, figsize=(5,5), fontsize=8, rot_fov=fov, north_up=False,xtick_range=[x1,x2],ytick_range=[y1,y2])"
   ]
  },
  {
   "cell_type": "code",
   "execution_count": null,
   "metadata": {},
   "outputs": [],
   "source": [
    "# blos_sst = lp.getdata(blos_cube)\n",
    "# bhor_sst = lp.getdata(bhor_cube)"
   ]
  },
  {
   "cell_type": "code",
   "execution_count": null,
   "metadata": {},
   "outputs": [],
   "source": [
    "#\n",
    "# Decide to work in float32 or float64\n",
    "#\n",
    "dtype = 'float32'\n",
    "nthreads = 96\n",
    "#\n",
    "# Load data, wavelength array and cmap\n",
    "#\n",
    "class container:\n",
    "    def __init__(self):\n",
    "        pass\n",
    "l = container()\n",
    "container.iwav = iu.getWavelengths(crisp_im)\n",
    "container.d = iu.loadFits(crisp_im, tt=tt, crop=crop, xrange=xrange, yrange=yrange) \n",
    "container.cmap = iu.loadCmap(crisp_im, tt=tt, crop=crop, xrange=xrange, yrange=yrange) \n",
    "mask = iu.get_nan_mask(crisp_im, tt=tt,crop=crop, xrange=xrange, yrange=yrange) \n",
    "print(mask.shape)\n",
    "iu.plot_image(crisp_im, tt=tt, crop=crop, xrange=xrange, yrange=yrange) "
   ]
  },
  {
   "cell_type": "code",
   "execution_count": null,
   "metadata": {},
   "outputs": [],
   "source": [
    "\n",
    "# Minimum step:\n",
    "dw = np.min(np.diff(l.iwav))\n",
    "# dw = round((lambda*10. - lc) * 1000.) ; offset in mA\n",
    "dw = round(dw*1000.)/1000. # avoid floating point errors\n",
    "\n",
    "# ==============================================================================\n",
    "\n",
    "# The inversions need to account for the instrumental\n",
    "# profile, which involve convolutions. The convolutions\n",
    "# must be done in a wavelength grid that is at least\n",
    "# 1/2 of the FWHM of the instrumental profile. In the\n",
    "# case of CRISP that would be ~55 mA / 2 = ~27.5 mA\n",
    "#\n",
    "# Get finer grid for convolutions purposes\n",
    "# Since we only observed at the lines, let's create\n",
    "# two regions, one for each line\n",
    "#\n",
    "# The observed line positions are not equidistant, the\n",
    "# Fe I 6301 points only fit into a regular grid of 5 mA\n",
    "# whereas the Fe I 6302 can fit into a 15 mA grid\n",
    "#\n",
    "iw, idx = iu.findgrid(l.iwav, dw)  # Fe I 6173\n",
    "\n",
    "# ==============================================================================\n",
    "\n",
    "\n",
    "#\n",
    "# Now we need to create a data cube with the fine grid\n",
    "# dimensions. All observed points will contribute to the\n",
    "# inversion. The non-observed ones will have zero weight\n",
    "# but will be used internally to properly perform the\n",
    "# convolution of the synthetic spectra\n",
    "#\n",
    "\n",
    "\n",
    "ny, nx = l.d.shape[0:2]\n",
    "obs = np.zeros((ny, nx, 4, iw.size), dtype=dtype, order='c')\n",
    "\n",
    "for ss in range(4):\n",
    "    for ii in range(idx.size):\n",
    "        obs[:, :, ss, idx[ii]] = l.d[:, :, ss, ii]\n",
    "\n",
    "# ==============================================================================\n",
    "#\n",
    "# Create sigma array with the estimate of the noise for\n",
    "# each Stokes parameter at all wavelengths. The extra\n",
    "# non-observed points will have a very large noise (1.e34)\n",
    "# (zero weight) compared to the observed ones (3.e-3)\n",
    "# Since the amplitudes of Stokes Q,U and V are very small\n",
    "# they have a low imprint in Chi2. We can artificially\n",
    "# give them more weight by lowering the noise estimate.\n",
    "#\n",
    "sig = np.zeros((4, iw.size), dtype=dtype) + 1.e32\n",
    "sig[:, idx] = 5.e-3\n",
    "sig[1:3, idx] /= 9.0\n",
    "sig[3, idx] /= 4.0\n",
    "\n",
    "# ==============================================================================\n",
    "#\n",
    "# Init Me class. We need to create two regions with the\n",
    "# wavelength arrays defined above and a instrumental profile\n",
    "# for each region in with the same wavelength step\n",
    "#\n",
    "tw = (np.arange(iw.size, dtype=dtype)-iw.size//2)*dw\n",
    "\n",
    "# ==============================================================================\n",
    "# Central wavelength of the line:\n",
    "l0 = iw[iw.size//2]\n",
    "tr = crisp.crisp(l0).dual_fpi(tw, erh=-0.001)\n",
    "\n",
    "regions = [[iw, tr/tr.sum()]]\n",
    "lines = [int(l0)]\n",
    "me = ME.MilneEddington(regions, lines, nthreads=nthreads, precision=dtype)"
   ]
  },
  {
   "cell_type": "code",
   "execution_count": null,
   "metadata": {},
   "outputs": [],
   "source": [
    "\n",
    "#\n",
    "# Init model parameters\n",
    "#\n",
    "iPar = np.float64([1500, 2.2, 1.0, -0.5, 0.035, 50., 0.1, 0.24, 0.7]) # [B_tot, theta_B, chi_B, gamma_B, v_los, eta_0, Doppler width, damping, s0, s1]\n",
    "Imodel = me.repeat_model(iPar, ny, nx)\n"
   ]
  },
  {
   "cell_type": "code",
   "execution_count": null,
   "metadata": {},
   "outputs": [],
   "source": [
    "#\n",
    "# Run a first cycle with 4 inversions of each pixel (1 + 3 randomizations) of simple pixel-wise inversion\n",
    "#\n",
    "t0 = time.time()\n",
    "Imodel, syn, chi2 = me.invert(Imodel, obs, sig, nRandom=6, nIter=50, chi2_thres=1, mu=mu)\n",
    "t1 = time.time()\n",
    "print(\"dT = {0}s -> <Chi2> = {1}\".format(t1-t0, chi2.mean()))\n",
    "iu.plot_output(Imodel,mask,scale=scale, save_fig=False)\n",
    "iu.plot_mag(Imodel,mask,scale=scale, save_fig=False)"
   ]
  },
  {
   "cell_type": "code",
   "execution_count": null,
   "metadata": {},
   "outputs": [],
   "source": [
    "# Median filter for all except for the azimuth angle:\n",
    "size_filter = 21\n",
    "for ii in range(Imodel.shape[2]):\n",
    "    if ii == 2:\n",
    "        sin2azi = np.sin(Imodel[:, :, 2]*2.0)\n",
    "        cos2azi = np.cos(Imodel[:, :, 2]*2.0)\n",
    "        Imodel[:, :, 2] = 0.5*np.arctan2(median_filter(sin2azi, size=(size_filter,size_filter)),median_filter(cos2azi, size=(size_filter,size_filter)))\n",
    "        Imodel[:,:,2][Imodel[:,:,2] < 0] += np.pi\n",
    "    else:\n",
    "        Imodel[:, :, ii] = median_filter(Imodel[:, :, ii], size=(size_filter,size_filter))\n",
    "\n",
    "iu.plot_output(Imodel,mask,scale=scale, save_fig=False)"
   ]
  },
  {
   "cell_type": "code",
   "execution_count": null,
   "metadata": {},
   "outputs": [],
   "source": [
    "#\n",
    "# Run second cycle\n",
    "#\n",
    "t0 = time.time()\n",
    "Imodel, syn, chi2 = me.invert(Imodel, obs, sig, nRandom=2, nIter=50, chi2_thres=1, mu=mu)\n",
    "t1 = time.time()\n",
    "print(\"dT = {0}s -> <Chi2> = {1}\".format(t1-t0, chi2.mean()))\n",
    "iu.plot_output(Imodel,mask,scale=scale, save_fig=False)\n",
    "iu.plot_mag(Imodel,mask,scale=scale, save_fig=False)"
   ]
  },
  {
   "cell_type": "code",
   "execution_count": null,
   "metadata": {},
   "outputs": [],
   "source": [
    "import matplotlib.pyplot as plt\n",
    "import copy\n",
    "mos2 = copy.deepcopy(Imodel)\n",
    "# Create a new figure for Blos and Bhor maps\n",
    "fig2, ax2 = plt.subplots(nrows=1, ncols=1, figsize=(8,8))\n",
    "# Blos map\n",
    "Blos = mos2[:, :, 0] * np.cos(mos2[:, :, 1])\n",
    "Blos[mask] = 1.01 * np.percentile(Blos[~mask], 99)\n",
    "Blos = iu.make_north_up(Blos, 0)\n",
    "vmin = np.percentile(Blos, 1)\n",
    "vmax = np.percentile(Blos, 99)\n",
    "im1 = ax2.imshow((Blos), cmap='Greys_r', interpolation='nearest',\n",
    "                    aspect='equal', vmin=vmin, vmax=vmax, origin='lower')\n",
    "ax2.tick_params(axis='both', which='major', labelsize=14)\n",
    "cbar1 = fig2.colorbar(im1, ax=ax2, orientation='horizontal', shrink=0.8, pad=0.05)\n",
    "cbar1.set_label('Blos [G]', fontsize=18)\n",
    "cbar1.ax.tick_params(labelsize=14)\n",
    "plt.show()"
   ]
  },
  {
   "cell_type": "code",
   "execution_count": null,
   "metadata": {},
   "outputs": [],
   "source": [
    "\n",
    "#\n",
    "# Run a first cycle with 4 inversions of each pixel (1 + 3 randomizations)\n",
    "#\n",
    "t0 = time.time()\n",
    "alphas=np.float32([2, 0.5, 2, 0.01, 0.1, 0.01, 0.1, 0.01, 0.01])\n",
    "mo, syn, chi2 = me.invert_spatially_regularized(Imodel, obs, sig,  nIter=50, chi2_thres=1, mu=mu, alpha=30., alphas=alphas, method=1, delay_bracket=3)\n",
    "t1 = time.time()\n",
    "print(\"dT = {0}s -> <Chi2> (including regularization) = {1}\".format(t1-t0, chi2))\n",
    "\n",
    "#\n",
    "# Correct velocities for cavity error map from CRISP\n",
    "#\n",
    "mos = np.squeeze(mo) # Remove the singleton dimension in the model and make the shape (ny, nx, 9) from (1, ny, nx, 9)\n",
    "mos[:,:,3] += (l.cmap * 10) / l0 * 2.9e5\n",
    "# mos[:,:,3] += l.cmap+0.45 # The 0.45 is a global offset that seems to make the umbra at rest\n"
   ]
  },
  {
   "cell_type": "code",
   "execution_count": null,
   "metadata": {},
   "outputs": [],
   "source": [
    "iu.plot_output(mos,mask,scale=scale)\n",
    "iu.plot_mag(Imodel,mask,scale=scale, save_fig=False)"
   ]
  },
  {
   "cell_type": "code",
   "execution_count": null,
   "metadata": {},
   "outputs": [],
   "source": [
    "iu.plot_mag(Imodel,mask,scale=scale, save_fig=False,vmax=5)"
   ]
  },
  {
   "cell_type": "code",
   "execution_count": null,
   "metadata": {},
   "outputs": [],
   "source": [
    "datadir"
   ]
  },
  {
   "cell_type": "code",
   "execution_count": null,
   "metadata": {},
   "outputs": [],
   "source": [
    "blos_sst = lp.getdata(sst_blos_file)\n",
    "bhor_sst = lp.getdata(sst_bhor_file)"
   ]
  },
  {
   "cell_type": "code",
   "execution_count": null,
   "metadata": {},
   "outputs": [],
   "source": [
    "fits_info['nx']"
   ]
  },
  {
   "cell_type": "code",
   "execution_count": null,
   "metadata": {},
   "outputs": [],
   "source": [
    "blos_sst.shape"
   ]
  },
  {
   "cell_type": "code",
   "execution_count": null,
   "metadata": {},
   "outputs": [],
   "source": [
    "blos_sst_crop = blos_sst[xrange[0]:xrange[1], yrange[0]:yrange[1], 0].T\n",
    "bhor_sst_crop = bhor_sst[xrange[0]:xrange[1], yrange[0]:yrange[1], 0].T"
   ]
  },
  {
   "cell_type": "code",
   "execution_count": null,
   "metadata": {},
   "outputs": [],
   "source": [
    "import matplotlib.pyplot as plt\n",
    "# Create a new figure for Blos and Bhor maps\n",
    "fig2, ax2 = plt.subplots(nrows=1, ncols=2, figsize=(20, 10))\n",
    "vmin = np.percentile(blos_sst_crop, 1)\n",
    "vmax = np.percentile(blos_sst_crop, 99)\n",
    "im1 = ax2[0].imshow(blos_sst_crop, cmap='Greys_r', interpolation='nearest',\n",
    "                    aspect='equal', vmin=vmin, vmax=vmax, origin='lower')\n",
    "ax2[0].tick_params(axis='both', which='major', labelsize=14)\n",
    "cbar1 = fig2.colorbar(im1, ax=ax2[0], orientation='horizontal', shrink=0.8, pad=0.05)\n",
    "cbar1.set_label('Blos [G]', fontsize=18)\n",
    "cbar1.ax.tick_params(labelsize=14)\n",
    "\n",
    "# Bhor map\n",
    "im2 = ax2[1].imshow(bhor_sst_crop, cmap='Greys_r', interpolation='nearest',\n",
    "                    aspect='equal', origin='lower')\n",
    "ax2[1].tick_params(axis='both', which='major', labelsize=14)\n",
    "cbar2 = fig2.colorbar(im2, ax=ax2[1], orientation='horizontal', shrink=0.8, pad=0.05)\n",
    "cbar2.set_label('Bhor [G]', fontsize=18)\n",
    "cbar2.ax.tick_params(labelsize=14)\n",
    "\n",
    "fig2.tight_layout()\n",
    "\n",
    "plt.show()\n"
   ]
  }
 ],
 "metadata": {
  "kernelspec": {
   "display_name": "pymilne",
   "language": "python",
   "name": "python3"
  },
  "language_info": {
   "codemirror_mode": {
    "name": "ipython",
    "version": 3
   },
   "file_extension": ".py",
   "mimetype": "text/x-python",
   "name": "python",
   "nbconvert_exporter": "python",
   "pygments_lexer": "ipython3",
   "version": "3.12.2"
  }
 },
 "nbformat": 4,
 "nbformat_minor": 2
}
