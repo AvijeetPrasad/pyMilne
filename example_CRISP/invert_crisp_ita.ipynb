{
 "cells": [
  {
   "cell_type": "code",
   "execution_count": null,
   "metadata": {},
   "outputs": [],
   "source": [
    "# # Add the root directory to the path to allow importing the module\n",
    "import sys\n",
    "# sys.path.append('/mn/stornext/u3/avijeetp/codes/ISPy')\n",
    "sys.path.append('/mn/stornext/u3/avijeetp/codes/pyMilne')"
   ]
  },
  {
   "cell_type": "code",
   "execution_count": null,
   "metadata": {},
   "outputs": [],
   "source": [
    "import numpy as np\n",
    "import MilneEddington as ME\n",
    "import crisp\n",
    "import time\n",
    "from inv_utils import getWavelengths, loadFits, loadCmap, get_nan_mask\n",
    "from inv_utils import findgrid, plot_output"
   ]
  },
  {
   "cell_type": "code",
   "execution_count": null,
   "metadata": {},
   "outputs": [],
   "source": [
    "\n",
    "class container:\n",
    "    def __init__(self):\n",
    "        pass"
   ]
  },
  {
   "cell_type": "code",
   "execution_count": null,
   "metadata": {},
   "outputs": [],
   "source": [
    "#\n",
    "# Decide to work in float32 or float64\n",
    "#\n",
    "dtype = 'float32'\n",
    "nthreads = 80"
   ]
  },
  {
   "cell_type": "code",
   "execution_count": null,
   "metadata": {},
   "outputs": [],
   "source": [
    "datadir = '/mn/stornext/d18/lapalma/reduc/2020/2020-08-07/CRISP/cubes_nb/'\n",
    "crisp_im_file = 'nb_6173_2020-08-07T08:22:14_scans=0-56_stokes_corrected_im.fits'\n",
    "scale = 0.059 # arcsec/pixel\n",
    "# datadir = '/mn/stornext/d18/lapalma/reduc/2024/2024-05-21/CRISP/cubes_nb/'\n",
    "# crisp_im_file = 'nb_6173_2024-05-21T10:19:04_10:19:04=0-52_stokes_corrected_im.fits'\n",
    "crisp_im = datadir + crisp_im_file"
   ]
  },
  {
   "cell_type": "code",
   "execution_count": null,
   "metadata": {},
   "outputs": [],
   "source": [
    "\n",
    "#\n",
    "# Load data, wavelength array and cmap\n",
    "#\n",
    "l = container()\n",
    "container.iwav = getWavelengths(crisp_im)\n",
    "container.d = loadFits(crisp_im, tt=0) \n",
    "container.cmap = loadCmap(crisp_im, tt=0)"
   ]
  },
  {
   "cell_type": "code",
   "execution_count": null,
   "metadata": {},
   "outputs": [],
   "source": [
    "mask = get_nan_mask(crisp_im, tt=0)\n",
    "mask.shape"
   ]
  },
  {
   "cell_type": "code",
   "execution_count": null,
   "metadata": {},
   "outputs": [],
   "source": [
    "# Minimum step:\n",
    "dw = np.min(np.diff(l.iwav))\n",
    "# dw = round((lambda*10. - lc) * 1000.) ; offset in mA\n",
    "dw = round(dw*1000.)/1000. # avoid floating point errors\n"
   ]
  },
  {
   "cell_type": "code",
   "execution_count": null,
   "metadata": {},
   "outputs": [],
   "source": [
    "\n",
    "# The inversions need to account for the instrumental\n",
    "# profile, which involve convolutions. The convolutions\n",
    "# must be done in a wavelength grid that is at least\n",
    "# 1/2 of the FWHM of the instrumental profile. In the\n",
    "# case of CRISP that would be ~55 mA / 2 = ~27.5 mA\n",
    "#\n",
    "# Get finer grid for convolutions purposes\n",
    "# Since we only observed at the lines, let's create\n",
    "# two regions, one for each line\n",
    "#\n",
    "# The observed line positions are not equidistant, the\n",
    "# Fe I 6301 points only fit into a regular grid of 5 mA\n",
    "# whereas the Fe I 6302 can fit into a 15 mA grid\n",
    "#\n",
    "iw, idx = findgrid(l.iwav, dw)  # Fe I 6173\n"
   ]
  },
  {
   "cell_type": "code",
   "execution_count": null,
   "metadata": {},
   "outputs": [],
   "source": [
    "\n",
    "#\n",
    "# Now we need to create a data cube with the fine grid\n",
    "# dimensions. All observed points will contribute to the\n",
    "# inversion. The non-observed ones will have zero weight\n",
    "# but will be used internally to properly perform the\n",
    "# convolution of the synthetic spectra\n",
    "#\n",
    "\n",
    "\n",
    "ny, nx = l.d.shape[0:2]\n",
    "obs = np.zeros((ny, nx, 4, iw.size), dtype=dtype, order='c')\n",
    "\n",
    "for ss in range(4):\n",
    "    for ii in range(idx.size):\n",
    "        obs[:, :, ss, idx[ii]] = l.d[:, :, ss, ii]\n"
   ]
  },
  {
   "cell_type": "code",
   "execution_count": null,
   "metadata": {},
   "outputs": [],
   "source": [
    "\n",
    "#\n",
    "# Create sigma array with the estimate of the noise for\n",
    "# each Stokes parameter at all wavelengths. The extra\n",
    "# non-observed points will have a very large noise (1.e34)\n",
    "# (zero weight) compared to the observed ones (3.e-3)\n",
    "# Since the amplitudes of Stokes Q,U and V are very small\n",
    "# they have a low imprint in Chi2. We can artificially\n",
    "# give them more weight by lowering the noise estimate.\n",
    "#\n",
    "sig = np.zeros((4, iw.size), dtype=dtype) + 1.e32\n",
    "sig[:, idx] = 5.e-3\n",
    "sig[1:2, idx] /= 9.0\n",
    "sig[3, idx] /= 4.0\n",
    "\n"
   ]
  },
  {
   "cell_type": "code",
   "execution_count": null,
   "metadata": {},
   "outputs": [],
   "source": [
    "\n",
    "#\n",
    "# Init Me class. We need to create two regions with the\n",
    "# wavelength arrays defined above and a instrumental profile\n",
    "# for each region in with the same wavelength step\n",
    "#\n",
    "tw = (np.arange(iw.size, dtype=dtype)-iw.size//2)*dw\n"
   ]
  },
  {
   "cell_type": "code",
   "execution_count": null,
   "metadata": {},
   "outputs": [],
   "source": [
    "# Central wavelength of the line:\n",
    "l0 = iw[iw.size//2]\n",
    "tr = crisp.crisp(l0).dual_fpi(tw, erh=-0.001)\n",
    "\n",
    "regions = [[iw, tr/tr.sum()]]\n",
    "lines = [int(l0)]\n",
    "me = ME.MilneEddington(regions, lines, nthreads=nthreads, precision=dtype)\n"
   ]
  },
  {
   "cell_type": "code",
   "execution_count": null,
   "metadata": {},
   "outputs": [],
   "source": [
    "\n",
    "#\n",
    "# Init model parameters\n",
    "#\n",
    "iPar = np.float64([1500, 2.2, 1.0, -0.5, 0.035, 50., 0.1, 0.24, 0.7]) # [B_tot, theta_B, chi_B, gamma_B, v_los, eta_0, Doppler width, damping, s0, s1]\n",
    "Imodel = me.repeat_model(iPar, ny, nx)\n"
   ]
  },
  {
   "cell_type": "code",
   "execution_count": null,
   "metadata": {},
   "outputs": [],
   "source": [
    "#\n",
    "# Run a first cycle with 4 inversions of each pixel (1 + 3 randomizations) of simple pixel-wise inversion\n",
    "#\n",
    "t0 = time.time()\n",
    "Imodel, syn, chi2 = me.invert(\n",
    "    Imodel, obs, sig, nRandom=6, nIter=25, chi2_thres=1.0, mu=0.54184232)\n",
    "t1 = time.time()\n",
    "print(\"dT = {0}s -> <Chi2> = {1}\".format(t1-t0, chi2.mean()))"
   ]
  },
  {
   "cell_type": "code",
   "execution_count": null,
   "metadata": {},
   "outputs": [],
   "source": [
    "Imodel.shape"
   ]
  },
  {
   "cell_type": "code",
   "execution_count": null,
   "metadata": {},
   "outputs": [],
   "source": [
    "plot_output(Imodel,mask,scale=scale)"
   ]
  },
  {
   "cell_type": "code",
   "execution_count": null,
   "metadata": {},
   "outputs": [],
   "source": [
    "#\n",
    "# Run second cycle\n",
    "#\n",
    "t0 = time.time()\n",
    "Imodel, syn, chi2 = me.invert(\n",
    "    Imodel, obs, sig, nRandom=1, nIter=50, chi2_thres=1.0, mu=0.54184232)\n",
    "t1 = time.time()\n",
    "print(\"dT = {0}s -> <Chi2> = {1}\".format(t1-t0, chi2.mean()))"
   ]
  },
  {
   "cell_type": "code",
   "execution_count": null,
   "metadata": {},
   "outputs": [],
   "source": [
    "plot_output(Imodel,mask,scale=scale)"
   ]
  },
  {
   "cell_type": "code",
   "execution_count": null,
   "metadata": {},
   "outputs": [],
   "source": [
    "\n",
    "#\n",
    "# Run a first cycle with 4 inversions of each pixel (1 + 3 randomizations)\n",
    "#\n",
    "t0 = time.time()\n",
    "mo, syn, chi2 = me.invert_spatially_regularized(Imodel, obs, sig,  nIter=25, chi2_thres=1.0, mu=0.54184232, alpha=30., alphas=np.float32([\n",
    "                                                2, 0.5, 2, 0.01, 0.1, 0.01, 0.1, 0.01, 0.01]), method=1, delay_bracket=3)\n",
    "t1 = time.time()\n",
    "print(\"dT = {0}s -> <Chi2> (including regularization) = {1}\".format(t1-t0, chi2))\n"
   ]
  },
  {
   "cell_type": "code",
   "execution_count": null,
   "metadata": {},
   "outputs": [],
   "source": [
    "\n",
    "#\n",
    "# Correct velocities for cavity error map from CRISP\n",
    "#\n",
    "mos = np.squeeze(mo) # Remove the singleton dimension in the model and make the shape (ny, nx, 9) from (1, ny, nx, 9)\n",
    "mos[:,:,3] += (l.cmap * 10) / l0 * 2.9e5\n",
    "# mos[:,:,3] += l.cmap+0.45 # The 0.45 is a global offset that seems to make the umbra at rest\n"
   ]
  },
  {
   "cell_type": "code",
   "execution_count": null,
   "metadata": {},
   "outputs": [],
   "source": [
    "plot_output(mos,mask,scale=scale)"
   ]
  }
 ],
 "metadata": {
  "kernelspec": {
   "display_name": "pymilne",
   "language": "python",
   "name": "python3"
  },
  "language_info": {
   "codemirror_mode": {
    "name": "ipython",
    "version": 3
   },
   "file_extension": ".py",
   "mimetype": "text/x-python",
   "name": "python",
   "nbconvert_exporter": "python",
   "pygments_lexer": "ipython3",
   "version": "3.12.0"
  }
 },
 "nbformat": 4,
 "nbformat_minor": 2
}
