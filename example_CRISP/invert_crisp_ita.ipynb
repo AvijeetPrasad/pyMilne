{
 "cells": [
  {
   "cell_type": "code",
   "execution_count": null,
   "metadata": {},
   "outputs": [],
   "source": [
    "import os\n",
    "import numpy as np\n",
    "import MilneEddington as ME\n",
    "import crisp\n",
    "import time\n",
    "import warnings\n",
    "# Suppress the specific warning\n",
    "warnings.filterwarnings(\"ignore\", message=\"The value of the smallest subnormal for <class 'numpy.float32'> type is zero\")\n",
    "warnings.filterwarnings(\"ignore\", message=\"The value of the smallest subnormal for <class 'numpy.float64'> type is zero\")\n",
    "import inv_utils as iu\n",
    "import me_utils as meu\n",
    "from helita.io import lp\n",
    "\n",
    "from hmi_plot import plot_hmi_ic_mag, plot_sst_pointings"
   ]
  },
  {
   "cell_type": "code",
   "execution_count": null,
   "metadata": {},
   "outputs": [],
   "source": [
    "import importlib\n",
    "importlib.reload(iu)\n",
    "importlib.reload(meu)\n",
    "print('reloaded') "
   ]
  },
  {
   "cell_type": "code",
   "execution_count": null,
   "metadata": {},
   "outputs": [],
   "source": [
    "# Load the configuration from the JSON file\n",
    "input_config = iu.load_yaml_config('input_config.yaml')"
   ]
  },
  {
   "cell_type": "code",
   "execution_count": null,
   "metadata": {},
   "outputs": [],
   "source": [
    "# Check the input configuration\n",
    "config = iu.check_input_config(input_config, pprint=True, confirm=False)"
   ]
  },
  {
   "cell_type": "code",
   "execution_count": null,
   "metadata": {},
   "outputs": [],
   "source": [
    "\n",
    "# Extract the input parameters\n",
    "data_dir = config['data_dir']\n",
    "save_dir = config['save_dir']\n",
    "crisp_im = config['crisp_im']\n",
    "xorg = config['xorg']\n",
    "xsize = config['xsize']\n",
    "yorg = config['yorg']\n",
    "ysize = config['ysize']\n",
    "xrange = config['xrange']\n",
    "yrange = config['yrange']\n",
    "tt = config['time_index']\n",
    "scale = config['scale']\n",
    "is_north_up = config['is_north_up']\n",
    "crop = config['crop']\n",
    "shape = config['shape']\n",
    "best_frame = config['best_frame']\n",
    "contrasts = config['contrasts']\n",
    "hmi_con_series = config['hmi_con_series']\n",
    "hmi_mag_series = config['hmi_mag_series']\n",
    "email = config['email']\n",
    "fov_angle = config['fov_angle']\n",
    "plot_sst_pointings_flag = config['plot_sst_pointings_flag']\n",
    "plot_hmi_ic_mag_flag = config['plot_hmi_ic_mag_flag']\n",
    "plot_crisp_image_flag = config['plot_crisp_image_flag']"
   ]
  },
  {
   "cell_type": "code",
   "execution_count": null,
   "metadata": {},
   "outputs": [],
   "source": [
    "# Extract the fits information from the header\n",
    "fits_info = config['fits_info']\n",
    "nx = fits_info['nx']\n",
    "ny = fits_info['ny']\n",
    "mu = fits_info['mu']\n",
    "x1 = fits_info['hplnt'][tt][0]\n",
    "x2 = fits_info['hplnt'][tt][1]\n",
    "y1 = fits_info['hpltt'][tt][0]\n",
    "y2 = fits_info['hpltt'][tt][1]\n",
    "tobs = fits_info['all_start_times'][tt]\n",
    "tstart = fits_info['start_time_obs']\n",
    "tend = fits_info['end_time_obs']\n",
    "hplnt = fits_info['hplnt']\n",
    "hpltt = fits_info['hpltt']"
   ]
  },
  {
   "cell_type": "code",
   "execution_count": null,
   "metadata": {},
   "outputs": [],
   "source": [
    "# Reset the x and y ranges if cropping is enabled\n",
    "if crop:\n",
    "    x_list = np.linspace(x1, x2, num=nx)\n",
    "    y_list = np.linspace(y1, y2, num=ny)\n",
    "    x_list = x_list[xrange[0]:xrange[1]]\n",
    "    y_list = y_list[yrange[0]:yrange[1]]\n",
    "    x1 = x_list[0]\n",
    "    x2 = x_list[-1]\n",
    "    y1 = y_list[0]\n",
    "    y2 = y_list[-1]\n",
    "    nx = xsize\n",
    "    ny = ysize"
   ]
  },
  {
   "cell_type": "code",
   "execution_count": null,
   "metadata": {},
   "outputs": [],
   "source": [
    "if plot_sst_pointings_flag:\n",
    "    plot_sst_pointings(tstart, hmi_con_series, hplnt, hpltt,figsize=(6, 6), email=email, save_dir=save_dir)"
   ]
  },
  {
   "cell_type": "code",
   "execution_count": null,
   "metadata": {},
   "outputs": [],
   "source": [
    "if plot_hmi_ic_mag_flag:\n",
    "    plot_hmi_ic_mag(tobs, hmi_con_series, hmi_mag_series, email, x1, x2, y1, y2, save_dir=save_dir, figsize=(10, 5),  is_north_up=is_north_up, fov_angle=fov_angle, shape=shape)"
   ]
  },
  {
   "cell_type": "code",
   "execution_count": null,
   "metadata": {},
   "outputs": [],
   "source": [
    "if plot_crisp_image_flag:\n",
    "    print('SST CRISP image with North up:', not(is_north_up))\n",
    "    iu.plot_crisp_image(crisp_im, tt=tt, ss=0, ww=0, figsize=(6,6), fontsize=10, rot_fov=fov_angle, north_up=not(is_north_up), crop=crop, xrange=xrange, yrange=yrange, xtick_range=[x1,x2], ytick_range=[y1,y2])"
   ]
  },
  {
   "cell_type": "code",
   "execution_count": null,
   "metadata": {},
   "outputs": [],
   "source": [
    "inversion_config = iu.load_yaml_config('inversion_config.yaml')\n",
    "# Load the variables from the inversion configuration\n",
    "dtype = inversion_config['dtype']\n",
    "nthreads = inversion_config['nthreads']\n",
    "sigma_strength= inversion_config['sigma_strength']\n",
    "sigma_list = inversion_config['sigma_list']\n",
    "erh = inversion_config['erh']\n",
    "init_model_params = inversion_config['init_model_params']\n",
    "nRandom1 = inversion_config['nRandom1']\n",
    "nIter1 = inversion_config['nIter1']\n",
    "chi2_thres1 = inversion_config['chi2_thres1']\n",
    "median_filter_chi2_mean_thres = inversion_config['median_filter_chi2_mean_thres']\n",
    "median_filter_size = inversion_config['median_filter_size']\n",
    "nRandom2 = inversion_config['nRandom2']\n",
    "nIter2 = inversion_config['nIter2']\n",
    "chi2_thres2 = inversion_config['chi2_thres2']\n",
    "nIter3 = inversion_config['nIter3']\n",
    "chi2_thres3 = inversion_config['chi2_thres3']\n",
    "alpha_strength = inversion_config['alpha_strength']\n",
    "alpha_list = inversion_config['alpha_list']\n",
    "nan_mask_replacements = inversion_config['nan_mask_replacements']\n",
    "verbose = inversion_config['verbose']"
   ]
  },
  {
   "cell_type": "code",
   "execution_count": null,
   "metadata": {},
   "outputs": [],
   "source": [
    "ll = meu.load_crisp_frame(crisp_im, tt, crop=crop, xrange=xrange, yrange=yrange)"
   ]
  },
  {
   "cell_type": "code",
   "execution_count": null,
   "metadata": {},
   "outputs": [],
   "source": [
    "obs, sig, l0, me = meu.init_me_model(ll, sigma_strength, sigma_list, erh=erh, dtype=dtype, nthreads=nthreads)"
   ]
  },
  {
   "cell_type": "code",
   "execution_count": null,
   "metadata": {},
   "outputs": [],
   "source": [
    "Imodel = meu.init_model(me, ny, nx, init_model_params=init_model_params, dtype=dtype)"
   ]
  },
  {
   "cell_type": "code",
   "execution_count": null,
   "metadata": {},
   "outputs": [],
   "source": [
    "Imodel, syn, chi2 = meu.run_randomised_me_inversion(Imodel, me, obs, sig, nRandom=nRandom1, nIter=nIter1, chi2_thres=chi2_thres1, mu=mu, verbose=verbose)\n",
    "masked_chi2_mean = iu.masked_mean(chi2, ll.mask)\n",
    "if verbose:\n",
    "    print(f'Masked chi2 mean: {masked_chi2_mean:.2f}')\n",
    "    iu.plot_inversion_output(Imodel, ll.mask, scale=scale, save_fig=False)\n",
    "    iu.plot_mag(Imodel, ll.mask, scale=scale, save_fig=False)"
   ]
  },
  {
   "cell_type": "code",
   "execution_count": null,
   "metadata": {},
   "outputs": [],
   "source": [
    "importlib.reload(meu)"
   ]
  },
  {
   "cell_type": "code",
   "execution_count": null,
   "metadata": {},
   "outputs": [],
   "source": [
    "Imodel = meu.apply_median_filter_based_on_chi2(Imodel, masked_chi2_mean, median_filter_chi2_mean_thres, median_filter_size)\n",
    "if verbose:    \n",
    "    iu.plot_inversion_output(Imodel,ll.mask,scale=scale, save_fig=False)\n",
    "    iu.plot_mag(Imodel,ll.mask,scale=scale, save_fig=False)"
   ]
  },
  {
   "cell_type": "code",
   "execution_count": null,
   "metadata": {},
   "outputs": [],
   "source": [
    "Imodel, syn, chi2 = meu.run_randomised_me_inversion(Imodel, me, obs, sig, nRandom=nRandom2, nIter=nIter2, chi2_thres=chi2_thres2, mu=mu, verbose=verbose)\n",
    "masked_chi2_mean = iu.masked_mean(chi2, ll.mask)\n",
    "if verbose:\n",
    "    print(f'Masked chi2 mean: {masked_chi2_mean:.2f}')\n",
    "    iu.plot_inversion_output(Imodel, ll.mask, scale=scale, save_fig=False)\n",
    "    iu.plot_mag(Imodel, ll.mask, scale=scale, save_fig=False)"
   ]
  },
  {
   "cell_type": "code",
   "execution_count": null,
   "metadata": {},
   "outputs": [],
   "source": [
    "mo, syn, chi2 = meu.run_spatially_regularized_inversion(me, Imodel, obs, sig, nIter3, chi2_thres3, mu, alpha_strength, alpha_list, method=1, delay_bracket=3, dtype=dtype,verbose=True)\n"
   ]
  },
  {
   "cell_type": "code",
   "execution_count": null,
   "metadata": {},
   "outputs": [],
   "source": [
    "errors = me.estimate_uncertainties(np.squeeze(mo), obs, sig, mu=mu)"
   ]
  },
  {
   "cell_type": "code",
   "execution_count": null,
   "metadata": {},
   "outputs": [],
   "source": [
    "corrected_mo = meu.correct_velocities_for_cavity_error(mo, ll.cmap, l0, global_offset=0.0)"
   ]
  },
  {
   "cell_type": "code",
   "execution_count": null,
   "metadata": {},
   "outputs": [],
   "source": [
    "if verbose:\n",
    "    print(f'Masked chi2 mean: {masked_chi2_mean:.2f}')\n",
    "    iu.plot_inversion_output(corrected_mo,ll.mask,scale=scale, save_fig=False)\n",
    "    iu.plot_mag(corrected_mo,ll.mask,scale=scale, save_fig=False)"
   ]
  },
  {
   "cell_type": "markdown",
   "metadata": {},
   "source": [
    "---"
   ]
  },
  {
   "cell_type": "code",
   "execution_count": null,
   "metadata": {},
   "outputs": [],
   "source": [
    "iu.plot_sst_blos_bhor(blos_cube, bhor_cube, tt=tt,xrange=xrange, yrange=yrange, figsize=(20,10), fontsize=12, crop=crop)"
   ]
  },
  {
   "cell_type": "code",
   "execution_count": null,
   "metadata": {},
   "outputs": [],
   "source": []
  },
  {
   "cell_type": "code",
   "execution_count": null,
   "metadata": {},
   "outputs": [],
   "source": [
    "importlib.reload(iu)"
   ]
  },
  {
   "cell_type": "code",
   "execution_count": null,
   "metadata": {},
   "outputs": [],
   "source": [
    "from einops import rearrange\n",
    "mos_im = rearrange(mos, 'ny nx nparams -> nparams ny nx')\n",
    "errors_im = rearrange(errors, 'ny nx nparams -> nparams ny nx')"
   ]
  },
  {
   "cell_type": "code",
   "execution_count": null,
   "metadata": {},
   "outputs": [],
   "source": [
    "for i in range(9):\n",
    "    iu.masked_stats(mos[:,:,i], mask)"
   ]
  },
  {
   "cell_type": "code",
   "execution_count": null,
   "metadata": {},
   "outputs": [],
   "source": [
    "inversion_mask_replacements = [0, 0, 0, 0, 0, 0, 0, 0, 0] # Blos, inc, azi, v_los, v_dop, line op, damping, s0, s1"
   ]
  },
  {
   "cell_type": "code",
   "execution_count": null,
   "metadata": {},
   "outputs": [],
   "source": [
    "masked_mos = np.zeros_like(mos)\n",
    "for i in range(9):\n",
    "    masked_mos[:,:,i] = iu.masked_data(mos[:,:,i], mask, replace_val=inversion_mask_replacements[i])\n"
   ]
  },
  {
   "cell_type": "code",
   "execution_count": null,
   "metadata": {},
   "outputs": [],
   "source": [
    "iu.plot_inversion_output(masked_mos,scale=scale, save_fig=False)"
   ]
  },
  {
   "cell_type": "code",
   "execution_count": null,
   "metadata": {},
   "outputs": [],
   "source": [
    "masked_errors = np.zeros_like(errors)\n",
    "for i in range(9):\n",
    "    masked_errors[:,:,i] = iu.masked_data(errors[:,:,i], mask, replace_val=inversion_mask_replacements[i], fix_inf=True)\n",
    "iu.plot_inversion_output(masked_errors,scale=scale, save_fig=False)"
   ]
  },
  {
   "cell_type": "code",
   "execution_count": null,
   "metadata": {},
   "outputs": [],
   "source": [
    "for i in range(9):\n",
    "    iu.masked_stats(errors[:,:,i], mask)"
   ]
  },
  {
   "cell_type": "code",
   "execution_count": null,
   "metadata": {},
   "outputs": [],
   "source": [
    "b_err = iu.masked_data(errors[:,:,0], mask)\n",
    "print(np.nanmean(b_err))\n",
    "print(np.nanmin(b_err))\n",
    "print(np.nanmax(b_err))"
   ]
  },
  {
   "cell_type": "code",
   "execution_count": null,
   "metadata": {},
   "outputs": [],
   "source": [
    "importlib.reload(iu)\n",
    "iu.plot_image(masked_errors[:,:,1], scale=scale, title='B_tot (G)', save_fig=False, clip=True, vmax=1, vmin=0)"
   ]
  },
  {
   "cell_type": "code",
   "execution_count": null,
   "metadata": {},
   "outputs": [],
   "source": [
    "# apply masked_data to all components or errors and save as masked_errors\n",
    "masked_errors = np.zeros((ny, nx, 9), dtype=dtype)\n",
    "for i in range(9):\n",
    "    masked_errors[:,:,i] = iu.masked_data(errors[:,:,i], mask)"
   ]
  },
  {
   "cell_type": "code",
   "execution_count": null,
   "metadata": {},
   "outputs": [],
   "source": [
    "importlib.reload(iu)\n",
    "minc = iu.masked_data(errors[:,:,1], mask, replace_val=0)\n",
    "print(np.min(minc))\n",
    "print(np.max(minc))\n",
    "print(np.median(minc))"
   ]
  },
  {
   "cell_type": "code",
   "execution_count": null,
   "metadata": {},
   "outputs": [],
   "source": [
    "iu.plot_inversion_output(masked_errors, mask, scale=scale, save_fig=False)"
   ]
  },
  {
   "cell_type": "code",
   "execution_count": null,
   "metadata": {},
   "outputs": [],
   "source": [
    "iu.plot_output(mos,mask,scale=scale)\n",
    "iu.plot_mag(Imodel,mask,scale=scale, save_fig=False)"
   ]
  },
  {
   "cell_type": "code",
   "execution_count": null,
   "metadata": {},
   "outputs": [],
   "source": [
    "## save the results as fits files with the same header as the input data\n",
    "iu.save_fits(mos, fits_header, 'temp/inv_mos.fits', overwrite=True)"
   ]
  },
  {
   "cell_type": "code",
   "execution_count": null,
   "metadata": {},
   "outputs": [],
   "source": [
    "ff = iu.load_fits_data('temp/inv_mos.fits')"
   ]
  },
  {
   "cell_type": "code",
   "execution_count": null,
   "metadata": {},
   "outputs": [],
   "source": [
    "hh = iu.load_fits_header('temp/inv_mos.fits')"
   ]
  },
  {
   "cell_type": "markdown",
   "metadata": {},
   "source": [
    "#### Things to complete\n",
    "- [x] Move all the inputs to a dictionary and later save them in the header of the output file. Also add the best seeing frame number.\n",
    "- [x] Move the preprocessing steps like plotting and FOV details as an optional but default true step\n",
    "- [x] Plot a rectangle to show cropping region is true\n",
    "- [ ] Save fits with [blos, theta, phi, vlos + errors + mask] for each frame (temporarily) and later combine for final fits\n",
    "- [ ] Check for option to convert to fcube and icube formats using ispy or helita tools\n",
    "- [ ] Add option to do only one frame separately if user wants.\n",
    "- [ ] Add fov angle and other inputs needed for ambiguity resolution and remap in header"
   ]
  },
  {
   "cell_type": "markdown",
   "metadata": {},
   "source": [
    "#### To do for final cube\n",
    "- [x] Pick the best seeing frame from the dataset\n",
    "- [ ] Run the full inversion for the best seeing frame\n",
    "- [ ] Use this output as an initial guess for the other frames\n"
   ]
  }
 ],
 "metadata": {
  "kernelspec": {
   "display_name": "pymilne",
   "language": "python",
   "name": "python3"
  },
  "language_info": {
   "codemirror_mode": {
    "name": "ipython",
    "version": 3
   },
   "file_extension": ".py",
   "mimetype": "text/x-python",
   "name": "python",
   "nbconvert_exporter": "python",
   "pygments_lexer": "ipython3",
   "version": "3.12.2"
  }
 },
 "nbformat": 4,
 "nbformat_minor": 2
}
