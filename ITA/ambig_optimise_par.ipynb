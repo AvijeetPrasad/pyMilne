{
 "cells": [
  {
   "cell_type": "code",
   "execution_count": null,
   "metadata": {},
   "outputs": [],
   "source": [
    "import numpy as np\n",
    "import itertools\n",
    "import os\n",
    "import ambig_utils as au\n",
    "import importlib\n",
    "import inversion_utils as iu\n",
    "import matplotlib.pyplot as plt\n",
    "from IPython.display import display\n",
    "from IPython.display import clear_output\n",
    "from skimage.transform import resize\n",
    "from joblib import Parallel, delayed"
   ]
  },
  {
   "cell_type": "code",
   "execution_count": null,
   "metadata": {},
   "outputs": [],
   "source": [
    "importlib.reload(au)\n",
    "importlib.reload(au)\n",
    "clear_output()"
   ]
  },
  {
   "cell_type": "code",
   "execution_count": null,
   "metadata": {},
   "outputs": [],
   "source": [
    "ambig_executable_path = '/mn/stornext/u3/avijeetp/codes/ambiguity_resolution/ME0-2.1.1/'\n",
    "par_file = 'ambig_par'\n",
    "save_dir = 'temp_ambig'\n",
    "ambig_input = os.path.join(save_dir, 'ambig_input.dat')\n",
    "params = au.read_ambig_par_file(par_file)\n",
    "params['filename'] = ambig_input\n",
    "params"
   ]
  },
  {
   "cell_type": "code",
   "execution_count": null,
   "metadata": {},
   "outputs": [],
   "source": [
    "# au.write_ambig_par_file('test_ambig_par', params,pprint=True)"
   ]
  },
  {
   "cell_type": "code",
   "execution_count": null,
   "metadata": {},
   "outputs": [],
   "source": [
    "au.get_par_range('iaflag', verbose=True)"
   ]
  },
  {
   "cell_type": "code",
   "execution_count": null,
   "metadata": {},
   "outputs": [],
   "source": [
    "# for key in list(params.keys())[1:]:\n",
    "#     print(key, au.get_par_range(key, verbose=False))"
   ]
  },
  {
   "cell_type": "code",
   "execution_count": null,
   "metadata": {},
   "outputs": [],
   "source": [
    "par_key = 'bthresh'\n",
    "param_ranges = {\n",
    "    # par_key: au.get_par_range(par_key, verbose=False),\n",
    "    par_key: au.get_par_range(par_key, verbose=False, start=200, end=800, step=200),\n",
    "}\n",
    "param_ranges"
   ]
  },
  {
   "cell_type": "code",
   "execution_count": null,
   "metadata": {},
   "outputs": [],
   "source": [
    "# Create a list of param dictionaries by varying the parameters\n",
    "params_to_vary = param_ranges.keys()\n",
    "params_list = []\n",
    "id = 0\n",
    "id_dict = {}\n",
    "for param in params_to_vary:\n",
    "    param_range = param_ranges[param]\n",
    "    # print(f'{param}: {param_range}')\n",
    "    # create a copy of the existing params dictionary\n",
    "    new_params = params.copy()\n",
    "    for value in param_range:\n",
    "        new_params[param] = value\n",
    "        params_list.append(new_params.copy())\n",
    "        print(f'{id}: [{param}, {value}]')\n",
    "        id_dict[id] = [param, value]\n",
    "        id += 1\n",
    "        # print(new_params)"
   ]
  },
  {
   "cell_type": "code",
   "execution_count": null,
   "metadata": {},
   "outputs": [],
   "source": [
    "# restore variables from 'temp_ambig_par/ambig_test.npz'\n",
    "npzpath = os.path.join(save_dir, 'ambig_input.npz')\n",
    "npzfile = np.load(npzpath)"
   ]
  },
  {
   "cell_type": "code",
   "execution_count": null,
   "metadata": {},
   "outputs": [],
   "source": [
    "count = 0\n",
    "par_files = []\n",
    "for new_param in params_list:\n",
    "    par_file = f'ambig_par_{count}'\n",
    "    par_file = os.path.join(save_dir, par_file)\n",
    "    au.write_ambig_par_file(par_file, new_param,pprint=False)\n",
    "    count += 1\n",
    "    par_files.append(par_file)"
   ]
  },
  {
   "cell_type": "code",
   "execution_count": null,
   "metadata": {},
   "outputs": [],
   "source": [
    "# Print the keys of the npz file\n",
    "print(npzfile.files)"
   ]
  },
  {
   "cell_type": "code",
   "execution_count": null,
   "metadata": {},
   "outputs": [],
   "source": [
    "pix = npzfile['pix'].item()\n",
    "pbr = npzfile['pbr'][0], npzfile['pbr'][1], npzfile['pbr'][2]\n",
    "lonlat = npzfile['lonlat'][0], npzfile['lonlat'][1]\n",
    "blos = npzfile['blos']\n",
    "bhor = npzfile['bhor']\n",
    "bazi = npzfile['bazi']"
   ]
  },
  {
   "cell_type": "code",
   "execution_count": null,
   "metadata": {},
   "outputs": [],
   "source": [
    "rescale = 1\n",
    "ysize, xsize = blos.shape \n",
    "ysize = ysize // rescale\n",
    "xsize = xsize // rescale\n",
    "if ysize % 2 != 0:\n",
    "    ysize += 1\n",
    "if xsize % 2 != 0:\n",
    "    xsize += 1\n",
    "print(f'Shape before rescale: {blos.shape}')\n",
    "# Resample the array to the new size\n",
    "blos = resize(blos, (ysize, xsize), anti_aliasing=True)\n",
    "bhor = resize(bhor, (ysize, xsize), anti_aliasing=True)\n",
    "bazi = resize(bazi, (ysize, xsize), anti_aliasing=True)\n",
    "\n",
    "print(f'Shape after rescale: {blos.shape}')\n",
    "iu.plot_image(blos, figsize=(6, 6), title=f'Blos ({ysize}x{xsize})')"
   ]
  },
  {
   "cell_type": "code",
   "execution_count": null,
   "metadata": {},
   "outputs": [],
   "source": [
    "au.write_ambig_input(save_dir, pix, pbr, lonlat, blos, bhor, bazi)"
   ]
  },
  {
   "cell_type": "code",
   "execution_count": null,
   "metadata": {},
   "outputs": [],
   "source": [
    "params"
   ]
  },
  {
   "cell_type": "code",
   "execution_count": null,
   "metadata": {},
   "outputs": [],
   "source": [
    "\n",
    "\n",
    "# Function to process each parameter file\n",
    "def process_param_file(id, par_file, bhor, blos, ambig_executable_path, save_dir, data_mask):\n",
    "    bx, by, bz, phi, metrics, fig = au.disambig_azimuth(bhor, blos, par_file, ambig_executable_path, id, plot_fig=True, save_dir=save_dir, save_fig=True, data_mask=data_mask)\n",
    "    # Save the disambiguated magnetic field components to a npz file\n",
    "    ambig_outfile = os.path.join(save_dir, f'ambig_out_{id}.npz')\n",
    "    # Remove the ambig_outfile if it already exists\n",
    "    if os.path.exists(ambig_outfile):\n",
    "        os.remove(ambig_outfile)\n",
    "    np.savez(ambig_outfile, bx=bx, by=by, bz=bz, phi=phi, metrics=metrics)\n",
    "    return ambig_outfile, metrics, fig\n",
    "\n",
    "# List to store results\n",
    "ambig_outfiles = []\n",
    "ambig_metrics = []\n",
    "ambig_figs = []\n",
    "\n",
    "# Create a mask for avoiding regions where blos=0\n",
    "data_mask = blos != 0\n",
    "\n",
    "# Use joblib to parallelize the loop\n",
    "results = Parallel(n_jobs=-1)(delayed(process_param_file)(id, par_files[id], bhor, blos, ambig_executable_path, save_dir, data_mask) for id in range(len(par_files)))\n",
    "\n",
    "# Unpack results\n",
    "for ambig_outfile, metrics, fig in results:\n",
    "    ambig_outfiles.append(ambig_outfile)\n",
    "    ambig_metrics.append(metrics)\n",
    "    ambig_figs.append(fig)\n",
    "    # clear_output()\n"
   ]
  },
  {
   "cell_type": "code",
   "execution_count": null,
   "metadata": {},
   "outputs": [],
   "source": [
    "# ambig_outfiles = []\n",
    "# ambig_metrics = []\n",
    "# ambig_figs = []\n",
    "# data_mask =  blos != 0 # create a mask for avoiding regions where blos=0\n",
    "# for id in range(len(par_files)):\n",
    "#     par_file = par_files[id]\n",
    "#     bx, by, bz, phi, metrics, fig = au.disambig_azimuth(bhor, blos, par_file, ambig_executable_path, id, plot_fig=True, save_dir=save_dir, save_fig=True, data_mask=data_mask)\n",
    "#     # save the disambiguated magnetic field components to a npz file\n",
    "#     ambig_outfile = os.path.join(save_dir, f'ambig_out_{id}.npz')\n",
    "#     # remove the ambig_outfile if it already exists\n",
    "#     if os.path.exists(ambig_outfile):\n",
    "#         os.remove(ambig_outfile)\n",
    "#     np.savez(ambig_outfile, bx=bx, by=by, bz=bz, phi=phi, metrics=metrics)\n",
    "#     ambig_outfiles.append(ambig_outfile)\n",
    "#     ambig_metrics.append(metrics)\n",
    "#     ambig_figs.append(fig)\n",
    "#     clear_output()"
   ]
  },
  {
   "cell_type": "code",
   "execution_count": null,
   "metadata": {},
   "outputs": [],
   "source": [
    "\n",
    "# Display each figure in the list\n",
    "for fig in ambig_figs:\n",
    "    display(fig)\n",
    "    plt.close(fig)  # Close the figure after displaying to avoid re-displaying in later cells\n"
   ]
  },
  {
   "cell_type": "code",
   "execution_count": null,
   "metadata": {},
   "outputs": [],
   "source": [
    "keys = list(ambig_metrics[0].keys())\n",
    "count = 0\n",
    "for metric in ambig_metrics:\n",
    "    print(f'{count}: {id_dict[count][0]}: {id_dict[count][1]}:', end=' ')\n",
    "    for key in keys:\n",
    "        print(f'{metric[key]:.2f}', end=' ')\n",
    "    print()\n",
    "    count += 1"
   ]
  }
 ],
 "metadata": {
  "kernelspec": {
   "display_name": "pymilne",
   "language": "python",
   "name": "python3"
  },
  "language_info": {
   "codemirror_mode": {
    "name": "ipython",
    "version": 3
   },
   "file_extension": ".py",
   "mimetype": "text/x-python",
   "name": "python",
   "nbconvert_exporter": "python",
   "pygments_lexer": "ipython3",
   "version": "3.12.2"
  }
 },
 "nbformat": 4,
 "nbformat_minor": 2
}
