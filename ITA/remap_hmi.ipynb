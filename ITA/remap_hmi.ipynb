{
 "cells": [
  {
   "cell_type": "code",
   "execution_count": null,
   "metadata": {},
   "outputs": [],
   "source": [
    "from astropy.coordinates import SkyCoord\n",
    "from astropy.io import fits\n",
    "from sunpy.coordinates import frames\n",
    "# from sunpy.coordinates import sun\n",
    "from sunpy.map import Map\n",
    "import astropy.units as u\n",
    "import importlib\n",
    "import inv_utils as iu\n",
    "# import matplotlib.pyplot as plt\n",
    "import numpy as np\n",
    "import remap\n",
    "import warnings\n",
    "from sunpy.util.exceptions import SunpyMetadataWarning\n",
    "\n",
    "# Ignore specific warning\n",
    "# Ignore specific SunpyMetadataWarnings\n",
    "warnings.filterwarnings(\"ignore\", category=SunpyMetadataWarning, message=\"Could not parse unit string.*\")"
   ]
  },
  {
   "cell_type": "markdown",
   "metadata": {},
   "source": [
    "#### Conversion from HMI SHARP to HMI SHARP-CEA dataset"
   ]
  },
  {
   "cell_type": "code",
   "execution_count": null,
   "metadata": {},
   "outputs": [],
   "source": [
    "# Setup the paths for HMI SHARP and SHARP-CEA datasets\n",
    "# -----------------------------\n",
    "data_dir             = '/mn/stornext/d9/data/avijeetp/1_Projects/33_SST/HMI/20200807/'\n",
    "file_field          = data_dir + 'hmi.sharp_720s.7436.20200807_060000_TAI.field.fits'\n",
    "file_inclination    = data_dir + 'hmi.sharp_720s.7436.20200807_060000_TAI.inclination.fits'\n",
    "file_azimuth        = data_dir + 'hmi.sharp_720s.7436.20200807_060000_TAI.azimuth.fits'\n",
    "file_bp_cea         = data_dir + 'hmi.sharp_cea_720s.7436.20200807_060000_TAI.Bp.fits'\n",
    "file_br_cea         = data_dir + 'hmi.sharp_cea_720s.7436.20200807_060000_TAI.Br.fits'\n",
    "file_bt_cea         = data_dir + 'hmi.sharp_cea_720s.7436.20200807_060000_TAI.Bt.fits'\n",
    "\n",
    "# -----------------------------\n",
    "# data_dir = '/mn/stornext/d9/data/avijeetp/1_Projects/33_SST/HMI/sharp_example/'\n",
    "# file_field       = data_dir + 'hmi.sharp_720s.377.20110216_180000_TAI.field.fits'\n",
    "# file_inclination = data_dir + 'hmi.sharp_720s.377.20110216_180000_TAI.inclination.fits'\n",
    "# file_azimuth     = data_dir + 'hmi.sharp_720s.377.20110216_180000_TAI.azimuth.fits'\n",
    "# file_bp_cea = data_dir + 'hmi.sharp_cea_720s.377.20110216_180000_TAI.Bp.fits'\n",
    "# file_br_cea = data_dir + 'hmi.sharp_cea_720s.377.20110216_180000_TAI.Br.fits'\n",
    "# file_bt_cea = data_dir + 'hmi.sharp_cea_720s.377.20110216_180000_TAI.Bt.fits'"
   ]
  },
  {
   "cell_type": "code",
   "execution_count": null,
   "metadata": {},
   "outputs": [],
   "source": [
    "# Load the data\n",
    "field, field_header = fits.getdata(file_field, header=True)  \n",
    "inclination = fits.getdata(file_inclination)\n",
    "azimuth = fits.getdata(file_azimuth)\n",
    "blos = field * np.cos(inclination * np.pi / 180.0)"
   ]
  },
  {
   "cell_type": "code",
   "execution_count": null,
   "metadata": {},
   "outputs": [],
   "source": [
    "# Create sunpy maps for the SHARP datasets\n",
    "field_map = Map(file_field)   # B\n",
    "inclination_map = Map(file_inclination)  # theta\n",
    "azimuth_map = Map(file_azimuth)  # phi\n",
    "blos_map = Map(blos, field_map.meta)\n",
    "\n",
    "# Create sunpy maps for the SHARP-CEA datasets\n",
    "br_map = Map(file_br_cea)  # Bz\n",
    "bt_map = Map(file_bt_cea)  # -By\n",
    "bp_map = Map(file_bp_cea)  # Bx"
   ]
  },
  {
   "cell_type": "code",
   "execution_count": null,
   "metadata": {},
   "outputs": [],
   "source": [
    "# Plot the SHARP-CEA data to get a sense of the data\n",
    "iu.plot_images([bp_map.data, -bt_map.data, br_map.data], title=['Bx', 'By','Bz'], fontsize=10, figsize=(16,3.5), cmap='seismic', grid_shape=(1, 3), fig_title='SHARP-CEA Data')"
   ]
  },
  {
   "cell_type": "code",
   "execution_count": null,
   "metadata": {},
   "outputs": [],
   "source": [
    "# Plot the SHARP-CEA data on the solar disk and also project it to disc center for reference\n",
    "remap.plot_map_on_grid(br_map, vmin_percentile=0.5, vmax_percentile=99.5, figsize=(6,6), project_dc=True)"
   ]
  },
  {
   "cell_type": "code",
   "execution_count": null,
   "metadata": {},
   "outputs": [],
   "source": [
    "# Plot the Blos map from the sharp data (with 180 degree rotation, south pole at the top)\n",
    "blos_map.peek()"
   ]
  },
  {
   "cell_type": "code",
   "execution_count": null,
   "metadata": {},
   "outputs": [],
   "source": [
    "# To convert from the SHARP data to SHARP-CEA data, we need to remap the data. The first step is to get the WCS information.\n",
    "# Note that NAXIS1 corresponds to the x-axis and NAXIS2 corresponds to the y-axis. So, shape[1] corresponds to the x-axis and shape[0] corresponds to the y-axis.\n",
    "wcs_dict = remap.get_wcs_info(blos_map, verbose=True)"
   ]
  },
  {
   "cell_type": "code",
   "execution_count": null,
   "metadata": {},
   "outputs": [],
   "source": [
    "importlib.reload(remap)"
   ]
  },
  {
   "cell_type": "code",
   "execution_count": null,
   "metadata": {},
   "outputs": [],
   "source": [
    "# Remap the Blos data to CEA projection. The remap2cea function returns a sunpy map object. \n",
    "blos_cea = remap.remap2cea(wcs_dict, blos, debug=False)\n",
    "# Plot the remapped Blos CEA data. Note the data is also corrected for the 180 degree rotation.\n",
    "# The NAN values can be interpolated if needed by setting missing in the remap2cea function.\n",
    "blos_cea.peek()"
   ]
  },
  {
   "cell_type": "code",
   "execution_count": null,
   "metadata": {},
   "outputs": [],
   "source": [
    "# When we know the target WCS, we can also remap the SHARP-CEA data to the target WCS directly\n",
    "# using the sunpy reproject_to function. This function returns a sunpy map object.\n",
    "# The SHARP-CEA data is usually more cropped than the SHARP data to avoid the nan values at the edges.\n",
    "blos_map.reproject_to(br_map.wcs).peek()"
   ]
  },
  {
   "cell_type": "code",
   "execution_count": null,
   "metadata": {},
   "outputs": [],
   "source": [
    "# Print the shapes of the SHARP and SHARP-CEA datas. We see that we have slightly larger FOV in latitude.\n",
    "# But we are preserving more of the original data in the SHARP-CEA data.\n",
    "print(f'Blos SHARP shape     : {blos.shape}')\n",
    "print(f'Br SHARP-CEA shape   : {br_map.data.shape}')\n",
    "print(f'Blos SHARP-CEA shape : {blos_cea.data.shape}')"
   ]
  },
  {
   "cell_type": "code",
   "execution_count": null,
   "metadata": {},
   "outputs": [],
   "source": [
    "# Convert the SHARP field, inclination and azimuth to Cartesian components. Note the sign convention\n",
    "# Also note that the datasets have CROTA2=180, so south is at the top.\n",
    "\n",
    "# Note that for the HMI coordinates the conversion is as follows:\n",
    "# Bx = -B sin(theta) sin(phi)   <- Note the negative sign and sin(phi) instead of cos(phi)\n",
    "# By = B sin(theta) cos(phi)    <- Note the positive sign and cos(phi) instead of sin(phi)\n",
    "# Bz = B cos(theta)\n",
    "\n",
    "field_z = field * np.cos(inclination * np.pi / 180.0) # Bz with 180 deg rotation\n",
    "bhor = field * np.sin(inclination * np.pi / 180.0)\n",
    "field_y = bhor * np.cos(azimuth * np.pi / 180.0) #   By with 180 deg rotation # Note that \n",
    "field_x = -bhor * np.sin(azimuth * np.pi / 180.0) # -Bx with 180 deg rotation"
   ]
  },
  {
   "cell_type": "code",
   "execution_count": null,
   "metadata": {},
   "outputs": [],
   "source": [
    "# The remap.bvect2cea function remaps the SHARP data to CEA projection. The function returns the remapped Bx, By, Bz and the header.\n",
    "# Note that the function was written for HMI in mind, so it always assumes the south pole is at the top and Bx is negative.\n",
    "# delta_l=0.03\n",
    "bx, by, bz, header = remap.bvec2cea(wcs_dict, field_x, field_y, field_z, debug=False, missing='nan')\n",
    "bz_map = Map(bz, header)\n",
    "bx_map = Map(bx, header)\n",
    "by_map = Map(by, header)"
   ]
  },
  {
   "cell_type": "code",
   "execution_count": null,
   "metadata": {},
   "outputs": [],
   "source": [
    "# To highlight that the bvec2cea function takes 180 degree flipped -Bx, By, Bz as input, we plot the input and output data.\n",
    "iu.plot_images([field_x, field_y, field_z, bx_map.data, by_map.data, bz_map.data], title=['-Bx (180)', 'By (180)', 'Bz (180)', 'Bx', 'By', 'Bz'], grid_shape=(2, 3), cmap='seismic', figsize=(16, 7), aspect='auto', fig_title='Comparison of input (top) and output (bottom) data for the bvec2cea function')"
   ]
  },
  {
   "cell_type": "code",
   "execution_count": null,
   "metadata": {},
   "outputs": [],
   "source": [
    "# We can compare the SHARP-CEA data with the remapped SHARP data. We see that the data is very similar ecxept for the edges, where the HMI SHARP-CEA data is cropped.\n",
    "iu.plot_images([bp_map.data, -bt_map.data, br_map.data, bx_map.data, by_map.data, bz_map.data], title=['Br', '-Bt', 'Bp', 'Bx', 'By', 'Bz'], grid_shape=(2, 3), cmap='seismic', figsize=(16, 7), aspect='auto', fig_title='Comparison of HMI SHARP-CEA data (top) with ours (bottom)', cb_pad=0.18)"
   ]
  },
  {
   "cell_type": "markdown",
   "metadata": {},
   "source": [
    "---"
   ]
  },
  {
   "cell_type": "markdown",
   "metadata": {},
   "source": [
    "#### Cropping the HMI SHARP dataset and then converting it to SHARP-CEA dataset (For the 2020-08-07) dataset"
   ]
  },
  {
   "cell_type": "code",
   "execution_count": null,
   "metadata": {},
   "outputs": [],
   "source": [
    "blos_map.peek()"
   ]
  },
  {
   "cell_type": "code",
   "execution_count": null,
   "metadata": {},
   "outputs": [],
   "source": [
    "# We manually crop a region aroung the sunspot umbra and plot it. The region is defined by the coordinates x1, x2, y1, y2.\n",
    "x1, x2 = -476, -444 # arcsec\n",
    "y1, y2 = 260, 292   # arcsec\n",
    "bottom_left = SkyCoord(x1 * u.arcsec, y1 * u.arcsec, frame=blos_map.coordinate_frame)\n",
    "top_right = SkyCoord(x2 * u.arcsec, y2* u.arcsec, frame=blos_map.coordinate_frame)\n",
    "blos_submap = blos_map.submap(bottom_left, top_right=top_right)\n",
    "print(blos_submap.data.shape)\n",
    "blos_submap.peek()"
   ]
  },
  {
   "cell_type": "code",
   "execution_count": null,
   "metadata": {},
   "outputs": [],
   "source": [
    "# We then crop the same region in field, inclination and azimuth maps and plot them.\n",
    "# Note that the WCS info in submaps is updated automatically.\n",
    "field_submap = field_map.submap(bottom_left, top_right=top_right)\n",
    "inclination_submap = inclination_map.submap(bottom_left, top_right=top_right)\n",
    "azimuth_submap = azimuth_map.submap(bottom_left, top_right=top_right)"
   ]
  },
  {
   "cell_type": "code",
   "execution_count": null,
   "metadata": {},
   "outputs": [],
   "source": [
    "# We can also crop the SHARP-CEA data to the same region and plot it.\n",
    "br_submap = br_map.submap(bottom_left, top_right=top_right)\n",
    "bt_submap = bt_map.submap(bottom_left, top_right=top_right)\n",
    "bp_submap = bp_map.submap(bottom_left, top_right=top_right)\n",
    "br_submap.peek()\n",
    "# Note that the br_submap region is slightly larger than the blos_submap region. \n",
    "# This could be because of the rotation of the data, that is not accounted for in the submap function properly."
   ]
  },
  {
   "cell_type": "code",
   "execution_count": null,
   "metadata": {},
   "outputs": [],
   "source": [
    "# Remember that for the HMI coordinates the conversion is as follows:\n",
    "# Bx = -B sin(theta) sin(phi)   <- Note the negative sign and sin(phi) instead of cos(phi)\n",
    "# By =  B sin(theta) cos(phi)    <- Note the positive sign and cos(phi) instead of sin(phi)\n",
    "# Bz =  B cos(theta)\n",
    "field_x_crop = -field_submap.data * np.sin(inclination_submap.data * np.pi / 180.0) * np.sin(azimuth_submap.data * np.pi / 180.0)\n",
    "field_y_crop =  field_submap.data * np.sin(inclination_submap.data * np.pi / 180.0) * np.cos(azimuth_submap.data * np.pi / 180.0) \n",
    "field_z_crop =  field_submap.data * np.cos(inclination_submap.data * np.pi / 180.0)"
   ]
  },
  {
   "cell_type": "code",
   "execution_count": null,
   "metadata": {},
   "outputs": [],
   "source": [
    "# Get the WCS info for the cropped SHARP data\n",
    "wcs_crop = remap.get_wcs_info(blos_submap, verbose=True)"
   ]
  },
  {
   "cell_type": "code",
   "execution_count": null,
   "metadata": {},
   "outputs": [],
   "source": [
    "# We can simply remap any scalar component using the remap2cea function. The function returns a sunpy map object.\n",
    "blos_crop_cea = remap.remap2cea(wcs_crop, blos_submap.data, debug=False)\n",
    "blos_crop_cea.peek()"
   ]
  },
  {
   "cell_type": "code",
   "execution_count": null,
   "metadata": {},
   "outputs": [],
   "source": [
    "# For the vector transformation, we use the bvec2cea function. The function returns the remapped Bx, By, Bz and the header.\n",
    "bx_crop, by_crop, bz_crop, header_crop = remap.bvec2cea(wcs_crop, field_x_crop, field_y_crop, field_z_crop, debug=False, missing='nan')\n",
    "bx_submap = Map(bx_crop, header_crop)\n",
    "by_submap = Map(by_crop, header_crop)\n",
    "bz_submap = Map(bz_crop, header_crop)"
   ]
  },
  {
   "cell_type": "code",
   "execution_count": null,
   "metadata": {},
   "outputs": [],
   "source": [
    "# We can now compare the plots. Remember that the regions were slightly different due to the rotation of the data and the way submap function works.\n",
    "iu.plot_images([bp_submap.data, -bt_submap.data, br_submap.data, bx_crop, by_crop, bz_crop], title=['Br', '-Bt', 'Bp', 'Bx', 'By', 'Bz'], grid_shape=(2, 3), cmap='seismic', figsize=(16, 7), aspect='auto', fig_title='Comparison of cropped HMI SHARP-CEA data (top) with ours (bottom)', cb_pad=0.18)"
   ]
  },
  {
   "cell_type": "markdown",
   "metadata": {},
   "source": [
    "---"
   ]
  }
 ],
 "metadata": {
  "kernelspec": {
   "display_name": "avipy",
   "language": "python",
   "name": "python3"
  },
  "language_info": {
   "codemirror_mode": {
    "name": "ipython",
    "version": 3
   },
   "file_extension": ".py",
   "mimetype": "text/x-python",
   "name": "python",
   "nbconvert_exporter": "python",
   "pygments_lexer": "ipython3",
   "version": "3.12.2"
  }
 },
 "nbformat": 4,
 "nbformat_minor": 2
}
