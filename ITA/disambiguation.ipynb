{
 "cells": [
  {
   "cell_type": "code",
   "execution_count": null,
   "metadata": {},
   "outputs": [],
   "source": [
    "# Importing the required libraries, custom libraries and setting the python path\n",
    "from load_env_and_set_pythonpath import print_pythonpath\n",
    "import os\n",
    "import inversion_utils as iu\n",
    "import helita_io_lp as lp\n",
    "import time\n",
    "import numpy as np\n",
    "from skimage.transform import resize\n",
    "import ambig_utils as au\n",
    "from sunpy.coordinates import sun\n",
    "from astropy.coordinates import SkyCoord\n",
    "import astropy.units as u\n",
    "from sunpy.coordinates import frames\n",
    "import numpy as np\n",
    "if au.is_notebook():\n",
    "    from IPython.display import clear_output\n",
    "print_pythonpath()"
   ]
  },
  {
   "cell_type": "code",
   "execution_count": null,
   "metadata": {},
   "outputs": [],
   "source": [
    "import importlib\n",
    "importlib.reload(iu)"
   ]
  },
  {
   "cell_type": "code",
   "execution_count": null,
   "metadata": {},
   "outputs": [],
   "source": [
    "# Load the configuration from the JSON file\n",
    "input_config = iu.load_yaml_config('input_config.yaml')\n",
    "# Check the input configuration\n",
    "config = iu.check_input_config(input_config, pprint=True, confirm=False)"
   ]
  },
  {
   "cell_type": "code",
   "execution_count": null,
   "metadata": {},
   "outputs": [],
   "source": [
    "# Load the configuration from the JSON file\n",
    "\n",
    "# Path to ambig executable and par file\n",
    "ambig_executable_path = config['ambig_executable_path']\n",
    "ambig_par = config['ambig_par']\n",
    "\n",
    "# Fcubes file names saved in save_dir directory\n",
    "ambig_input_dir = config['ambig_input_dir']\n",
    "fbazi = config['fbazi']\n",
    "fbhor = config['fbhor']\n",
    "fblos = config['fblos']\n",
    "ambig_save_dir = config['ambig_save_dir']\n",
    "\n",
    "# Cropping and resize details\n",
    "crop = config['crop']\n",
    "xorg = config['xorg']\n",
    "xsize = config['xsize'] \n",
    "yorg = config['yorg']\n",
    "ysize = config['ysize']\n",
    "rescale = config['rescale']\n",
    "\n",
    "# North up and field of view angle details\n",
    "is_north_up = config['is_north_up']\n",
    "fov_angle = config['fov_angle']\n",
    "\n",
    "# Fits file details from CRISP header\n",
    "fits_info = config['fits_info']\n",
    "pix = config['scale']\n",
    "\n",
    "# Verbosity in prints\n",
    "verbose = config['verbose']"
   ]
  },
  {
   "cell_type": "code",
   "execution_count": null,
   "metadata": {},
   "outputs": [],
   "source": [
    "# Create a unique prefix for the output files based on the current time\n",
    "id = int(time.time())\n",
    "prefix = '_'.join(fblos.split('_')[1:-2]) + '_' + str(id) + '_'\n",
    "print(f'prefix: {prefix}')"
   ]
  },
  {
   "cell_type": "code",
   "execution_count": null,
   "metadata": {},
   "outputs": [],
   "source": [
    "# Load the data from the saved files\n",
    "# data_dir = '/mn/stornext/d20/RoCS/aditi/project/sst/inversion/pyMilne/ITA/temp3/'\n",
    "blos = lp.getdata(os.path.join(ambig_input_dir, fblos)) # nx, ny, nt\n",
    "bhor = lp.getdata(os.path.join(ambig_input_dir, fbhor))\n",
    "bazi = lp.getdata(os.path.join(ambig_input_dir, fbazi))"
   ]
  },
  {
   "cell_type": "code",
   "execution_count": null,
   "metadata": {},
   "outputs": [],
   "source": [
    "# Obtain the time index from the file name\n",
    "time_index = int(fblos.split('_')[-1].split('-')[0])\n",
    "print(f'time index: {time_index}')\n",
    "\n",
    "time_index = config['time_range'][0]\n",
    "print(f'time index: {time_index}')\n",
    "\n",
    "tt = time_index"
   ]
  },
  {
   "cell_type": "code",
   "execution_count": null,
   "metadata": {},
   "outputs": [],
   "source": [
    "blos.shape[2]"
   ]
  },
  {
   "cell_type": "code",
   "execution_count": null,
   "metadata": {},
   "outputs": [],
   "source": [
    "tt = 35"
   ]
  },
  {
   "cell_type": "code",
   "execution_count": null,
   "metadata": {},
   "outputs": [],
   "source": [
    "# Get the range of latitudes and longitudes from the fits file info\n",
    "\n",
    "x1 = fits_info['hplnt'][tt][0]\n",
    "x2 = fits_info['hplnt'][tt][1]\n",
    "y1 = fits_info['hpltt'][tt][0]\n",
    "y2 = fits_info['hpltt'][tt][1]\n",
    "xcen = (x1 + x2) / 2\n",
    "ycen = (y1 + y2) / 2\n",
    "tobs = fits_info['all_start_times'][tt]\n",
    "\n",
    "if blos.shape[2] == 1: # only one time step is loaded\n",
    "# drop the redundant time axis\n",
    "    blos = blos.squeeze().T # ny, nx\n",
    "    bhor = bhor.squeeze().T\n",
    "    bazi = bazi.squeeze().T\n",
    "else:\n",
    "    blos = blos[:,:,tt].T\n",
    "    bhor = bhor[:,:,tt].T\n",
    "    bazi = bazi[:,:,tt].T\n",
    "# Plot the data\n",
    "iu.plot_image(blos, figsize=(6, 6), title='Blos')\n",
    "\n",
    "# Crop the data if needed\n",
    "if crop:\n",
    "    blos = blos[yorg: yorg + ysize, xorg: xorg + xsize]\n",
    "    bhor = bhor[yorg: yorg + ysize, xorg: xorg + xsize]\n",
    "    bazi = bazi[yorg: yorg + ysize, xorg: xorg + xsize]\n",
    "    if verbose:\n",
    "        iu.plot_image(blos, figsize=(6, 6), title='Blos after cropping')\n",
    "\n",
    "if rescale and rescale != 1:\n",
    "    ysize, xsize = blos.shape \n",
    "    ysize = ysize // rescale\n",
    "    xsize = xsize // rescale\n",
    "    if ysize % 2 != 0:\n",
    "        ysize += 1\n",
    "    if xsize % 2 != 0:\n",
    "        xsize += 1\n",
    "    if verbose:\n",
    "        print(f'Shape before rescale: {blos.shape}')\n",
    "    # Resample the array to the new size\n",
    "    blos = resize(blos, (ysize, xsize), anti_aliasing=True)\n",
    "    bhor = resize(bhor, (ysize, xsize), anti_aliasing=True)\n",
    "    bazi = resize(bazi, (ysize, xsize), anti_aliasing=True)\n",
    "    if verbose:\n",
    "        print(f'Shape after rescale: {blos.shape}')\n",
    "        iu.plot_image(blos, figsize=(6, 6), title='Blos after rescaling')\n",
    "\n",
    "# Rotate the data to make it north-up\n",
    "if not is_north_up:\n",
    "    blos = iu.make_north_up(blos, fov_angle)\n",
    "    bhor = iu.make_north_up(bhor, fov_angle)\n",
    "    bazi = iu.make_north_up(bazi, fov_angle)\n",
    "    ysize, xsize = blos.shape \n",
    "    if verbose:\n",
    "        print(f'Shape after rotation: {blos.shape}')\n",
    "    if ysize % 2 != 0 or xsize % 2 != 0:\n",
    "        print('Resampling the array to ensure that the shape is a multiple of 2')\n",
    "        print(f'Shape before resampling: {blos.shape}')\n",
    "        # Resample the array to ensure that the shape is a multiple of 2\n",
    "        ysize = ysize // 2 * 2\n",
    "        xsize = xsize // 2 * 2\n",
    "        blos = resize(blos, (ysize, xsize), anti_aliasing=True)\n",
    "        bhor = resize(bhor, (ysize, xsize), anti_aliasing=True)\n",
    "        bazi = resize(bazi, (ysize, xsize), anti_aliasing=True)\n",
    "        if verbose:\n",
    "            iu.plot_image(blos, figsize=(6, 6), title='Blos after rotation')\n"
   ]
  },
  {
   "cell_type": "code",
   "execution_count": null,
   "metadata": {},
   "outputs": [],
   "source": [
    "\n",
    "# Create the mask for the data\n",
    "data_mask = blos != 0\n",
    "\n",
    "# Calculate the P, B0 and angular radius of the Sun, and convert the coordinates of center to Heliographic Stonyhurst longitude and latitude\n",
    "pbr = sun.P(tobs).value, sun.B0(tobs).value, sun.angular_radius(tobs).value\n",
    "coord = SkyCoord(xcen*u.arcsec, ycen*u.arcsec, obstime=tobs,\n",
    "                 frame=frames.Helioprojective, observer='earth')\n",
    "coord_hs = coord.transform_to(frames.HeliographicStonyhurst)\n",
    "lonlat = coord_hs.lon.value, coord_hs.lat.value\n",
    "print(f'P, B0, angular radius: {pbr}')\n",
    "print(f'lon, lat: {lonlat}')\n",
    "\n",
    "for ii in range(1):\n",
    "    print(f'Iteration: {ii}')\n",
    "    # Write the ambig input file\n",
    "    au.write_ambig_input('.', pix, pbr, lonlat, blos, bhor, bazi)\n",
    "    # DEBUG: save the variables pix, pbr, lonlat, blos, bhor, bazi to a file in npz format in temp_ambig directory\n",
    "    np.savez('temp_ambig/ambig_input.npz', pix=pix, pbr=pbr, lonlat=lonlat, blos=blos, bhor=bhor, bazi=bazi)\n",
    "    # Run the ambig code\n",
    "    bx, by, bz, bazi, metrics, fig = au.disambig_azimuth(bhor, blos, ambig_par, ambig_executable_path, id, plot_fig=True, save_dir=ambig_save_dir, save_fig=True, data_mask=data_mask)\n",
    "    # Read the parameters from the ambig par file\n",
    "    params = au.read_ambig_par_file(ambig_par)\n",
    "    # Update the seed value\n",
    "    params['iseed'] = ii\n",
    "    # # Increase the tfactr value\n",
    "    # params['tfactr'] *= 1.02\n",
    "    # # Round the tfactr value to 3 decimal places and set a max value of 0.998\n",
    "    # params['tfactr'] = min(0.998, round(params['tfactr'], 3))\n",
    "    au.write_ambig_par_file(ambig_par, params,pprint=True)\n",
    "    # Clear the output if running in a notebook\n",
    "    if au.is_notebook():\n",
    "        clear_output()\n"
   ]
  },
  {
   "cell_type": "code",
   "execution_count": null,
   "metadata": {},
   "outputs": [],
   "source": [
    "importlib.reload(iu)"
   ]
  },
  {
   "cell_type": "code",
   "execution_count": null,
   "metadata": {},
   "outputs": [],
   "source": [
    "# Plot the results\n",
    "iu.plot_images([bx, by, bz, bazi], title=['Bx', 'By','Bz', 'Phi'], fontsize=14, figsize=(20, 24), cmap=['gray', 'gray', 'gray', 'twilight'], grid_shape=(2, 2), fig_title=f'ID: {id}', save_fig=True, figname=ambig_save_dir + prefix + 'Bx_By_Bz_Phi.pdf', interpolation='nearest')"
   ]
  },
  {
   "cell_type": "code",
   "execution_count": null,
   "metadata": {},
   "outputs": [],
   "source": [
    "# copy the ambig_par file to the save_dir with suffix appended\n",
    "ambig_par_copy = ambig_save_dir  + prefix + 'par'\n",
    "os.system(f'cp {ambig_par} {ambig_par_copy}')\n",
    "if verbose:\n",
    "    print(f'Copied {ambig_par} to {ambig_par_copy}')\n",
    "\n",
    "# copy the ambig_input file to the save_dir with suffix appended\n",
    "ambig_input_copy = ambig_save_dir + prefix + 'ambig_input.dat'\n",
    "os.system(f'cp ./ambig_input.dat {ambig_input_copy}')\n",
    "if verbose:\n",
    "    print(f'Copied ./ambig_input.dat to {ambig_input_copy}')"
   ]
  },
  {
   "cell_type": "code",
   "execution_count": null,
   "metadata": {},
   "outputs": [],
   "source": [
    "# Save bx, by, bz, bazi to a npz file\n",
    "np.savez(ambig_save_dir + prefix + 'disambig_output_35_full_res.npz', bx=bx, by=by, bz=bz, bazi=bazi)\n",
    "print(f'Saved the disambiguated output to {ambig_save_dir + prefix + \"disambig_output_35_full_res.npz\"}')"
   ]
  }
 ],
 "metadata": {
  "kernelspec": {
   "display_name": "pymilne",
   "language": "python",
   "name": "python3"
  },
  "language_info": {
   "codemirror_mode": {
    "name": "ipython",
    "version": 3
   },
   "file_extension": ".py",
   "mimetype": "text/x-python",
   "name": "python",
   "nbconvert_exporter": "python",
   "pygments_lexer": "ipython3",
   "version": "3.12.2"
  }
 },
 "nbformat": 4,
 "nbformat_minor": 2
}
