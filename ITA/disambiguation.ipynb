{
 "cells": [
  {
   "cell_type": "code",
   "execution_count": null,
   "metadata": {},
   "outputs": [],
   "source": [
    "# Importing the required libraries, custom libraries and setting the python path\n",
    "from load_env_and_set_pythonpath import print_pythonpath\n",
    "import os\n",
    "import inversion_utils as iu\n",
    "import helita_io_lp as lp\n",
    "import time\n",
    "import numpy as np\n",
    "from skimage.transform import resize\n",
    "import ambig_utils as au\n",
    "from sunpy.coordinates import sun\n",
    "from astropy.coordinates import SkyCoord\n",
    "import astropy.units as u\n",
    "from sunpy.coordinates import frames\n",
    "import numpy as np\n",
    "print_pythonpath()"
   ]
  },
  {
   "cell_type": "code",
   "execution_count": null,
   "metadata": {},
   "outputs": [],
   "source": [
    "# Path of the ambig executable obtained from the compiling the ME0-2.1.1 Fortran code\n",
    "ambig_executable_path = '/mn/stornext/u3/avijeetp/codes/ambiguity_resolution/ME0-2.1.1/'\n",
    "# Path of the ambig_par file which is the input file for the ambig executable\n",
    "ambig_par = '/mn/stornext/u3/avijeetp/codes/pyMilne/ITA/ambig_par'\n",
    "# Load the fcube files obtained from the inversion\n",
    "# data_dir = '/mn/stornext/d20/RoCS/aditi/project/sst/inversion/pyMilne/ITA/temp3/'\n",
    "# fblos = 'Blos_6173_2021-06-22_T081750_2021-06-22_T090813_t_0-162.fcube'\n",
    "# fbhor = 'Bhor_6173_2021-06-22_T081750_2021-06-22_T090813_t_0-162.fcube'\n",
    "# fbazi = 'Bazi_6173_2021-06-22_T081750_2021-06-22_T090813_t_0-162.fcube'\n",
    "# fblos = 'Blos_6173_2020-08-07_T083019_2020-08-07_T083019_t_12-12.fcube'\n",
    "# fbhor = 'Bhor_6173_2020-08-07_T083019_2020-08-07_T083019_t_12-12.fcube'\n",
    "# fbazi = 'Bazi_6173_2020-08-07_T083019_2020-08-07_T083019_t_12-12.fcube'\n",
    "\n",
    "# data_dir = '/mn/stornext/d9/data/avijeetp/1_Projects/33_SST/2022-06-26/'\n",
    "\n",
    "fbhor = 'Bhor_6173_2022-06-26_T073626_2022-06-26_T094322_t_0-189.fcube'\n",
    "fblos = 'Blos_6173_2022-06-26_T073626_2022-06-26_T094322_t_0-189.fcube'\n",
    "fbazi = 'Bazi_6173_2022-06-26_T073626_2022-06-26_T094322_t_0-189.fcube'"
   ]
  },
  {
   "cell_type": "code",
   "execution_count": null,
   "metadata": {},
   "outputs": [],
   "source": [
    "# Load the configuration from the JSON file\n",
    "input_config = iu.load_yaml_config('input_config.yaml')\n",
    "# Check the input configuration\n",
    "config = iu.check_input_config(input_config, pprint=False, confirm=False)"
   ]
  },
  {
   "cell_type": "code",
   "execution_count": null,
   "metadata": {},
   "outputs": [],
   "source": [
    "# Load the configuration from the JSON file\n",
    "crop = config['crop']\n",
    "xorg = config['xorg']\n",
    "xsize = config['xsize'] \n",
    "yorg = config['yorg']\n",
    "ysize = config['ysize']\n",
    "rescale = config['rescale']\n",
    "is_north_up = config['is_north_up']\n",
    "fov_angle = config['fov_angle']\n",
    "fits_info = config['fits_info']\n",
    "verbose = config['verbose']\n",
    "save_dir = config['save_dir']\n",
    "pix = config['scale']"
   ]
  },
  {
   "cell_type": "code",
   "execution_count": null,
   "metadata": {},
   "outputs": [],
   "source": [
    "# Create a unique prefix for the output files based on the current time\n",
    "id = int(time.time())\n",
    "prefix = '_'.join(fblos.split('_')[1:-2]) + '_' + str(id) + '_'\n",
    "print(f'suffix: {prefix}')"
   ]
  },
  {
   "cell_type": "code",
   "execution_count": null,
   "metadata": {},
   "outputs": [],
   "source": [
    "# Obtain the time index from the file name\n",
    "time_index = int(fblos.split('_')[-1].split('-')[0])\n",
    "print(f'time index: {time_index}')"
   ]
  },
  {
   "cell_type": "code",
   "execution_count": null,
   "metadata": {},
   "outputs": [],
   "source": [
    "time_index = config['time_range'][0]\n",
    "print(f'time index: {time_index}')"
   ]
  },
  {
   "cell_type": "code",
   "execution_count": null,
   "metadata": {},
   "outputs": [],
   "source": [
    "# Get the range of latitudes and longitudes from the fits file info\n",
    "tt = time_index\n",
    "x1 = fits_info['hplnt'][tt][0]\n",
    "x2 = fits_info['hplnt'][tt][1]\n",
    "y1 = fits_info['hpltt'][tt][0]\n",
    "y2 = fits_info['hpltt'][tt][1]\n",
    "xcen = (x1 + x2) / 2\n",
    "ycen = (y1 + y2) / 2\n",
    "tobs = fits_info['all_start_times'][tt]"
   ]
  },
  {
   "cell_type": "code",
   "execution_count": null,
   "metadata": {},
   "outputs": [],
   "source": [
    "# Load the data from the saved files\n",
    "# data_dir = '/mn/stornext/d20/RoCS/aditi/project/sst/inversion/pyMilne/ITA/temp3/'\n",
    "blos = lp.getdata(save_dir + fblos) # nx, ny, nt\n",
    "bhor = lp.getdata(save_dir + fbhor)\n",
    "bazi = lp.getdata(save_dir + fbazi)\n"
   ]
  },
  {
   "cell_type": "code",
   "execution_count": null,
   "metadata": {},
   "outputs": [],
   "source": [
    "blos.shape"
   ]
  },
  {
   "cell_type": "code",
   "execution_count": null,
   "metadata": {},
   "outputs": [],
   "source": [
    "\n",
    "# drop the redundant time axis\n",
    "# blos = blos.squeeze().T # ny, nx\n",
    "# bhor = bhor.squeeze().T\n",
    "# bazi = bazi.squeeze().T\n",
    "blos1 = blos[:,:,time_index].T\n",
    "bhor1 = bhor[:,:,time_index].T\n",
    "bazi1 = bazi[:,:,time_index].T\n",
    "# Plot the data\n",
    "iu.plot_image(blos1, figsize=(6, 6), title='Blos')"
   ]
  },
  {
   "cell_type": "code",
   "execution_count": null,
   "metadata": {},
   "outputs": [],
   "source": [
    "np.min(bazi1), np.max(bazi1)    "
   ]
  },
  {
   "cell_type": "code",
   "execution_count": null,
   "metadata": {},
   "outputs": [],
   "source": [
    "# Crop the data if needed\n",
    "if crop:\n",
    "    blos1 = blos1[yorg: yorg + ysize, xorg: xorg + xsize]\n",
    "    bhor1 = bhor1[yorg: yorg + ysize, xorg: xorg + xsize]\n",
    "    bazi1 = bazi1[yorg: yorg + ysize, xorg: xorg + xsize]\n",
    "    if verbose:\n",
    "        iu.plot_image(blos1, figsize=(6, 6), title='Blos after cropping')"
   ]
  },
  {
   "cell_type": "code",
   "execution_count": null,
   "metadata": {},
   "outputs": [],
   "source": [
    "if rescale:\n",
    "    ysize, xsize = blos1.shape \n",
    "    ysize = ysize // rescale\n",
    "    xsize = xsize // rescale\n",
    "    if ysize % 2 != 0:\n",
    "        ysize += 1\n",
    "    if xsize % 2 != 0:\n",
    "        xsize += 1\n",
    "    if verbose:\n",
    "        print(f'Shape before rescale: {blos1.shape}')\n",
    "    # Resample the array to the new size\n",
    "    blos1 = resize(blos1, (ysize, xsize), anti_aliasing=True)\n",
    "    bhor1 = resize(bhor1, (ysize, xsize), anti_aliasing=True)\n",
    "    bazi1 = resize(bazi1, (ysize, xsize), anti_aliasing=True)\n",
    "    if verbose:\n",
    "        print(f'Shape after rescale: {blos1.shape}')\n",
    "        iu.plot_image(blos1, figsize=(6, 6), title='Blos after rescaling')\n"
   ]
  },
  {
   "cell_type": "code",
   "execution_count": null,
   "metadata": {},
   "outputs": [],
   "source": [
    "\n",
    "# Rotate the data to make it north-up\n",
    "if not is_north_up:\n",
    "    blos1 = iu.make_north_up(blos1, fov_angle)\n",
    "    bhor1 = iu.make_north_up(bhor1, fov_angle)\n",
    "    bazi1 = iu.make_north_up(bazi1, fov_angle)\n",
    "    ysize, xsize = blos.shape \n",
    "    if verbose:\n",
    "        print(f'Shape after rotation: {blos.shape}')\n",
    "    if ysize % 2 != 0 or xsize % 2 != 0:\n",
    "        print('Resampling the array to ensure that the shape is a multiple of 2')\n",
    "        # Resample the array to ensure that the shape is a multiple of 2\n",
    "        ysize = ysize // 2 * 2\n",
    "        xsize = xsize // 2 * 2\n",
    "        blos1 = resize(blos1, (ysize, xsize), anti_aliasing=True)\n",
    "        bhor1 = resize(bhor1, (ysize, xsize), anti_aliasing=True)\n",
    "        bazi1 = resize(bazi1, (ysize, xsize), anti_aliasing=True)\n",
    "        if verbose:\n",
    "            iu.plot_image(blos1, figsize=(6, 6), title='Blos after rotation')"
   ]
  },
  {
   "cell_type": "code",
   "execution_count": null,
   "metadata": {},
   "outputs": [],
   "source": [
    "# Calculate the P, B0 and angular radius of the Sun, and convert the coordinates of center to Heliographic Stonyhurst longitude and latitude\n",
    "pbr = sun.P(tobs).value, sun.B0(tobs).value, sun.angular_radius(tobs).value\n",
    "coord = SkyCoord(xcen*u.arcsec, ycen*u.arcsec, obstime=tobs,\n",
    "                 frame=frames.Helioprojective, observer='earth')\n",
    "coord_hs = coord.transform_to(frames.HeliographicStonyhurst)\n",
    "lonlat = coord_hs.lon.value, coord_hs.lat.value\n",
    "print(f'P, B0, angular radius: {pbr}')\n",
    "print(f'lon, lat: {lonlat}')"
   ]
  },
  {
   "cell_type": "code",
   "execution_count": null,
   "metadata": {},
   "outputs": [],
   "source": [
    "# save the variables pix, pbr, lonlat, blos1, bhor1, bazi1 to a file \n",
    "\n",
    "np.savez('temp_ambig/ambig_input.npz', pix=pix, pbr=pbr, lonlat=lonlat, blos=blos1, bhor=bhor1, bazi=bazi1)"
   ]
  },
  {
   "cell_type": "code",
   "execution_count": null,
   "metadata": {},
   "outputs": [],
   "source": [
    "blos1.shape"
   ]
  },
  {
   "cell_type": "code",
   "execution_count": null,
   "metadata": {},
   "outputs": [],
   "source": [
    "# copy the ambig_par file to the save_dir with suffix appended\n",
    "ambig_par_copy = save_dir  + prefix + 'par'\n",
    "os.system(f'cp {ambig_par} {ambig_par_copy}')\n",
    "if verbose:\n",
    "    print(f'Copied {ambig_par} to {ambig_par_copy}')"
   ]
  },
  {
   "cell_type": "code",
   "execution_count": null,
   "metadata": {},
   "outputs": [],
   "source": [
    "au.write_ambig_input('.', pix, pbr, lonlat, blos1, bhor1, bazi1)\n",
    "# copy the ambig_input file to the save_dir with suffix appended\n",
    "ambig_input_copy = save_dir + prefix + 'ambig_input.dat'\n",
    "os.system(f'cp ./ambig_input.dat {ambig_input_copy}')\n",
    "if verbose:\n",
    "    print(f'Copied ./ambig_input.dat to {ambig_input_copy}')"
   ]
  },
  {
   "cell_type": "code",
   "execution_count": null,
   "metadata": {},
   "outputs": [],
   "source": [
    "# Run the ambig executable with the ambig_par file as input\n",
    "command = ambig_executable_path + 'ambig ' + ambig_par\n",
    "au.run_command(command)\n",
    "# Read the output files from the ambig executable\n",
    "azimuth_dat = 'azimuth.dat'\n",
    "# copy the azimuth.dat file to the save_dir with prefix appended to save_dir\n",
    "azimuth_dat_copy = save_dir + prefix + 'azimuth.dat'\n",
    "os.system(f'cp {azimuth_dat} {azimuth_dat_copy}')\n",
    "if verbose:\n",
    "    print(f'azimuth.dat copied to {azimuth_dat_copy}')\n",
    "phi = au.read_azimuth_dat_file(azimuth_dat, (ysize, xsize))\n",
    "# set the phi range to 0 to 2 pi instead of -pi to pi\n",
    "phi = (phi + 2 * np.pi) % (2 * np.pi)\n",
    "if verbose:\n",
    "    iu.plot_image(phi, cmap='twilight', figsize=(6, 6), title='Azimuth angle')\n",
    "    print(f'phi shape: {phi.shape}')\n",
    "    print(f'phi min: {phi.min()}')\n",
    "    print(f'phi max: {phi.max()}')"
   ]
  },
  {
   "cell_type": "code",
   "execution_count": null,
   "metadata": {},
   "outputs": [],
   "source": [
    "# Calculate the magnetic field components from the azimuthal angle\n",
    "bx = bhor1 * np.cos(phi)\n",
    "by = bhor1 * np.sin(phi)\n",
    "bz = blos1"
   ]
  },
  {
   "cell_type": "code",
   "execution_count": null,
   "metadata": {},
   "outputs": [],
   "source": [
    "iu.plot_images([bx, by, bz, phi], title=['Bx', 'By','Bz', 'Phi'], fontsize=10, figsize=(20, 20), cmap=['gray', 'gray', 'gray', 'twilight'], grid_shape=(2, 2), fig_title=f'ID: {id}', save_fig=True, figname=save_dir + prefix + 'Bx_By_Bz_Phi.png')"
   ]
  },
  {
   "cell_type": "markdown",
   "metadata": {},
   "source": [
    "---"
   ]
  },
  {
   "cell_type": "code",
   "execution_count": null,
   "metadata": {},
   "outputs": [],
   "source": [
    "au.write_ambig_input('.', pix, pbr, lonlat, blos1, bhor1, phi)\n",
    "# copy the ambig_input file to the save_dir with suffix appended\n",
    "ambig_input_copy = save_dir + prefix + 'ambig_input.dat'\n",
    "os.system(f'cp ./ambig_input.dat {ambig_input_copy}')\n",
    "# Run the ambig executable with the ambig_par file as input\n",
    "command = ambig_executable_path + 'ambig ' + ambig_par\n",
    "au.run_command(command)\n",
    "# Read the output files from the ambig executable\n",
    "azimuth_dat = 'azimuth.dat'\n",
    "# copy the azimuth.dat file to the save_dir with prefix appended to save_dir\n",
    "azimuth_dat_copy = save_dir + prefix + 'azimuth.dat'\n",
    "os.system(f'cp {azimuth_dat} {azimuth_dat_copy}')\n",
    "if verbose:\n",
    "    print(f'azimuth.dat copied to {azimuth_dat_copy}')\n",
    "phi = au.read_azimuth_dat_file(azimuth_dat, (ysize, xsize))\n",
    "# set the phi range to 0 to 2 pi instead of -pi to pi\n",
    "phi2 = (phi + 2 * np.pi) % (2 * np.pi)\n",
    "if verbose:\n",
    "    iu.plot_image(phi, cmap='twilight', figsize=(6, 6), title='Azimuth angle')\n",
    "    print(f'phi shape: {phi2.shape}')\n",
    "    print(f'phi min: {phi2.min()}')\n",
    "    print(f'phi max: {phi2.max()}')"
   ]
  },
  {
   "cell_type": "code",
   "execution_count": null,
   "metadata": {},
   "outputs": [],
   "source": [
    "# Calculate the magnetic field components from the azimuthal angle\n",
    "bx = bhor1 * np.cos(phi2)\n",
    "by = bhor1 * np.sin(phi2)\n",
    "bz = blos1\n",
    "iu.plot_images([bx, by, bz, phi2], title=['Bx', 'By','Bz', 'Phi'], fontsize=10, figsize=(20, 20), cmap=['gray', 'gray', 'gray', 'twilight'], grid_shape=(2, 2), fig_title=f'ID: {id}', save_fig=True, figname=save_dir + prefix + 'Bx_By_Bz_Phi.png')"
   ]
  },
  {
   "cell_type": "code",
   "execution_count": null,
   "metadata": {},
   "outputs": [],
   "source": [
    "# save bx, by, bz, phi as numpy files\n",
    "np.save(save_dir + prefix + 'bx.npy', bx)\n",
    "np.save(save_dir + prefix + 'by.npy', by)\n",
    "np.save(save_dir + prefix + 'bz.npy', bz)\n",
    "np.save(save_dir + prefix + 'phi.npy', phi)"
   ]
  },
  {
   "cell_type": "markdown",
   "metadata": {},
   "source": [
    "---"
   ]
  },
  {
   "cell_type": "code",
   "execution_count": null,
   "metadata": {},
   "outputs": [],
   "source": [
    "save_dir + prefix + 'bx.npy'\n"
   ]
  },
  {
   "cell_type": "code",
   "execution_count": null,
   "metadata": {},
   "outputs": [],
   "source": [
    "# prefix = '6173_2020-08-07_T083019_2020-08-07_T083019_1721135870_'\n",
    "# # restore the bx, by, bz from the numpy files\n",
    "# bx = np.load(save_dir + prefix + 'bx.npy')\n",
    "# by = np.load(save_dir + prefix + 'by.npy')\n",
    "# bz = np.load(save_dir + prefix + 'bz.npy')"
   ]
  },
  {
   "cell_type": "code",
   "execution_count": null,
   "metadata": {},
   "outputs": [],
   "source": [
    "from scipy.io import readsav"
   ]
  },
  {
   "cell_type": "code",
   "execution_count": null,
   "metadata": {},
   "outputs": [],
   "source": [
    "savefile = '/mn/stornext/d9/data/avijeetp/1_Projects/61_QSEB_Topology/2020-08-07/AR12770/ambig/07_08_2020_h0822/AR12770_07_08_2020_h0822_nb_6173_ambig_1720793775_320_320_disambig_SFQ_Bxyz.sav'"
   ]
  },
  {
   "cell_type": "code",
   "execution_count": null,
   "metadata": {},
   "outputs": [],
   "source": [
    "sav = readsav(savefile)\n",
    "sav.keys()"
   ]
  },
  {
   "cell_type": "code",
   "execution_count": null,
   "metadata": {},
   "outputs": [],
   "source": [
    "bx = sav['bx']\n",
    "by = sav['by']\n",
    "bz = sav['bz']"
   ]
  },
  {
   "cell_type": "code",
   "execution_count": null,
   "metadata": {},
   "outputs": [],
   "source": [
    "iu.plot_images([bx, by, bz], title=['Bx', 'By','Bz'], fontsize=10, figsize=(12,5), cmap=['gray', 'gray', 'gray'], grid_shape=(1, 3), fig_title=f'ID: {id}', save_fig=True, figname=save_dir + prefix + 'Bx_By_Bz.png')"
   ]
  },
  {
   "cell_type": "code",
   "execution_count": null,
   "metadata": {},
   "outputs": [],
   "source": [
    "# save bx, by, bz as numpy files\n",
    "np.save(save_dir + prefix + 'sfq_bx.npy', bx)\n",
    "print(f'saved {save_dir + prefix + \"sfq_bx.npy\"}')\n",
    "np.save(save_dir + prefix + 'sfq_by.npy', by)\n",
    "print(f'saved {save_dir + prefix + \"sfq_by.npy\"}')\n",
    "np.save(save_dir + prefix + 'sfq_bz.npy', bz)\n",
    "print(f'saved {save_dir + prefix + \"sfq_bz.npy\"}')"
   ]
  }
 ],
 "metadata": {
  "kernelspec": {
   "display_name": "pymilne",
   "language": "python",
   "name": "python3"
  },
  "language_info": {
   "codemirror_mode": {
    "name": "ipython",
    "version": 3
   },
   "file_extension": ".py",
   "mimetype": "text/x-python",
   "name": "python",
   "nbconvert_exporter": "python",
   "pygments_lexer": "ipython3",
   "version": "3.12.2"
  }
 },
 "nbformat": 4,
 "nbformat_minor": 2
}
