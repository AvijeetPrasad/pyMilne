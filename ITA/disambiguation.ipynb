{
 "cells": [
  {
   "cell_type": "code",
   "execution_count": null,
   "metadata": {},
   "outputs": [],
   "source": [
    "# Importing the required libraries, custom libraries and setting the python path\n",
    "from load_env_and_set_pythonpath import print_pythonpath\n",
    "import os\n",
    "import inv_utils as iu\n",
    "import helita_io_lp as lp\n",
    "import time\n",
    "import numpy as np\n",
    "from skimage.transform import resize\n",
    "import ambig_utils as au\n",
    "from sunpy.coordinates import sun\n",
    "from astropy.coordinates import SkyCoord\n",
    "import astropy.units as u\n",
    "from sunpy.coordinates import frames\n",
    "import numpy as np\n",
    "print_pythonpath()"
   ]
  },
  {
   "cell_type": "code",
   "execution_count": null,
   "metadata": {},
   "outputs": [],
   "source": [
    "# Path of the ambig executable obtained from the compiling the ME0-2.1.1 Fortran code\n",
    "ambig_executable_path = '/mn/stornext/u3/avijeetp/codes/ambiguity_resolution/ME0-2.1.1/'\n",
    "# Path of the ambig_par file which is the input file for the ambig executable\n",
    "ambig_par = '/mn/stornext/u3/avijeetp/codes/pyMilne/ITA/ambig_par'\n",
    "# Load the fcube files obtained from the inversion\n",
    "fblos = 'Blos_6173_2020-08-07_T083019_2020-08-07_T083019_t_12-12.fcube'\n",
    "fbhor = 'Bhor_6173_2020-08-07_T083019_2020-08-07_T083019_t_12-12.fcube'\n",
    "fbazi = 'Bazi_6173_2020-08-07_T083019_2020-08-07_T083019_t_12-12.fcube'"
   ]
  },
  {
   "cell_type": "code",
   "execution_count": null,
   "metadata": {},
   "outputs": [],
   "source": [
    "# Load the configuration from the JSON file\n",
    "input_config = iu.load_yaml_config('input_config.yaml')\n",
    "# Check the input configuration\n",
    "config = iu.check_input_config(input_config, pprint=False, confirm=False)"
   ]
  },
  {
   "cell_type": "code",
   "execution_count": null,
   "metadata": {},
   "outputs": [],
   "source": [
    "# Load the configuration from the JSON file\n",
    "crop = config['crop']\n",
    "xorg = config['xorg']\n",
    "xsize = config['xsize'] \n",
    "yorg = config['yorg']\n",
    "ysize = config['ysize']\n",
    "rescale = config['rescale']\n",
    "is_north_up = config['is_north_up']\n",
    "fov_angle = config['fov_angle']\n",
    "fits_info = config['fits_info']\n",
    "verbose = config['verbose']\n",
    "save_dir = config['save_dir']\n",
    "pix = config['scale']"
   ]
  },
  {
   "cell_type": "code",
   "execution_count": null,
   "metadata": {},
   "outputs": [],
   "source": [
    "# Create a unique prefix for the output files based on the current time\n",
    "id = int(time.time())\n",
    "prefix = '_'.join(fblos.split('_')[1:-2]) + '_' + str(id) + '_'\n",
    "print(f'suffix: {prefix}')"
   ]
  },
  {
   "cell_type": "code",
   "execution_count": null,
   "metadata": {},
   "outputs": [],
   "source": [
    "# Obtain the time index from the file name\n",
    "time_index = int(fblos.split('_')[-1].split('-')[0])\n",
    "print(f'time index: {time_index}')"
   ]
  },
  {
   "cell_type": "code",
   "execution_count": null,
   "metadata": {},
   "outputs": [],
   "source": [
    "# Get the range of latitudes and longitudes from the fits file info\n",
    "tt = time_index\n",
    "x1 = fits_info['hplnt'][tt][0]\n",
    "x2 = fits_info['hplnt'][tt][1]\n",
    "y1 = fits_info['hpltt'][tt][0]\n",
    "y2 = fits_info['hpltt'][tt][1]\n",
    "xcen = (x1 + x2) / 2\n",
    "ycen = (y1 + y2) / 2\n",
    "tobs = fits_info['all_start_times'][tt]"
   ]
  },
  {
   "cell_type": "code",
   "execution_count": null,
   "metadata": {},
   "outputs": [],
   "source": [
    "# Load the data from the saved files\n",
    "blos = lp.getdata(save_dir + fblos) # nx, ny, nt\n",
    "bhor = lp.getdata(save_dir + fbhor)\n",
    "bazi = lp.getdata(save_dir + fbazi)\n",
    "# drop the redundant time axis\n",
    "blos = blos.squeeze().T # ny, nx\n",
    "bhor = bhor.squeeze().T\n",
    "bazi = bazi.squeeze().T\n",
    "# Plot the data\n",
    "iu.plot_image(blos, figsize=(6, 6), title='Blos')"
   ]
  },
  {
   "cell_type": "code",
   "execution_count": null,
   "metadata": {},
   "outputs": [],
   "source": [
    "# Crop the data if needed\n",
    "if crop:\n",
    "    blos = blos[yorg: yorg + ysize, xorg: xorg + xsize]\n",
    "    bhor = bhor[yorg: yorg + ysize, xorg: xorg + xsize]\n",
    "    bazi = bazi[yorg: yorg + ysize, xorg: xorg + xsize]\n",
    "    if verbose:\n",
    "        iu.plot_image(blos, figsize=(6, 6), title='Blos after cropping')"
   ]
  },
  {
   "cell_type": "code",
   "execution_count": null,
   "metadata": {},
   "outputs": [],
   "source": [
    "\n",
    "if rescale:\n",
    "    ysize, xsize = blos.shape \n",
    "    ysize = ysize // rescale\n",
    "    xsize = xsize // rescale\n",
    "    if verbose:\n",
    "        print(f'Shape before rescale: {blos.shape}')\n",
    "    # Resample the array to the new size\n",
    "    blos = resize(blos, (ysize, xsize), anti_aliasing=True)\n",
    "    bhor = resize(bhor, (ysize, xsize), anti_aliasing=True)\n",
    "    bazi = resize(bazi, (ysize, xsize), anti_aliasing=True)\n",
    "    if verbose:\n",
    "        print(f'Shape after rescale: {blos.shape}')\n",
    "        iu.plot_image(blos, figsize=(6, 6), title='Blos after rescaling')\n"
   ]
  },
  {
   "cell_type": "code",
   "execution_count": null,
   "metadata": {},
   "outputs": [],
   "source": [
    "\n",
    "# Rotate the data to make it north-up\n",
    "if not is_north_up:\n",
    "    blos = iu.make_north_up(blos, fov_angle)\n",
    "    bhor = iu.make_north_up(bhor, fov_angle)\n",
    "    bazi = iu.make_north_up(bazi, fov_angle)\n",
    "    ysize, xsize = blos.shape \n",
    "    if verbose:\n",
    "        print(f'Shape after rotation: {blos.shape}')\n",
    "    if ysize % 2 != 0 or xsize % 2 != 0:\n",
    "        print('Resampling the array to ensure that the shape is a multiple of 2')\n",
    "        # Resample the array to ensure that the shape is a multiple of 2\n",
    "        ysize = ysize // 2 * 2\n",
    "        xsize = xsize // 2 * 2\n",
    "        blos = resize(blos, (ysize, xsize), anti_aliasing=True)\n",
    "        bhor = resize(bhor, (ysize, xsize), anti_aliasing=True)\n",
    "        bazi = resize(bazi, (ysize, xsize), anti_aliasing=True)\n",
    "        if verbose:\n",
    "            iu.plot_image(blos, figsize=(6, 6), title='Blos after rotation')"
   ]
  },
  {
   "cell_type": "code",
   "execution_count": null,
   "metadata": {},
   "outputs": [],
   "source": [
    "# Calculate the P, B0 and angular radius of the Sun, and convert the coordinates of center to Heliographic Stonyhurst longitude and latitude\n",
    "pbr = sun.P(tobs).value, sun.B0(tobs).value, sun.angular_radius(tobs).value\n",
    "coord = SkyCoord(xcen*u.arcsec, ycen*u.arcsec, obstime=tobs,\n",
    "                 frame=frames.Helioprojective, observer='earth')\n",
    "coord_hs = coord.transform_to(frames.HeliographicStonyhurst)\n",
    "lonlat = coord_hs.lon.value, coord_hs.lat.value"
   ]
  },
  {
   "cell_type": "code",
   "execution_count": null,
   "metadata": {},
   "outputs": [],
   "source": [
    "# copy the ambig_par file to the save_dir with suffix appended\n",
    "ambig_par_copy = save_dir  + prefix + 'par'\n",
    "os.system(f'cp {ambig_par} {ambig_par_copy}')\n",
    "if verbose:\n",
    "    print(f'Copied {ambig_par} to {ambig_par_copy}')"
   ]
  },
  {
   "cell_type": "code",
   "execution_count": null,
   "metadata": {},
   "outputs": [],
   "source": [
    "au.write_ambig_input('.', pix, pbr, lonlat, blos, bhor, bazi)\n",
    "# copy the ambig_input file to the save_dir with suffix appended\n",
    "ambig_input_copy = save_dir + prefix + 'ambig_input.dat'\n",
    "os.system(f'cp {save_dir}ambig_input.dat {ambig_input_copy}')\n",
    "if verbose:\n",
    "    print(f'Copied {save_dir}ambig_input.dat to {ambig_input_copy}')"
   ]
  },
  {
   "cell_type": "code",
   "execution_count": null,
   "metadata": {},
   "outputs": [],
   "source": [
    "# Run the ambig executable with the ambig_par file as input\n",
    "command = ambig_executable_path + 'ambig ' + ambig_par\n",
    "au.run_command(command)"
   ]
  },
  {
   "cell_type": "code",
   "execution_count": null,
   "metadata": {},
   "outputs": [],
   "source": [
    "# Read the output files from the ambig executable\n",
    "azimuth_dat = 'azimuth.dat'\n",
    "# copy the azimuth.dat file to the save_dir with prefix appended to save_dir\n",
    "azimuth_dat_copy = save_dir + prefix + 'azimuth.dat'\n",
    "os.system(f'cp {azimuth_dat} {azimuth_dat_copy}')\n",
    "if verbose:\n",
    "    print(f'azimuth.dat copied to {azimuth_dat_copy}')"
   ]
  },
  {
   "cell_type": "code",
   "execution_count": null,
   "metadata": {},
   "outputs": [],
   "source": [
    "phi = au.read_ambig_dat_file(azimuth_dat, (ysize, xsize))\n",
    "if verbose:\n",
    "    iu.plot_image(phi)\n",
    "    print(f'phi shape: {phi.shape}')\n",
    "    print(f'phi min: {phi.min()}')\n",
    "    print(f'phi max: {phi.max()}')"
   ]
  },
  {
   "cell_type": "code",
   "execution_count": null,
   "metadata": {},
   "outputs": [],
   "source": [
    "# Calculate the magnetic field components from the azimuthal angle\n",
    "bx = bhor * np.cos(phi)\n",
    "by = bhor * np.sin(phi)\n",
    "bz = blos"
   ]
  },
  {
   "cell_type": "code",
   "execution_count": null,
   "metadata": {},
   "outputs": [],
   "source": [
    "iu.plot_images([bx, by, bz, phi], title=['Bx', 'By','Bz', 'Phi'], fontsize=10, figsize=(8, 10), cmap=['gray_r', 'gray_r', 'gray_r', 'twilight_shifted'], grid_shape=(2, 2), fig_title=f'ID: {id}', save_fig=True, figname=save_dir + prefix + 'Bx_By_Bz_Phi.png')"
   ]
  },
  {
   "cell_type": "code",
   "execution_count": null,
   "metadata": {},
   "outputs": [],
   "source": []
  }
 ],
 "metadata": {
  "kernelspec": {
   "display_name": "pymilne",
   "language": "python",
   "name": "python3"
  },
  "language_info": {
   "codemirror_mode": {
    "name": "ipython",
    "version": 3
   },
   "file_extension": ".py",
   "mimetype": "text/x-python",
   "name": "python",
   "nbconvert_exporter": "python",
   "pygments_lexer": "ipython3",
   "version": "3.12.2"
  }
 },
 "nbformat": 4,
 "nbformat_minor": 2
}
