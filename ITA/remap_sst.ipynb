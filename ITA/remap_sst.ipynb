{
 "cells": [
  {
   "cell_type": "code",
   "execution_count": null,
   "metadata": {},
   "outputs": [],
   "source": [
    "import inversion_utils as iu\n",
    "import numpy as np\n",
    "import importlib\n",
    "importlib.reload(iu)\n",
    "import remap\n",
    "importlib.reload(remap)\n",
    "from astropy.coordinates import SkyCoord\n",
    "import astropy.units as u\n",
    "import me_utils as meu\n",
    "from sunpy.coordinates import frames\n",
    "from sunpy.map.header_helper import make_fitswcs_header\n",
    "from sunpy.map import Map\n",
    "from astropy.io import fits\n",
    "import matplotlib.pyplot as plt\n",
    "import scipy.ndimage\n",
    "from scipy.io import readsav\n"
   ]
  },
  {
   "cell_type": "code",
   "execution_count": null,
   "metadata": {},
   "outputs": [],
   "source": [
    "data_dir = '/mn/stornext/d20/RoCS/aditi/project/sst/inversion/pyMilne/ITA/temp3/'\n",
    "# fblos = 'Blos_6173_2021-06-22_T081750_2021-06-22_T090813_t_0-162.fcube'\n",
    "# fbhor = 'Bhor_6173_2021-06-22_T081750_2021-06-22_T090813_t_0-162.fcube'\n",
    "# fbazi = 'Bazi_6173_2021-06-22_T081750_2021-06-22_T090813_t_0-162.fcube'\n",
    "disambig_sav = '/mn/stornext/d20/RoCS/aditi/project/sst/inversion/ambig/test/QS/ambig/22_06_2021_h0817/QS_22_06_2021_h0817_nb_6173_ambig_1721211858_1278_1267_disambig_Bxyz.sav'"
   ]
  },
  {
   "cell_type": "code",
   "execution_count": null,
   "metadata": {},
   "outputs": [],
   "source": [
    "data_dir = '/mn/stornext/d18/lapalma/reduc/2021/2021-06-22/CRISP/cubes_nb/'\n",
    "crisp_im = data_dir + 'nb_6173_2021-06-22T08:17:48_scans=0-162_stokes_corrected_im.fits'\n",
    "fits_header = iu.load_fits_header(crisp_im, out_dict=True)\n",
    "fits_info = iu.get_fits_info(crisp_im)\n",
    "crval1 = fits_info['xcent0']\n",
    "crval2 = fits_info['ycent0']\n",
    "rescale = 1.0\n",
    "cdelt1 = 0.058 * rescale \n",
    "crota2 = 180.0\n",
    "date_obs = fits_info['avg_time_obs']"
   ]
  },
  {
   "cell_type": "code",
   "execution_count": null,
   "metadata": {},
   "outputs": [],
   "source": [
    "disambig = readsav(disambig_sav)\n",
    "bx0 = disambig['bx0']\n",
    "by0 = disambig['by0']\n",
    "bz0 = disambig['bz0']\n",
    "\n",
    "iu.plot_images([bx0, by0, bz0], title=['Bx', 'By', 'Bz'], cmap='gray', vmin=[-200,-200,-100], vmax=[200,200,100])"
   ]
  },
  {
   "cell_type": "code",
   "execution_count": null,
   "metadata": {},
   "outputs": [],
   "source": [
    "bx1 = scipy.ndimage.rotate(bx0, crota2, reshape=True)\n",
    "by1 = scipy.ndimage.rotate(by0, crota2, reshape=True)\n",
    "bz1 = scipy.ndimage.rotate(bz0, crota2, reshape=True)"
   ]
  },
  {
   "cell_type": "code",
   "execution_count": null,
   "metadata": {},
   "outputs": [],
   "source": [
    "bz1_map = remap.make_map(bz1, crval1, crval2, cdelt1, crota2, date_obs, verbose=False)\n",
    "bz1_map.peek(vmin=-100, vmax=100)"
   ]
  },
  {
   "cell_type": "code",
   "execution_count": null,
   "metadata": {},
   "outputs": [],
   "source": [
    "x1, x2 = -12, 0 # arcsec\n",
    "y1, y2 = 840, 845   # arcsec\n",
    "bz0_map = remap.make_map(bz0, crval1, crval2, cdelt1, 0, date_obs, verbose=False)\n",
    "bottom_left = SkyCoord(x1 * u.arcsec, y1 * u.arcsec, frame=bz0_map.coordinate_frame)\n",
    "top_right = SkyCoord(x2 * u.arcsec, y2* u.arcsec, frame=bz0_map.coordinate_frame)\n",
    "bz0_submap = bz0_map.submap(bottom_left, top_right=top_right)\n",
    "bz0_submap.peek(vmin=-100, vmax=100)\n"
   ]
  },
  {
   "cell_type": "code",
   "execution_count": null,
   "metadata": {},
   "outputs": [],
   "source": [
    "remap.plot_map_on_grid(bz1_map, vmin_percentile=0.5, vmax_percentile=99.5)"
   ]
  },
  {
   "cell_type": "code",
   "execution_count": null,
   "metadata": {},
   "outputs": [],
   "source": [
    "convert = bz0_submap.center.transform_to(frames.Heliocentric)\n",
    "xc1, yc1, zc1 = convert.x, convert.y, convert.z"
   ]
  },
  {
   "cell_type": "code",
   "execution_count": null,
   "metadata": {},
   "outputs": [],
   "source": [
    "import numpy as np\n",
    "\n",
    "def normalize_vector(vector):\n",
    "    \"\"\"\n",
    "    Normalize a 3D vector to get a unit vector.\n",
    "\n",
    "    Parameters:\n",
    "    vector (np.ndarray): The input vector to be normalized.\n",
    "\n",
    "    Returns:\n",
    "    np.ndarray: The normalized unit vector.\n",
    "    \"\"\"\n",
    "    magnitude = np.linalg.norm(vector)\n",
    "    if magnitude == 0:\n",
    "        raise ValueError(\"Cannot normalize a zero vector\")\n",
    "    unit_vector = vector / magnitude\n",
    "    return unit_vector\n",
    "\n",
    "# Example usage:\n",
    "# vector = np.array([3, 4, 5])\n",
    "unit_vector = normalize_vector([xc1.value, yc1.value, zc1.value])\n",
    "print(\"Unit vector:\", unit_vector)\n"
   ]
  },
  {
   "cell_type": "code",
   "execution_count": null,
   "metadata": {},
   "outputs": [],
   "source": [
    "import numpy as np\n",
    "\n",
    "def normalize_vector(vector):\n",
    "    \"\"\"\n",
    "    Normalize a 3D vector to get a unit vector.\n",
    "\n",
    "    Parameters:\n",
    "    vector (np.ndarray): The input vector to be normalized.\n",
    "\n",
    "    Returns:\n",
    "    np.ndarray: The normalized unit vector.\n",
    "    \"\"\"\n",
    "    magnitude = np.linalg.norm(vector)\n",
    "    if magnitude == 0:\n",
    "        raise ValueError(\"Cannot normalize a zero vector\")\n",
    "    unit_vector = vector / magnitude\n",
    "    return unit_vector\n",
    "\n",
    "def inward_vector(vector):\n",
    "    \"\"\"\n",
    "    Get the inward-pointing unit vector for a given outward-pointing vector.\n",
    "\n",
    "    Parameters:\n",
    "    vector (np.ndarray): The input vector pointing outwards.\n",
    "\n",
    "    Returns:\n",
    "    np.ndarray: The normalized unit vector pointing inwards.\n",
    "    \"\"\"\n",
    "    outward_unit_vector = normalize_vector(vector)\n",
    "    inward_unit_vector = -outward_unit_vector\n",
    "    return inward_unit_vector\n",
    "\n",
    "# Example usage:\n",
    "# vector = np.array([3, 4, 5])\n",
    "vector = [xc1.value, yc1.value, zc1.value]\n",
    "outward_unit_vector = normalize_vector(vector)\n",
    "inward_unit_vector = inward_vector(vector)\n",
    "\n",
    "print(\"Outward unit vector:\", outward_unit_vector)\n",
    "print(\"Inward unit vector:\", inward_unit_vector)\n"
   ]
  },
  {
   "cell_type": "code",
   "execution_count": null,
   "metadata": {},
   "outputs": [],
   "source": [
    "wcs_dict = remap.get_wcs_info(bz1_map, verbose=True)"
   ]
  },
  {
   "cell_type": "code",
   "execution_count": null,
   "metadata": {},
   "outputs": [],
   "source": [
    "bz_cea = remap.remap2cea(wcs_dict, bz1, debug=False)\n",
    "bz_cea.peek(vmin=-100, vmax=100)"
   ]
  },
  {
   "cell_type": "code",
   "execution_count": null,
   "metadata": {},
   "outputs": [],
   "source": [
    "bxc, byc, bzc, header = remap.bvec2cea(wcs_dict, bx1, by1, bz1, debug=False)\n",
    "bzc_map = Map(bzc, header)\n",
    "bxc_map = Map(bxc, header)\n",
    "byc_map = Map(byc, header)"
   ]
  },
  {
   "cell_type": "code",
   "execution_count": null,
   "metadata": {},
   "outputs": [],
   "source": [
    "iu.plot_images([bxc, byc, bzc], title=['Bx', 'By', 'Bz'], grid_shape=(1, 3), cmap='gray', figsize=(16, 7), aspect='auto', vmin=[-200,-200,-100], vmax=[200,200,100])"
   ]
  },
  {
   "cell_type": "markdown",
   "metadata": {},
   "source": [
    "---"
   ]
  },
  {
   "cell_type": "code",
   "execution_count": null,
   "metadata": {},
   "outputs": [],
   "source": [
    "crisp_im =  \"/mn/stornext/d18/lapalma/reduc/2020/2020-08-07/CRISP/cubes_nb/nb_6173_2020-08-07T08:22:14_scans=0-56_stokes_corrected_im.fits\"\n",
    "fits_header = iu.load_fits_header(crisp_im, out_dict=True)\n",
    "fits_info = iu.get_fits_info(crisp_im)"
   ]
  },
  {
   "cell_type": "code",
   "execution_count": null,
   "metadata": {},
   "outputs": [],
   "source": [
    "fits_info['xcent0'], fits_info['ycent0']"
   ]
  },
  {
   "cell_type": "code",
   "execution_count": null,
   "metadata": {},
   "outputs": [],
   "source": [
    "crval1 = -448\n",
    "crval2 = 283\n",
    "rescale = 2.0\n",
    "cdelt1 = 0.058 * rescale \n",
    "crota2 = 180.0\n",
    "date_obs = fits_header['DATE-OBS']"
   ]
  },
  {
   "cell_type": "code",
   "execution_count": null,
   "metadata": {},
   "outputs": [],
   "source": [
    "save_dir = '/mn/stornext/d9/data/avijeetp/1_Projects/61_QSEB_Topology/2020-08-07/'\n",
    "bxfile = save_dir + '6173_2020-08-07_T083019_2020-08-07_T083019_1721136823_sfq_bx.npy'\n",
    "byfile = save_dir + '6173_2020-08-07_T083019_2020-08-07_T083019_1721136823_sfq_by.npy'\n",
    "bzfile = save_dir + '6173_2020-08-07_T083019_2020-08-07_T083019_1721136823_sfq_bz.npy'"
   ]
  },
  {
   "cell_type": "code",
   "execution_count": null,
   "metadata": {},
   "outputs": [],
   "source": [
    "bx0 = np.load(bxfile)\n",
    "by0 = np.load(byfile)\n",
    "bz0 = np.load(bzfile)"
   ]
  },
  {
   "cell_type": "code",
   "execution_count": null,
   "metadata": {},
   "outputs": [],
   "source": [
    "iu.plot_images([bx0, by0, bz0], title=['Bx', 'By','Bz'], fontsize=10, figsize=(12,5), cmap='seismic', grid_shape=(1, 3) )"
   ]
  },
  {
   "cell_type": "code",
   "execution_count": null,
   "metadata": {},
   "outputs": [],
   "source": [
    "fov=0\n",
    "bx1 = iu.make_north_up(bx0, fov).T\n",
    "by1 = iu.make_north_up(by0, fov).T\n",
    "bz1 = iu.make_north_up(bz0, fov).T\n",
    "\n",
    "bx2 = -by1 # Because remap2cea expects -bx, also bx, by could be swapped here\n",
    "by2 = bx1\n",
    "bz2 = bz1\n",
    "iu.plot_images([bx2, by2, bz2], title=['Bx', 'By','Bz'], fontsize=10, figsize=(12,5), cmap='seismic', grid_shape=(1, 3), aspect='equal' )"
   ]
  },
  {
   "cell_type": "code",
   "execution_count": null,
   "metadata": {},
   "outputs": [],
   "source": [
    "# data = np.nan_to_num(data)\n",
    "bx3 = scipy.ndimage.rotate(bx2, crota2, reshape=True)\n",
    "by3 = scipy.ndimage.rotate(by2, crota2, reshape=True)\n",
    "bz3 = scipy.ndimage.rotate(bz2, crota2, reshape=True)"
   ]
  },
  {
   "cell_type": "code",
   "execution_count": null,
   "metadata": {},
   "outputs": [],
   "source": [
    "iu.plot_images([bx3, by3, bz3], title=['Bx', 'By','Bz'], fontsize=10, figsize=(12,5), cmap='seismic', grid_shape=(1, 3) )"
   ]
  },
  {
   "cell_type": "code",
   "execution_count": null,
   "metadata": {},
   "outputs": [],
   "source": [
    "bz3_map = remap.make_map(bz3, crval1, crval2, cdelt1, crota2, date_obs, verbose=False)\n",
    "bz3_map.peek()"
   ]
  },
  {
   "cell_type": "code",
   "execution_count": null,
   "metadata": {},
   "outputs": [],
   "source": [
    "remap.plot_map_on_grid(bz3_map, vmin_percentile=0.5, vmax_percentile=99.5, project_dc=True)"
   ]
  },
  {
   "cell_type": "code",
   "execution_count": null,
   "metadata": {},
   "outputs": [],
   "source": [
    "wcs_dict = remap.get_wcs_info(bz3_map, verbose=True)"
   ]
  },
  {
   "cell_type": "code",
   "execution_count": null,
   "metadata": {},
   "outputs": [],
   "source": [
    "importlib.reload(remap)\n",
    "bz_cea = remap.remap2cea(wcs_dict, bz3, debug=False)\n",
    "bz_cea.peek()"
   ]
  },
  {
   "cell_type": "code",
   "execution_count": null,
   "metadata": {},
   "outputs": [],
   "source": [
    "\n",
    "# peff, lat_it, lon_it, latc, bz_cea = remap.remap2cea(wcs_dict, bz1.T, deltal=deltal, debug=False)\n",
    "# Fx -> -Bx with 180 deg rotation\n",
    "# Fy -> By with 180 deg rotation\n",
    "# Fz -> Bz with 180 deg rotation\n",
    "bxc, byc, bzc, header = remap.bvec2cea(wcs_dict, bx3, by3, bz3, debug=False)"
   ]
  },
  {
   "cell_type": "code",
   "execution_count": null,
   "metadata": {},
   "outputs": [],
   "source": [
    "bzc_map = Map(bzc, header)\n",
    "bxc_map = Map(bxc, header)\n",
    "byc_map = Map(byc, header)"
   ]
  },
  {
   "cell_type": "code",
   "execution_count": null,
   "metadata": {},
   "outputs": [],
   "source": [
    "iu.plot_images([bxc, byc, bzc], title=['Bx', 'By', 'Bz'], grid_shape=(1, 3), cmap='seismic', figsize=(16, 7), aspect='auto')"
   ]
  },
  {
   "cell_type": "code",
   "execution_count": null,
   "metadata": {},
   "outputs": [],
   "source": [
    "iu.plot_images([bx3, by3, bz3, bxc, byc, bzc], title=['Fx', 'Fy', 'Fz', 'Bx', 'By', 'Bz'], grid_shape=(2, 3), cmap='seismic', figsize=(15, 11), aspect='auto')"
   ]
  },
  {
   "cell_type": "markdown",
   "metadata": {},
   "source": [
    "---"
   ]
  },
  {
   "cell_type": "code",
   "execution_count": null,
   "metadata": {},
   "outputs": [],
   "source": [
    "import inversion_utils as iu\n",
    "import numpy as np\n",
    "import importlib\n",
    "importlib.reload(iu)\n",
    "import remap\n",
    "importlib.reload(remap)\n",
    "from astropy.coordinates import SkyCoord\n",
    "import astropy.units as u\n",
    "import me_utils as meu\n",
    "from sunpy.coordinates import frames\n",
    "from sunpy.map.header_helper import make_fitswcs_header\n",
    "from sunpy.map import Map\n",
    "from astropy.io import fits\n",
    "import matplotlib.pyplot as plt\n",
    "import scipy.ndimage\n",
    "from scipy.io import readsav\n"
   ]
  },
  {
   "cell_type": "code",
   "execution_count": null,
   "metadata": {},
   "outputs": [],
   "source": [
    "crisp_im =  \"/mn/stornext/d12/lapalma/reduc/2023/2023-07-26/CRISP/cubes_nb/nb_6173_2023-07-26T08:28:57_08:28:57=0-58_stokes_corrected_im.fits\"\n",
    "fits_header = iu.load_fits_header(crisp_im, out_dict=True)\n",
    "fits_info = iu.get_fits_info(crisp_im)\n",
    "fits_info['xcent0'], fits_info['ycent0']"
   ]
  },
  {
   "cell_type": "code",
   "execution_count": null,
   "metadata": {},
   "outputs": [],
   "source": [
    "crval1 = -633.92\n",
    "crval2 = -211.48\n",
    "rescale = 1.0\n",
    "cdelt1 = 0.044 * rescale \n",
    "crota2 = 180.0\n"
   ]
  },
  {
   "cell_type": "code",
   "execution_count": null,
   "metadata": {},
   "outputs": [],
   "source": [
    "date_obs = fits_header['DATE-OBS']\n",
    "save_dir = '/mn/stornext/d9/data/avijeetp/1_Projects/33_SST/2023-07-26/'"
   ]
  },
  {
   "cell_type": "code",
   "execution_count": null,
   "metadata": {},
   "outputs": [],
   "source": [
    "# load the disambig output file and extract the variables\n",
    "disambig_out = save_dir+'_1724921179_disambig_output_35_full_res.npz'\n",
    "data = np.load(disambig_out)\n",
    "bx0 = data['bx']\n",
    "by0 = data['by']\n",
    "bz0 = data['bz']\n",
    "# # bazi = data['bazi']"
   ]
  },
  {
   "cell_type": "code",
   "execution_count": null,
   "metadata": {},
   "outputs": [],
   "source": [
    "# bxfile = save_dir + '6173_2020-08-07_T083019_2020-08-07_T083019_1721136823_sfq_bx.npy'\n",
    "# byfile = save_dir + '6173_2020-08-07_T083019_2020-08-07_T083019_1721136823_sfq_by.npy'\n",
    "# bzfile = save_dir + '6173_2020-08-07_T083019_2020-08-07_T083019_1721136823_sfq_bz.npy'\n",
    "# bx0 = np.load(bxfile)\n",
    "# by0 = np.load(byfile)\n",
    "# bz0 = np.load(bzfile)\n",
    "iu.plot_images([bx0, by0, bz0], title=['Bx', 'By','Bz'], fontsize=10, figsize=(12,5), cmap='seismic', grid_shape=(1, 3) )\n"
   ]
  },
  {
   "cell_type": "code",
   "execution_count": null,
   "metadata": {},
   "outputs": [],
   "source": [
    "fov=0\n",
    "# bx1 = iu.make_north_up(bx0, fov)\n",
    "# by1 = iu.make_north_up(by0, fov)\n",
    "# bz1 = iu.make_north_up(bz0, fov)\n",
    "bx1 = bx0\n",
    "by1 = by0\n",
    "bz1 = bz0"
   ]
  },
  {
   "cell_type": "code",
   "execution_count": null,
   "metadata": {},
   "outputs": [],
   "source": [
    "\n",
    "bx2 = -by1 # Because remap2cea expects -bx, also bx, by could be swapped here\n",
    "by2 = bx1\n",
    "bz2 = bz1\n",
    "iu.plot_images([bx2, by2, bz2], title=['Bx', 'By','Bz'], fontsize=10, figsize=(12,5), cmap='seismic', grid_shape=(1, 3), aspect='equal' )\n"
   ]
  },
  {
   "cell_type": "code",
   "execution_count": null,
   "metadata": {},
   "outputs": [],
   "source": [
    "# data = np.nan_to_num(data)\n",
    "bx3 = scipy.ndimage.rotate(bx2, crota2, reshape=True)\n",
    "by3 = scipy.ndimage.rotate(by2, crota2, reshape=True)\n",
    "bz3 = scipy.ndimage.rotate(bz2, crota2, reshape=True)\n",
    "iu.plot_images([bx3, by3, bz3], title=['Bx', 'By','Bz'], fontsize=10, figsize=(12,5), cmap='seismic', grid_shape=(1, 3) )\n",
    "bz3_map = remap.make_map(bz3, crval1, crval2, cdelt1, crota2, date_obs, verbose=False)\n",
    "bz3_map.peek()\n"
   ]
  },
  {
   "cell_type": "code",
   "execution_count": null,
   "metadata": {},
   "outputs": [],
   "source": [
    "remap.plot_map_on_grid(bz3_map, vmin_percentile=0.5, vmax_percentile=99.5, project_dc=True)\n",
    "wcs_dict = remap.get_wcs_info(bz3_map, verbose=True)\n",
    "importlib.reload(remap)\n",
    "bz_cea = remap.remap2cea(wcs_dict, bz3, debug=False)\n",
    "bz_cea.peek()\n"
   ]
  },
  {
   "cell_type": "code",
   "execution_count": null,
   "metadata": {},
   "outputs": [],
   "source": [
    "\n",
    "# peff, lat_it, lon_it, latc, bz_cea = remap.remap2cea(wcs_dict, bz1.T, deltal=deltal, debug=False)\n",
    "# Fx -> -Bx with 180 deg rotation\n",
    "# Fy -> By with 180 deg rotation\n",
    "# Fz -> Bz with 180 deg rotation\n",
    "bxc, byc, bzc, header = remap.bvec2cea(wcs_dict, bx3, by3, bz3, debug=False)\n",
    "bzc_map = Map(bzc, header)\n",
    "bxc_map = Map(bxc, header)\n",
    "byc_map = Map(byc, header)\n"
   ]
  },
  {
   "cell_type": "code",
   "execution_count": null,
   "metadata": {},
   "outputs": [],
   "source": [
    "iu.plot_images([bxc, byc, bzc], title=['Bx', 'By', 'Bz'], grid_shape=(1, 3), cmap='gray', figsize=(16, 7), aspect=1, interpolation='gaussian', vmin=-1500, vmax=1500)\n",
    "# iu.plot_images([bx3, by3, bz3, bxc, byc, bzc], title=['Fx', 'Fy', 'Fz', 'Bx', 'By', 'Bz'], grid_shape=(2, 3), cmap='seismic', figsize=(15, 11), aspect='auto')"
   ]
  },
  {
   "cell_type": "code",
   "execution_count": null,
   "metadata": {},
   "outputs": [],
   "source": [
    "# save the bxc, byc, bzc maps to fits files\n",
    "from astropy.io.fits import CompImageHDU\n",
    "bxc_map.save(save_dir + \"bx_cea_35.fits\", hdu_type=CompImageHDU, overwrite=True)\n",
    "byc_map.save(save_dir + \"by_cea_35.fits\", hdu_type=CompImageHDU, overwrite=True)\n",
    "bzc_map.save(save_dir + \"bz_cea_35.fits\", hdu_type=CompImageHDU, overwrite=True)\n",
    "print(f\"saved file: {save_dir}bx_cea_35.fits\")\n",
    "print(f\"saved file: {save_dir}by_cea_35.fits\")\n",
    "print(f\"saved file: {save_dir}bz_cea_35.fits\")"
   ]
  },
  {
   "cell_type": "code",
   "execution_count": null,
   "metadata": {},
   "outputs": [],
   "source": [
    "bxc_map.data.shape"
   ]
  }
 ],
 "metadata": {
  "kernelspec": {
   "display_name": "pymilne",
   "language": "python",
   "name": "python3"
  },
  "language_info": {
   "codemirror_mode": {
    "name": "ipython",
    "version": 3
   },
   "file_extension": ".py",
   "mimetype": "text/x-python",
   "name": "python",
   "nbconvert_exporter": "python",
   "pygments_lexer": "ipython3",
   "version": "3.12.2"
  }
 },
 "nbformat": 4,
 "nbformat_minor": 2
}
