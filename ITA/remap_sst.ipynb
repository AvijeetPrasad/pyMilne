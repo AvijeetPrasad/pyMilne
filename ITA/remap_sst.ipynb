{
 "cells": [
  {
   "cell_type": "code",
   "execution_count": null,
   "metadata": {},
   "outputs": [],
   "source": [
    "import inv_utils as iu\n",
    "import numpy as np\n",
    "import importlib\n",
    "importlib.reload(iu)\n",
    "import remap\n",
    "importlib.reload(remap)\n",
    "from astropy.coordinates import SkyCoord\n",
    "import astropy.units as u\n",
    "import me_utils as meu\n",
    "from sunpy.coordinates import frames\n",
    "from sunpy.map.header_helper import make_fitswcs_header\n",
    "from sunpy.map import Map\n",
    "from astropy.io import fits\n",
    "import matplotlib.pyplot as plt\n",
    "import scipy.ndimage\n",
    "from scipy.io import readsav\n"
   ]
  },
  {
   "cell_type": "code",
   "execution_count": null,
   "metadata": {},
   "outputs": [],
   "source": [
    "data_dir = '/mn/stornext/d20/RoCS/aditi/project/sst/inversion/pyMilne/ITA/temp3/'\n",
    "# fblos = 'Blos_6173_2021-06-22_T081750_2021-06-22_T090813_t_0-162.fcube'\n",
    "# fbhor = 'Bhor_6173_2021-06-22_T081750_2021-06-22_T090813_t_0-162.fcube'\n",
    "# fbazi = 'Bazi_6173_2021-06-22_T081750_2021-06-22_T090813_t_0-162.fcube'\n",
    "disambig_sav = '/mn/stornext/d20/RoCS/aditi/project/sst/inversion/ambig/test/QS/ambig/22_06_2021_h0817/QS_22_06_2021_h0817_nb_6173_ambig_1721211858_1278_1267_disambig_Bxyz.sav'"
   ]
  },
  {
   "cell_type": "code",
   "execution_count": null,
   "metadata": {},
   "outputs": [],
   "source": [
    "data_dir = '/mn/stornext/d18/lapalma/reduc/2021/2021-06-22/CRISP/cubes_nb/'\n",
    "crisp_im = data_dir + 'nb_6173_2021-06-22T08:17:48_scans=0-162_stokes_corrected_im.fits'\n",
    "fits_header = iu.load_fits_header(crisp_im, out_dict=True)\n",
    "fits_info = iu.get_fits_info(crisp_im)\n",
    "crval1 = fits_info['xcent0']\n",
    "crval2 = fits_info['ycent0']\n",
    "rescale = 1.0\n",
    "cdelt1 = 0.058 * rescale \n",
    "crota2 = 180.0\n",
    "date_obs = fits_info['avg_time_obs']"
   ]
  },
  {
   "cell_type": "code",
   "execution_count": null,
   "metadata": {},
   "outputs": [],
   "source": [
    "disambig = readsav(disambig_sav)\n",
    "bx0 = disambig['bx0']\n",
    "by0 = disambig['by0']\n",
    "bz0 = disambig['bz0']\n",
    "\n",
    "iu.plot_images([bx0, by0, bz0], title=['Bx', 'By', 'Bz'], cmap='gray', vmin=[-200,-200,-100], vmax=[200,200,100])"
   ]
  },
  {
   "cell_type": "code",
   "execution_count": null,
   "metadata": {},
   "outputs": [],
   "source": [
    "bx1 = scipy.ndimage.rotate(bx0, crota2, reshape=True)\n",
    "by1 = scipy.ndimage.rotate(by0, crota2, reshape=True)\n",
    "bz1 = scipy.ndimage.rotate(bz0, crota2, reshape=True)"
   ]
  },
  {
   "cell_type": "code",
   "execution_count": null,
   "metadata": {},
   "outputs": [],
   "source": [
    "bz1_map = remap.make_map(bz1, crval1, crval2, cdelt1, crota2, date_obs, verbose=False)\n",
    "bz1_map.peek(vmin=-100, vmax=100)"
   ]
  },
  {
   "cell_type": "code",
   "execution_count": null,
   "metadata": {},
   "outputs": [],
   "source": [
    "remap.plot_map_on_grid(bz1_map, vmin_percentile=0.5, vmax_percentile=99.5)"
   ]
  },
  {
   "cell_type": "code",
   "execution_count": null,
   "metadata": {},
   "outputs": [],
   "source": [
    "wcs_dict = remap.get_wcs_info(bz1_map, verbose=True)"
   ]
  },
  {
   "cell_type": "code",
   "execution_count": null,
   "metadata": {},
   "outputs": [],
   "source": [
    "bz_cea = remap.remap2cea(wcs_dict, bz1, debug=False)\n",
    "bz_cea.peek(vmin=-100, vmax=100)"
   ]
  },
  {
   "cell_type": "code",
   "execution_count": null,
   "metadata": {},
   "outputs": [],
   "source": [
    "bxc, byc, bzc, header = remap.bvec2cea(wcs_dict, bx1, by1, bz1, debug=False)\n",
    "bzc_map = Map(bzc, header)\n",
    "bxc_map = Map(bxc, header)\n",
    "byc_map = Map(byc, header)"
   ]
  },
  {
   "cell_type": "code",
   "execution_count": null,
   "metadata": {},
   "outputs": [],
   "source": [
    "iu.plot_images([bxc, byc, bzc], title=['Bx', 'By', 'Bz'], grid_shape=(1, 3), cmap='gray', figsize=(16, 7), aspect='auto', vmin=[-200,-200,-100], vmax=[200,200,100])"
   ]
  },
  {
   "cell_type": "markdown",
   "metadata": {},
   "source": [
    "---"
   ]
  },
  {
   "cell_type": "code",
   "execution_count": null,
   "metadata": {},
   "outputs": [],
   "source": [
    "crisp_im =  \"/mn/stornext/d18/lapalma/reduc/2020/2020-08-07/CRISP/cubes_nb/nb_6173_2020-08-07T08:22:14_scans=0-56_stokes_corrected_im.fits\"\n",
    "fits_header = iu.load_fits_header(crisp_im, out_dict=True)\n",
    "fits_info = iu.get_fits_info(crisp_im)"
   ]
  },
  {
   "cell_type": "code",
   "execution_count": null,
   "metadata": {},
   "outputs": [],
   "source": [
    "fits_info['xcent0'], fits_info['ycent0']"
   ]
  },
  {
   "cell_type": "code",
   "execution_count": null,
   "metadata": {},
   "outputs": [],
   "source": [
    "crval1 = -448\n",
    "crval2 = 283\n",
    "rescale = 2.0\n",
    "cdelt1 = 0.058 * rescale \n",
    "crota2 = 180.0\n",
    "date_obs = fits_header['DATE-OBS']"
   ]
  },
  {
   "cell_type": "code",
   "execution_count": null,
   "metadata": {},
   "outputs": [],
   "source": [
    "save_dir = '/mn/stornext/d9/data/avijeetp/1_Projects/61_QSEB_Topology/2020-08-07/'\n",
    "bxfile = save_dir + '6173_2020-08-07_T083019_2020-08-07_T083019_1721136823_sfq_bx.npy'\n",
    "byfile = save_dir + '6173_2020-08-07_T083019_2020-08-07_T083019_1721136823_sfq_by.npy'\n",
    "bzfile = save_dir + '6173_2020-08-07_T083019_2020-08-07_T083019_1721136823_sfq_bz.npy'"
   ]
  },
  {
   "cell_type": "code",
   "execution_count": null,
   "metadata": {},
   "outputs": [],
   "source": [
    "bx0 = np.load(bxfile)\n",
    "by0 = np.load(byfile)\n",
    "bz0 = np.load(bzfile)"
   ]
  },
  {
   "cell_type": "code",
   "execution_count": null,
   "metadata": {},
   "outputs": [],
   "source": [
    "iu.plot_images([bx0, by0, bz0], title=['Bx', 'By','Bz'], fontsize=10, figsize=(12,5), cmap='seismic', grid_shape=(1, 3) )"
   ]
  },
  {
   "cell_type": "code",
   "execution_count": null,
   "metadata": {},
   "outputs": [],
   "source": [
    "fov=0\n",
    "bx1 = iu.make_north_up(bx0, fov).T\n",
    "by1 = iu.make_north_up(by0, fov).T\n",
    "bz1 = iu.make_north_up(bz0, fov).T\n",
    "\n",
    "bx2 = -by1 # Because remap2cea expects -bx, also bx, by could be swapped here\n",
    "by2 = bx1\n",
    "bz2 = bz1\n",
    "iu.plot_images([bx2, by2, bz2], title=['Bx', 'By','Bz'], fontsize=10, figsize=(12,5), cmap='seismic', grid_shape=(1, 3), aspect='equal' )"
   ]
  },
  {
   "cell_type": "code",
   "execution_count": null,
   "metadata": {},
   "outputs": [],
   "source": [
    "# data = np.nan_to_num(data)\n",
    "bx3 = scipy.ndimage.rotate(bx2, crota2, reshape=True)\n",
    "by3 = scipy.ndimage.rotate(by2, crota2, reshape=True)\n",
    "bz3 = scipy.ndimage.rotate(bz2, crota2, reshape=True)"
   ]
  },
  {
   "cell_type": "code",
   "execution_count": null,
   "metadata": {},
   "outputs": [],
   "source": [
    "iu.plot_images([bx3, by3, bz3], title=['Bx', 'By','Bz'], fontsize=10, figsize=(12,5), cmap='seismic', grid_shape=(1, 3) )"
   ]
  },
  {
   "cell_type": "code",
   "execution_count": null,
   "metadata": {},
   "outputs": [],
   "source": [
    "bz3_map = remap.make_map(bz3, crval1, crval2, cdelt1, crota2, date_obs, verbose=False)\n",
    "bz3_map.peek()"
   ]
  },
  {
   "cell_type": "code",
   "execution_count": null,
   "metadata": {},
   "outputs": [],
   "source": [
    "remap.plot_map_on_grid(bz3_map, vmin_percentile=0.5, vmax_percentile=99.5)"
   ]
  },
  {
   "cell_type": "code",
   "execution_count": null,
   "metadata": {},
   "outputs": [],
   "source": [
    "wcs_dict = remap.get_wcs_info(bz3_map, verbose=True)"
   ]
  },
  {
   "cell_type": "code",
   "execution_count": null,
   "metadata": {},
   "outputs": [],
   "source": [
    "importlib.reload(remap)\n",
    "bz_cea = remap.remap2cea(wcs_dict, bz3, debug=False)\n",
    "bz_cea.peek()"
   ]
  },
  {
   "cell_type": "code",
   "execution_count": null,
   "metadata": {},
   "outputs": [],
   "source": [
    "\n",
    "# peff, lat_it, lon_it, latc, bz_cea = remap.remap2cea(wcs_dict, bz1.T, deltal=deltal, debug=False)\n",
    "# Fx -> -Bx with 180 deg rotation\n",
    "# Fy -> By with 180 deg rotation\n",
    "# Fz -> Bz with 180 deg rotation\n",
    "bxc, byc, bzc, header = remap.bvec2cea(wcs_dict, bx3, by3, bz3, debug=False)"
   ]
  },
  {
   "cell_type": "code",
   "execution_count": null,
   "metadata": {},
   "outputs": [],
   "source": [
    "bzc_map = Map(bzc, header)\n",
    "bxc_map = Map(bxc, header)\n",
    "byc_map = Map(byc, header)"
   ]
  },
  {
   "cell_type": "code",
   "execution_count": null,
   "metadata": {},
   "outputs": [],
   "source": [
    "iu.plot_images([bxc, byc, bzc], title=['Bx', 'By', 'Bz'], grid_shape=(1, 3), cmap='seismic', figsize=(16, 7), aspect='auto')"
   ]
  },
  {
   "cell_type": "code",
   "execution_count": null,
   "metadata": {},
   "outputs": [],
   "source": [
    "iu.plot_images([bx3, by3, bz3, bxc, byc, bzc], title=['Fx', 'Fy', 'Fz', 'Bx', 'By', 'Bz'], grid_shape=(2, 3), cmap='seismic', figsize=(15, 11), aspect='auto')"
   ]
  },
  {
   "cell_type": "markdown",
   "metadata": {},
   "source": [
    "---"
   ]
  },
  {
   "cell_type": "code",
   "execution_count": null,
   "metadata": {},
   "outputs": [],
   "source": [
    "# crisp_im = '/mn/stornext/d18/lapalma/reduc/2021/2021-06-22/CHROMIS/cubes_nb/nb_4846_2021-06-22T08:17:48_scans=0-425_corrected_cmapcorr_im.fits'\n",
    "# chromis_im = crisp_im\n",
    "# data_cube, mask = iu.load_crisp_fits_all_timesteps(chromis_im)\n",
    "# best_frame, best_frame_index, contrasts = iu.best_contrast_frame(data_cube, mask=mask)\n"
   ]
  },
  {
   "cell_type": "code",
   "execution_count": null,
   "metadata": {},
   "outputs": [],
   "source": [
    "# # data_dir = '/mn/stornext/d18/lapalma/reduc/2021/2021-06-22/CRISP/cubes_nb/'\n",
    "# # crisp_im = data_dir +  'nb_6173_2021-06-22T08:17:48_scans=0-162_stokes_corrected_im.fits'\n",
    "\n",
    "# crisp_im = '/mn/stornext/d18/lapalma/reduc/2021/2021-06-22/CHROMIS/cubes_nb/nb_4846_2021-06-22T08:17:48_scans=0-425_corrected_cmapcorr_im.fits'\n",
    "# chromis_im = crisp_im\n",
    "# data_cube, mask = iu.load_crisp_fits_all_timesteps(chromis_im)\n",
    "# best_frame, best_frame_index, contrasts = iu.best_contrast_frame(data_cube, mask=mask)\n"
   ]
  },
  {
   "cell_type": "code",
   "execution_count": null,
   "metadata": {},
   "outputs": [],
   "source": [
    "# fits_header = iu.load_fits_header(crisp_im, out_dict=True)\n",
    "# fits_info = iu.get_fits_info(crisp_im)\n",
    "\n",
    "# crval1 = 7.0\n",
    "# crval2 = 826\n",
    "# cdelt1 = 0.058 \n",
    "\n",
    "# rescale = 1.0\n",
    "# crota2 = 180.0\n",
    "\n",
    "# date_obs = fits_header['DATE-OBS']\n",
    "# cdelt1 *= rescale\n",
    "\n",
    "# data = iu.load_crisp_fits(crisp_im, 0)   \n",
    "# print(data.shape)\n",
    "# rotate = 62.8\n",
    "# data = data[:,:,0,7]\n",
    "# data[data < 0.2] = np.nan\n",
    "# plt.imshow(data)\n",
    "\n",
    "# data = np.nan_to_num(data)\n",
    "# data = scipy.ndimage.rotate(data, rotate, reshape=True)\n",
    "# data = scipy.ndimage.rotate(data, crota2, reshape=True)\n",
    "# data[data < 0.2] = np.nan\n",
    "\n",
    "# data_map = remap.make_map(data, crval1, crval2, cdelt1, crota2, date_obs, verbose=False)\n",
    "# data_map.peek()\n",
    "\n",
    "# data_map.wcs\n",
    "# data_map.bottom_left_coord\n",
    "# remap.plot_map_on_grid(data_map, vmin_percentile=0.5, vmax_percentile=99.5)\n",
    "# wcs_dict = remap.get_wcs_info(data_map, verbose=True)\n",
    "# data_cea = remap.remap2cea(wcs_dict, data, debug=False, fix_nan=False)\n",
    "# data_cea.peek()\n",
    "# remap.plot_map_on_grid(data_cea, vmin_percentile=0.5, vmax_percentile=99.5, project_dc=True)"
   ]
  }
 ],
 "metadata": {
  "kernelspec": {
   "display_name": "pymilne",
   "language": "python",
   "name": "python3"
  },
  "language_info": {
   "codemirror_mode": {
    "name": "ipython",
    "version": 3
   },
   "file_extension": ".py",
   "mimetype": "text/x-python",
   "name": "python",
   "nbconvert_exporter": "python",
   "pygments_lexer": "ipython3",
   "version": "3.12.2"
  }
 },
 "nbformat": 4,
 "nbformat_minor": 2
}
